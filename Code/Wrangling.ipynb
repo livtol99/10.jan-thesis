{
 "cells": [
  {
   "cell_type": "code",
   "execution_count": 14,
   "metadata": {},
   "outputs": [],
   "source": [
    "#load libraries for data wrangling\n",
    "import pandas as pd\n",
    "import re\n",
    "import numpy as np\n",
    "import matplotlib.pyplot as plt\n",
    "from datetime import datetime\n",
    "import seaborn as sns\n",
    "import os\n",
    "import dask.dataframe as dd\n",
    "import csv\n",
    "import importlib\n",
    "\n",
    "\n",
    "#load function files\n",
    "import Functions \n",
    "from Functions import * "
   ]
  },
  {
   "cell_type": "code",
   "execution_count": 16,
   "metadata": {},
   "outputs": [
    {
     "data": {
      "text/plain": [
       "<module 'Functions' from '/home/livtollanes/10.jan-thesis/Code/Functions.py'>"
      ]
     },
     "execution_count": 16,
     "metadata": {},
     "output_type": "execute_result"
    }
   ],
   "source": [
    "importlib.reload(Functions)"
   ]
  },
  {
   "cell_type": "markdown",
   "metadata": {},
   "source": [
    "### Data inspection"
   ]
  },
  {
   "cell_type": "code",
   "execution_count": 20,
   "metadata": {},
   "outputs": [
    {
     "data": {
      "text/plain": [
       "dict_keys(['marker_bios', 'marker_followers_bios', 'marker_followers', 'marker_friends', 'readme'])"
      ]
     },
     "execution_count": 20,
     "metadata": {},
     "output_type": "execute_result"
    }
   ],
   "source": [
    "data_path = \"/home/livtollanes/SocialMarkers\"\n",
    "data = load_data(data_path)\n",
    "\n",
    "#what does data contain?\n",
    "data.keys()\n"
   ]
  },
  {
   "cell_type": "code",
   "execution_count": 19,
   "metadata": {},
   "outputs": [
    {
     "name": "stdout",
     "output_type": "stream",
     "text": [
      "First few rows of 'marker_bios':\n",
      "  twitter_name           id screen_name           name  \\\n",
      "0         Nike  415859364.0        Nike           Nike   \n",
      "1     adidasFR   25487201.0    adidasFR  adidas France   \n",
      "2      Lacoste   18481641.0     Lacoste        Lacoste   \n",
      "3     Converse  183398746.0    Converse       Converse   \n",
      "4      Moncler  187897893.0     Moncler        Moncler   \n",
      "\n",
      "                                         description  \\\n",
      "0               #BlackLivesMatter and #StopAsianHate   \n",
      "1                       𝕭𝖎𝖊𝖓𝖛𝖊𝖓𝖚𝖊 𝖆𝖚 𝕮𝖑𝖚𝖇 𝕺𝖗𝖎𝖌𝖎𝖓𝖆𝖑𝖘.   \n",
      "2  Moving with the world for 90 years. 🐊 #Lacoste...   \n",
      "3  Get inspired by the next generation of artists...   \n",
      "4  Born in the mountains, lives in the city. The ...   \n",
      "\n",
      "                                      url  timestamp_utc           local_time  \\\n",
      "0                         http://nike.com   1.321655e+09  2011-11-18T22:31:18   \n",
      "1    http://adidas.fr/impossibleisnothing   1.237546e+09  2009-03-20T10:46:03   \n",
      "2                 http://laco.st/HLXGdSFA   1.230656e+09  2008-12-30T17:00:44   \n",
      "3                     http://Converse.com   1.282862e+09  2010-08-26T22:28:23   \n",
      "4  http://monclerworld.moncler.com/genius   1.283864e+09  2010-09-07T12:54:05   \n",
      "\n",
      "                location  verified  ...   tweets  followers  friends   likes  \\\n",
      "0      Beaverton, Oregon       0.0  ...  38240.0  9788339.0    117.0  6958.0   \n",
      "1                  Paris       0.0  ...  16680.0   393006.0   1282.0  5287.0   \n",
      "2          Paris, France       0.0  ...   9852.0  1074248.0     86.0  5842.0   \n",
      "3  Boston, Massachusetts       0.0  ...   9937.0  1035205.0     24.0  7156.0   \n",
      "4              Worldwide       0.0  ...   4381.0  1108498.0    174.0  5714.0   \n",
      "\n",
      "     lists                                              image default_profile  \\\n",
      "0  11521.0  https://pbs.twimg.com/profile_images/153204435...             0.0   \n",
      "1    433.0  https://pbs.twimg.com/profile_images/156487532...             0.0   \n",
      "2   3430.0  https://pbs.twimg.com/profile_images/165379221...             0.0   \n",
      "3   2011.0  https://pbs.twimg.com/profile_images/875776501...             0.0   \n",
      "4    790.0  https://pbs.twimg.com/profile_images/646715077...             0.0   \n",
      "\n",
      "   default_profile_image  witheld_in_countries  witheld_scope  \n",
      "0                    0.0                   NaN            NaN  \n",
      "1                    0.0                   NaN            NaN  \n",
      "2                    0.0                   NaN            NaN  \n",
      "3                    0.0                   NaN            NaN  \n",
      "4                    0.0                   NaN            NaN  \n",
      "\n",
      "[5 rows x 21 columns]\n",
      "First few rows of 'marker_followers_bios':\n",
      "     twitter_id            id      screen_name           name  \\\n",
      "0  3.342215e+09  3.342215e+09      titisanogo8    Titi sanogo   \n",
      "1  3.115496e+09  3.115496e+09     AndreDeybach  DEYBACH André   \n",
      "2  2.440750e+08  2.440750e+08  matttownley1985   Matt Townley   \n",
      "3  2.986463e+09  2.986463e+09   alex_guevara90          Alex    \n",
      "4  1.519279e+18  1.519279e+18       PilotDad87           Matt   \n",
      "\n",
      "                                         description  url  timestamp_utc  \\\n",
      "0  Je crois en DIEU et à mon travail j'y arrivera...  NaN   1.435018e+09   \n",
      "1                                                NaN  NaN   1.427309e+09   \n",
      "2  Hotelier, traveller, fan of all things hospita...  NaN   1.296221e+09   \n",
      "3                          to all MI b**** what's up  NaN   1.421473e+09   \n",
      "4  Pilot. dad. husband. Catholic. Recteq master. ...  NaN   1.651059e+09   \n",
      "\n",
      "            local_time               location  verified  ...  tweets  \\\n",
      "0  2015-06-23T00:05:44  Ile-de-France, France       0.0  ...     6.0   \n",
      "1  2015-03-25T18:45:08                    NaN       0.0  ...     0.0   \n",
      "2  2011-01-28T13:16:35    Manchester, England       0.0  ...  2535.0   \n",
      "3  2015-01-17T05:35:10                    NaN       0.0  ...    12.0   \n",
      "4  2022-04-27T11:36:23         Greenville, NC       0.0  ...    43.0   \n",
      "\n",
      "   followers  friends   likes  lists  \\\n",
      "0       44.0    733.0    91.0    0.0   \n",
      "1        1.0     40.0     0.0    0.0   \n",
      "2      772.0   1264.0  1251.0    7.0   \n",
      "3        8.0    118.0   172.0    0.0   \n",
      "4       14.0    137.0  2069.0    0.0   \n",
      "\n",
      "                                               image default_profile  \\\n",
      "0  https://pbs.twimg.com/profile_images/124939439...             1.0   \n",
      "1  https://pbs.twimg.com/profile_images/580803690...             1.0   \n",
      "2  https://pbs.twimg.com/profile_images/928075998...             0.0   \n",
      "3  https://pbs.twimg.com/profile_images/556324296...             1.0   \n",
      "4  https://pbs.twimg.com/profile_images/151928687...             1.0   \n",
      "\n",
      "   default_profile_image  witheld_in_countries  witheld_scope  \n",
      "0                    0.0                   NaN            NaN  \n",
      "1                    0.0                   NaN            NaN  \n",
      "2                    0.0                   NaN            NaN  \n",
      "3                    0.0                   NaN            NaN  \n",
      "4                    0.0                   NaN            NaN  \n",
      "\n",
      "[5 rows x 21 columns]\n",
      "First few rows of 'marker_followers':\n",
      "            id cursor   follower_id\n",
      "0  415859364.0    NaN  1.655337e+18\n",
      "1  415859364.0    NaN  1.659648e+18\n",
      "2  415859364.0    NaN  1.525534e+18\n",
      "3  415859364.0    NaN  1.659649e+18\n",
      "4  415859364.0    NaN  1.659649e+18\n",
      "First few rows of 'marker_friends':\n",
      "            id cursor     friend_id\n",
      "0  415859364.0    NaN  1.529870e+18\n",
      "1  415859364.0    NaN  1.122469e+18\n",
      "2  415859364.0    NaN  7.612210e+17\n",
      "3  415859364.0    NaN  1.221308e+08\n",
      "4  415859364.0    NaN  1.725138e+09\n",
      "First few rows of 'readme':\n",
      "# twitter data collection of french \"markers\"\n",
      "# collected by armin pournaki on 2023-05-19\n",
      "\n",
      "* markers_bios_2023-05-19.csv\n",
      "twitter account metadata of 237 markers in minet user format\n",
      "\n",
      "* markers_followers_2023-05-19.csv\n",
      "| id                   | cursor       | follower_id            |\n",
      "|----------------------+--------------+------------------------|\n",
      "| twitter id of marker | minet cursor | twitter id of follower |\n",
      "\n",
      "* markers_friends_2023-05-19.csv\n",
      "| id                   | cursor       | friend_id            |\n",
      "|----------------------+--------------+----------------------|\n",
      "| twitter id of marker | minet cursor | twitter id of friend |\n",
      "\n",
      "* markers_followers_bios_2023-05-19.csv\n",
      "twitter account metadata (if non-private) of 70,666,646 followers in minet user format\n",
      "\n"
     ]
    }
   ],
   "source": [
    "#Print the first few rows of each DataFrame\n",
    "for name, df in data.items():\n",
    "    print(f\"First few rows of '{name}':\")\n",
    "    if isinstance(df, str):\n",
    "        print(df)\n",
    "    else:\n",
    "        print(df.head())"
   ]
  },
  {
   "cell_type": "code",
   "execution_count": null,
   "metadata": {},
   "outputs": [],
   "source": []
  }
 ],
 "metadata": {
  "kernelspec": {
   "display_name": "10.1thesis",
   "language": "python",
   "name": "python3"
  },
  "language_info": {
   "codemirror_mode": {
    "name": "ipython",
    "version": 3
   },
   "file_extension": ".py",
   "mimetype": "text/x-python",
   "name": "python",
   "nbconvert_exporter": "python",
   "pygments_lexer": "ipython3",
   "version": "3.11.7"
  }
 },
 "nbformat": 4,
 "nbformat_minor": 2
}
