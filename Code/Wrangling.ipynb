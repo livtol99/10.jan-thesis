{
 "cells": [
  {
   "cell_type": "code",
   "execution_count": 48,
   "metadata": {},
   "outputs": [],
   "source": [
    "# Standard library imports\n",
    "import os\n",
    "import re\n",
    "import csv\n",
    "import sys\n",
    "import html\n",
    "from datetime import datetime\n",
    "from collections import defaultdict\n",
    "\n",
    "# Third-party library imports\n",
    "import pandas as pd\n",
    "import numpy as np\n",
    "import matplotlib.pyplot as plt\n",
    "import seaborn as sns\n",
    "import dask.dataframe as dd\n",
    "import psutil\n",
    "import pickle\n",
    "from nltk.corpus import stopwords\n",
    "from nltk.tokenize import word_tokenize\n",
    "\n",
    "# Local application/library specific imports\n",
    "import utils\n",
    "from utils import *\n",
    "\n",
    "\n",
    "\n",
    "from unidecode import unidecode\n",
    "import importlib"
   ]
  },
  {
   "cell_type": "markdown",
   "metadata": {},
   "source": [
    "## 1. Filtering french brands"
   ]
  },
  {
   "cell_type": "markdown",
   "metadata": {},
   "source": [
    "Here, we'll aim to select only the french brands. \n",
    "- One approach is to use language detection. Via the gcd3 library (?)\n",
    "- Another approach could be to look at location\n",
    "\n",
    "\n",
    "Plan:\n",
    "- Load the df of the brands and their bios. \n",
    "- Filter\n",
    "- Now, filter the reduced follower df based on these final french brands\n",
    "\n",
    "- are all users now french ? (look at combination of language and location - potentially drop those that does not have any usable indicator)\n",
    "\n",
    "\n",
    "- Might need to manually inspect these later on"
   ]
  },
  {
   "cell_type": "markdown",
   "metadata": {},
   "source": [
    "### Preprocessing data files"
   ]
  },
  {
   "cell_type": "code",
   "execution_count": 58,
   "metadata": {},
   "outputs": [],
   "source": [
    "#Load and rename markersIDs in markers_bios\n",
    "\n",
    "load_path = '/home/livtollanes/SocialMarkers'\n",
    "save_path = '/home/livtollanes/NewData'\n",
    "file = 'markers_bios_2023-05-19.csv'\n",
    "\n",
    "\n",
    "req_cols = ['twitter_name', 'id', 'screen_name', 'description', 'location', 'tweets', 'followers', 'friends', 'likes', 'lists','timestamp_utc']\n",
    "dtypes = {'twitter_name':'object', \n",
    "          'id': 'float64',\n",
    "          'screen_name': 'object', \n",
    "          'description': 'object',\n",
    "          'location': 'object',\n",
    "          'tweets': 'float64',\n",
    "          'followers': 'float64',\n",
    "          'friends': 'float64',\n",
    "          'likes': 'float64',\n",
    "          'lists': 'float64',\n",
    "          'timestamp_utc': 'float64'}\n",
    "\n",
    "new_column_names = {'id': 'marker_id'}\n",
    "\n",
    "markers_bios = utils.load_and_rename(load_path, save_path, file, req_cols, dtypes, new_column_names)\n"
   ]
  },
  {
   "cell_type": "code",
   "execution_count": 62,
   "metadata": {},
   "outputs": [],
   "source": [
    "#Load and rename markers followers\n",
    "load_path = '/home/livtollanes/SocialMarkers'\n",
    "save_path = '/home/livtollanes/NewData'\n",
    "file = 'markers_followers_2023-05-19.csv'\n",
    "\n",
    "req_cols = ['id', 'follower_id']\n",
    "dtypes = {'id': 'float64',\n",
    "          'follower_id': 'float64'}\n",
    "\n",
    "new_column_names = {'id': 'marker_id'}\n",
    "\n",
    "markers_followers = utils.load_and_rename(load_path, save_path, file, req_cols, dtypes, new_column_names)"
   ]
  },
  {
   "cell_type": "code",
   "execution_count": 63,
   "metadata": {},
   "outputs": [],
   "source": [
    "#Load and rename markers followers bios\n",
    "load_path = '/home/livtollanes/SocialMarkers'\n",
    "save_path = '/home/livtollanes/NewData'\n",
    "file = 'markers_followers_bios_2023-05-19.csv'\n",
    "\n",
    "\n",
    "req_cols = ['twitter_id', 'id', 'screen_name', 'description', 'location', 'tweets', 'followers', 'friends', 'likes', 'lists','timestamp_utc']\n",
    "\n",
    "dtypes = {\n",
    "    'twitter_id': 'int64',\n",
    "    'id': 'float64',\n",
    "    'screen_name': 'object',\n",
    "    'description': 'object',\n",
    "    'location': 'object',\n",
    "    'tweets': 'float64',\n",
    "    'followers': 'float64',\n",
    "    'friends': 'float64',\n",
    "    'witheld_in_countries': 'float64'\n",
    "}\n",
    "\n",
    "new_column_names = {'id': 'follower_id'}\n",
    "\n",
    "follower_bios = utils.load_and_rename(load_path, save_path, file, req_cols, dtypes, new_column_names)"
   ]
  },
  {
   "cell_type": "code",
   "execution_count": 64,
   "metadata": {},
   "outputs": [
    {
     "name": "stdout",
     "output_type": "stream",
     "text": [
      "Printing lines from file: markers_bios_2023-05-19.csv\n",
      "twitter_name,marker_id,screen_name,description,timestamp_utc,location,tweets,followers,friends,likes,lists\n",
      "\n",
      "Printing lines from file: markers_followers_2023-05-19.csv\n",
      "marker_id,follower_id\n",
      "\n",
      "Printing lines from file: markers_followers_bios_2023-05-19.csv\n",
      "twitter_id,follower_id,screen_name,description,timestamp_utc,location,tweets,followers,friends,likes,lists\n",
      "\n"
     ]
    }
   ],
   "source": [
    "#reload(utils)\n",
    "importlib.reload(utils)\n",
    "\n",
    "#How is my data delimited?\n",
    "path = '/home/livtollanes/NewData'\n",
    "file1 = 'markers_bios_2023-05-19.csv'\n",
    "file2 = 'markers_followers_2023-05-19.csv'\n",
    "file3 = 'markers_followers_bios_2023-05-19.csv'\n",
    "\n",
    "\n",
    "utils.print_lines(path, file1, 0,1)\n",
    "utils.print_lines(path, file2, 0,1)\n",
    "utils.print_lines(path, file3, 0,1)\n",
    "\n",
    "#The data is comma delimited"
   ]
  },
  {
   "cell_type": "markdown",
   "metadata": {},
   "source": [
    "### Now filtering on language"
   ]
  },
  {
   "cell_type": "code",
   "execution_count": 65,
   "metadata": {},
   "outputs": [
    {
     "name": "stdout",
     "output_type": "stream",
     "text": [
      "Number of rows in markers_bios: 142\n",
      "Number of rows in markers_bios_other: 95\n"
     ]
    }
   ],
   "source": [
    "# Remove emojis, weird font, and detect language in descriptions\n",
    "\n",
    "# Process the descriptions in the DataFrame\n",
    "markers_bios = utils.process_description(markers_bios)\n",
    "\n",
    "# Ssplit the DataFrame by language\n",
    "markers_bios_french, markers_bios_other = utils.split_by_language(markers_bios, 'fr')\n",
    "\n",
    "# Finally, print information about the resulting DataFrames\n",
    "utils.print_df_info(markers_bios_french, 'markers_bios')\n",
    "utils.print_df_info(markers_bios_other, 'markers_bios_other')"
   ]
  },
  {
   "cell_type": "markdown",
   "metadata": {},
   "source": [
    "Manual inspection - did we miss any brands that are french?\n",
    "- This part was done by inspecting the data frame and looking up brands"
   ]
  },
  {
   "cell_type": "markdown",
   "metadata": {},
   "source": [
    "The brands that were incorrectly detected as non french:\n",
    "\n",
    "- 21: Lafuma_France\n",
    "- 30: CarrefourFrance\n",
    "- 36: CasinoEnseigne\n",
    "- 37: Supermarche_G20\n",
    "- 38: VogueFrance\n",
    "- 39: FigaroMagazine\n",
    "- 41: LeMediaTv\n",
    "- 48: BFMTV\n",
    "- 92: TeleLoisirs\n",
    "- 94: ParisMatch\n",
    "- 96: Telerama\n",
    "- 101: EntMagazine\n",
    "- 106: OnzeMondial\n",
    "- 113: GQ_France\n",
    "- 119: LEXPRESS\n",
    "- 121: courrrierinter\n",
    "- 124: RCLens\n",
    "- 128: OL\n",
    "- 129: ognice\n",
    "- 131: StadeDeReims\n",
    "- 133: MontpellierHSC\n",
    "- 135: RCSA\n",
    "- 171: HECParis\n",
    "- 178: SciencesPo\n",
    "- 181: Univbordeaux\n",
    "- 182: UnivLyon1\n",
    "- 199: UniversiteCergy\n",
    "- 202: centralesupelec\n",
    "- 208: ENSAEparis\n",
    "- 215: esdes_BS\n",
    "- 221: LaCoudouliere\n",
    "- 226: LyceeProTissie\n",
    "- 227: PSVLaTournelle\n",
    "- 230: Decathlon\n",
    "- 231: Darty_Officiel\n",
    "- 233: Fnac\n",
    "- 236: AmazonFrance"
   ]
  },
  {
   "cell_type": "code",
   "execution_count": 66,
   "metadata": {},
   "outputs": [
    {
     "name": "stdout",
     "output_type": "stream",
     "text": [
      "markers_bios_french:\n",
      "   twitter_name     marker_id  screen_name  \\\n",
      "1      adidasFR  2.548720e+07     adidasFR   \n",
      "9   ASICSFrance  3.042088e+09  ASICSFrance   \n",
      "10  KappaFrance  2.831937e+09  KappaFrance   \n",
      "27     franprix  1.023951e+08     franprix   \n",
      "28     Monoprix  6.247068e+07     Monoprix   \n",
      "\n",
      "                                          description  timestamp_utc location  \\\n",
      "1                        𝕭𝖎𝖊𝖓𝖛𝖊𝖓𝖚𝖊 𝖆𝖚 𝕮𝖑𝖚𝖇 𝕺𝖗𝖎𝖌𝖎𝖓𝖆𝖑𝖘.   1.237546e+09    Paris   \n",
      "9   A travers l'innovation, nous cherchons à t'ins...   1.424162e+09   France   \n",
      "10  Peu importe tes performances, l'important rest...   1.411656e+09   France   \n",
      "27  franprix, l'enseigne spécialiste de la proximi...   1.262791e+09   France   \n",
      "28  Mode, beauté, food & déco. Toutes vos courses ...   1.249288e+09      NaN   \n",
      "\n",
      "     tweets  followers  friends   likes  lists  \\\n",
      "1   16680.0   393006.0   1282.0  5287.0  433.0   \n",
      "9    1703.0    20485.0    104.0   641.0   98.0   \n",
      "10   3787.0    22493.0    532.0  4023.0   44.0   \n",
      "27   8225.0    11630.0    141.0  2306.0  175.0   \n",
      "28  30718.0    50806.0   4709.0  5940.0  570.0   \n",
      "\n",
      "                                    description_noems language  \\\n",
      "1                        Bienvenue au Club Originals.       fr   \n",
      "9   A travers l'innovation, nous cherchons a t'ins...       fr   \n",
      "10  Peu importe tes performances, l'important rest...       fr   \n",
      "27  franprix, l'enseigne specialiste de la proximi...       fr   \n",
      "28  Mode, beaute, food & deco. Toutes vos courses ...       fr   \n",
      "\n",
      "   corrected_language_country  \n",
      "1                         NaN  \n",
      "9                         NaN  \n",
      "10                        NaN  \n",
      "27                        NaN  \n",
      "28                        NaN  \n",
      "\\markers_bios_other:\n",
      "   twitter_name    marker_id   screen_name  \\\n",
      "0          Nike  415859364.0          Nike   \n",
      "2       Lacoste   18481641.0       Lacoste   \n",
      "3      Converse  183398746.0      Converse   \n",
      "4       Moncler  187897893.0       Moncler   \n",
      "5  lecoqsportif   80244351.0  lecoqsportif   \n",
      "\n",
      "                                         description  timestamp_utc  \\\n",
      "0               #BlackLivesMatter and #StopAsianHate   1.321655e+09   \n",
      "2  Moving with the world for 90 years. 🐊 #Lacoste...   1.230656e+09   \n",
      "3  Get inspired by the next generation of artists...   1.282862e+09   \n",
      "4  Born in the mountains, lives in the city. The ...   1.283864e+09   \n",
      "5  🐓 This is @lecoqsportif®'s official voice | 🪢 ...   1.254815e+09   \n",
      "\n",
      "                location   tweets  followers  friends    likes    lists  \\\n",
      "0      Beaverton, Oregon  38240.0  9788339.0    117.0   6958.0  11521.0   \n",
      "2          Paris, France   9852.0  1074248.0     86.0   5842.0   3430.0   \n",
      "3  Boston, Massachusetts   9937.0  1035205.0     24.0   7156.0   2011.0   \n",
      "4              Worldwide   4381.0  1108498.0    174.0   5714.0    790.0   \n",
      "5                  Paris  13579.0    76848.0    353.0  12680.0    311.0   \n",
      "\n",
      "                                   description_noems language  \\\n",
      "0               #BlackLivesMatter and #StopAsianHate       en   \n",
      "2  Moving with the world for 90 years. crocodile ...       en   \n",
      "3  Get inspired by the next generation of artists...       en   \n",
      "4  Born in the mountains, lives in the city. The ...       en   \n",
      "5  rooster This is @lecoqsportifregistered's offi...       en   \n",
      "\n",
      "  corrected_language_country  \n",
      "0                             \n",
      "2                             \n",
      "3                             \n",
      "4                             \n",
      "5                             \n",
      "Both dataframes were successfully written to CSV files.\n"
     ]
    },
    {
     "data": {
      "text/html": [
       "<div>\n",
       "<style scoped>\n",
       "    .dataframe tbody tr th:only-of-type {\n",
       "        vertical-align: middle;\n",
       "    }\n",
       "\n",
       "    .dataframe tbody tr th {\n",
       "        vertical-align: top;\n",
       "    }\n",
       "\n",
       "    .dataframe thead th {\n",
       "        text-align: right;\n",
       "    }\n",
       "</style>\n",
       "<table border=\"1\" class=\"dataframe\">\n",
       "  <thead>\n",
       "    <tr style=\"text-align: right;\">\n",
       "      <th></th>\n",
       "      <th>twitter_name</th>\n",
       "      <th>marker_id</th>\n",
       "      <th>screen_name</th>\n",
       "      <th>description</th>\n",
       "      <th>timestamp_utc</th>\n",
       "      <th>location</th>\n",
       "      <th>tweets</th>\n",
       "      <th>followers</th>\n",
       "      <th>friends</th>\n",
       "      <th>likes</th>\n",
       "      <th>lists</th>\n",
       "      <th>description_noems</th>\n",
       "      <th>language</th>\n",
       "      <th>corrected_language_country</th>\n",
       "    </tr>\n",
       "  </thead>\n",
       "  <tbody>\n",
       "    <tr>\n",
       "      <th>1</th>\n",
       "      <td>adidasFR</td>\n",
       "      <td>2.548720e+07</td>\n",
       "      <td>adidasFR</td>\n",
       "      <td>𝕭𝖎𝖊𝖓𝖛𝖊𝖓𝖚𝖊 𝖆𝖚 𝕮𝖑𝖚𝖇 𝕺𝖗𝖎𝖌𝖎𝖓𝖆𝖑𝖘.</td>\n",
       "      <td>1.237546e+09</td>\n",
       "      <td>Paris</td>\n",
       "      <td>16680.0</td>\n",
       "      <td>393006.0</td>\n",
       "      <td>1282.0</td>\n",
       "      <td>5287.0</td>\n",
       "      <td>433.0</td>\n",
       "      <td>Bienvenue au Club Originals.</td>\n",
       "      <td>fr</td>\n",
       "      <td>NaN</td>\n",
       "    </tr>\n",
       "    <tr>\n",
       "      <th>9</th>\n",
       "      <td>ASICSFrance</td>\n",
       "      <td>3.042088e+09</td>\n",
       "      <td>ASICSFrance</td>\n",
       "      <td>A travers l'innovation, nous cherchons à t'ins...</td>\n",
       "      <td>1.424162e+09</td>\n",
       "      <td>France</td>\n",
       "      <td>1703.0</td>\n",
       "      <td>20485.0</td>\n",
       "      <td>104.0</td>\n",
       "      <td>641.0</td>\n",
       "      <td>98.0</td>\n",
       "      <td>A travers l'innovation, nous cherchons a t'ins...</td>\n",
       "      <td>fr</td>\n",
       "      <td>NaN</td>\n",
       "    </tr>\n",
       "    <tr>\n",
       "      <th>10</th>\n",
       "      <td>KappaFrance</td>\n",
       "      <td>2.831937e+09</td>\n",
       "      <td>KappaFrance</td>\n",
       "      <td>Peu importe tes performances, l'important rest...</td>\n",
       "      <td>1.411656e+09</td>\n",
       "      <td>France</td>\n",
       "      <td>3787.0</td>\n",
       "      <td>22493.0</td>\n",
       "      <td>532.0</td>\n",
       "      <td>4023.0</td>\n",
       "      <td>44.0</td>\n",
       "      <td>Peu importe tes performances, l'important rest...</td>\n",
       "      <td>fr</td>\n",
       "      <td>NaN</td>\n",
       "    </tr>\n",
       "    <tr>\n",
       "      <th>27</th>\n",
       "      <td>franprix</td>\n",
       "      <td>1.023951e+08</td>\n",
       "      <td>franprix</td>\n",
       "      <td>franprix, l'enseigne spécialiste de la proximi...</td>\n",
       "      <td>1.262791e+09</td>\n",
       "      <td>France</td>\n",
       "      <td>8225.0</td>\n",
       "      <td>11630.0</td>\n",
       "      <td>141.0</td>\n",
       "      <td>2306.0</td>\n",
       "      <td>175.0</td>\n",
       "      <td>franprix, l'enseigne specialiste de la proximi...</td>\n",
       "      <td>fr</td>\n",
       "      <td>NaN</td>\n",
       "    </tr>\n",
       "    <tr>\n",
       "      <th>28</th>\n",
       "      <td>Monoprix</td>\n",
       "      <td>6.247068e+07</td>\n",
       "      <td>Monoprix</td>\n",
       "      <td>Mode, beauté, food &amp; déco. Toutes vos courses ...</td>\n",
       "      <td>1.249288e+09</td>\n",
       "      <td>NaN</td>\n",
       "      <td>30718.0</td>\n",
       "      <td>50806.0</td>\n",
       "      <td>4709.0</td>\n",
       "      <td>5940.0</td>\n",
       "      <td>570.0</td>\n",
       "      <td>Mode, beaute, food &amp; deco. Toutes vos courses ...</td>\n",
       "      <td>fr</td>\n",
       "      <td>NaN</td>\n",
       "    </tr>\n",
       "    <tr>\n",
       "      <th>...</th>\n",
       "      <td>...</td>\n",
       "      <td>...</td>\n",
       "      <td>...</td>\n",
       "      <td>...</td>\n",
       "      <td>...</td>\n",
       "      <td>...</td>\n",
       "      <td>...</td>\n",
       "      <td>...</td>\n",
       "      <td>...</td>\n",
       "      <td>...</td>\n",
       "      <td>...</td>\n",
       "      <td>...</td>\n",
       "      <td>...</td>\n",
       "      <td>...</td>\n",
       "    </tr>\n",
       "    <tr>\n",
       "      <th>227</th>\n",
       "      <td>PSVLaTournelle</td>\n",
       "      <td>1.179072e+18</td>\n",
       "      <td>PSVLaTournelle</td>\n",
       "      <td>NaN</td>\n",
       "      <td>1.569948e+09</td>\n",
       "      <td>PONT SAINT VINCENT (54)</td>\n",
       "      <td>592.0</td>\n",
       "      <td>289.0</td>\n",
       "      <td>282.0</td>\n",
       "      <td>506.0</td>\n",
       "      <td>3.0</td>\n",
       "      <td></td>\n",
       "      <td>unknown</td>\n",
       "      <td>fr</td>\n",
       "    </tr>\n",
       "    <tr>\n",
       "      <th>230</th>\n",
       "      <td>Decathlon</td>\n",
       "      <td>1.262671e+08</td>\n",
       "      <td>Decathlon</td>\n",
       "      <td>À fond la forme</td>\n",
       "      <td>1.269508e+09</td>\n",
       "      <td>Villeneuve d'Ascq (59,France)</td>\n",
       "      <td>13167.0</td>\n",
       "      <td>170643.0</td>\n",
       "      <td>372.0</td>\n",
       "      <td>5286.0</td>\n",
       "      <td>382.0</td>\n",
       "      <td>A fond la forme</td>\n",
       "      <td>en</td>\n",
       "      <td>fr</td>\n",
       "    </tr>\n",
       "    <tr>\n",
       "      <th>231</th>\n",
       "      <td>Darty_Officiel</td>\n",
       "      <td>1.956809e+08</td>\n",
       "      <td>Darty_Officiel</td>\n",
       "      <td>Suivez toute l'actualité de #Darty : bons plan...</td>\n",
       "      <td>1.285581e+09</td>\n",
       "      <td>France</td>\n",
       "      <td>22200.0</td>\n",
       "      <td>115315.0</td>\n",
       "      <td>156.0</td>\n",
       "      <td>1272.0</td>\n",
       "      <td>379.0</td>\n",
       "      <td>Suivez toute l'actualite de #Darty : bons plan...</td>\n",
       "      <td>en</td>\n",
       "      <td>fr</td>\n",
       "    </tr>\n",
       "    <tr>\n",
       "      <th>233</th>\n",
       "      <td>Fnac</td>\n",
       "      <td>8.806412e+06</td>\n",
       "      <td>Fnac</td>\n",
       "      <td>Compte officiel de la #Fnac : Actu High Tech /...</td>\n",
       "      <td>1.189502e+09</td>\n",
       "      <td>France</td>\n",
       "      <td>220101.0</td>\n",
       "      <td>501158.0</td>\n",
       "      <td>1136.0</td>\n",
       "      <td>6135.0</td>\n",
       "      <td>1056.0</td>\n",
       "      <td>Compte officiel de la #Fnac : Actu High Tech /...</td>\n",
       "      <td>en</td>\n",
       "      <td>fr</td>\n",
       "    </tr>\n",
       "    <tr>\n",
       "      <th>236</th>\n",
       "      <td>AmazonFrance</td>\n",
       "      <td>3.823964e+09</td>\n",
       "      <td>AmazonFrance</td>\n",
       "      <td>Official Twitter of http://Amazon.fr  Contact ...</td>\n",
       "      <td>1.443616e+09</td>\n",
       "      <td>France</td>\n",
       "      <td>80.0</td>\n",
       "      <td>5507.0</td>\n",
       "      <td>1.0</td>\n",
       "      <td>111.0</td>\n",
       "      <td>27.0</td>\n",
       "      <td>Official Twitter of http://Amazon.fr  Contact ...</td>\n",
       "      <td>en</td>\n",
       "      <td>fr</td>\n",
       "    </tr>\n",
       "  </tbody>\n",
       "</table>\n",
       "<p>179 rows × 14 columns</p>\n",
       "</div>"
      ],
      "text/plain": [
       "       twitter_name     marker_id     screen_name  \\\n",
       "1          adidasFR  2.548720e+07        adidasFR   \n",
       "9       ASICSFrance  3.042088e+09     ASICSFrance   \n",
       "10      KappaFrance  2.831937e+09     KappaFrance   \n",
       "27         franprix  1.023951e+08        franprix   \n",
       "28         Monoprix  6.247068e+07        Monoprix   \n",
       "..              ...           ...             ...   \n",
       "227  PSVLaTournelle  1.179072e+18  PSVLaTournelle   \n",
       "230       Decathlon  1.262671e+08       Decathlon   \n",
       "231  Darty_Officiel  1.956809e+08  Darty_Officiel   \n",
       "233            Fnac  8.806412e+06            Fnac   \n",
       "236    AmazonFrance  3.823964e+09    AmazonFrance   \n",
       "\n",
       "                                           description  timestamp_utc  \\\n",
       "1                         𝕭𝖎𝖊𝖓𝖛𝖊𝖓𝖚𝖊 𝖆𝖚 𝕮𝖑𝖚𝖇 𝕺𝖗𝖎𝖌𝖎𝖓𝖆𝖑𝖘.   1.237546e+09   \n",
       "9    A travers l'innovation, nous cherchons à t'ins...   1.424162e+09   \n",
       "10   Peu importe tes performances, l'important rest...   1.411656e+09   \n",
       "27   franprix, l'enseigne spécialiste de la proximi...   1.262791e+09   \n",
       "28   Mode, beauté, food & déco. Toutes vos courses ...   1.249288e+09   \n",
       "..                                                 ...            ...   \n",
       "227                                                NaN   1.569948e+09   \n",
       "230                                    À fond la forme   1.269508e+09   \n",
       "231  Suivez toute l'actualité de #Darty : bons plan...   1.285581e+09   \n",
       "233  Compte officiel de la #Fnac : Actu High Tech /...   1.189502e+09   \n",
       "236  Official Twitter of http://Amazon.fr  Contact ...   1.443616e+09   \n",
       "\n",
       "                          location    tweets  followers  friends   likes  \\\n",
       "1                            Paris   16680.0   393006.0   1282.0  5287.0   \n",
       "9                           France    1703.0    20485.0    104.0   641.0   \n",
       "10                          France    3787.0    22493.0    532.0  4023.0   \n",
       "27                          France    8225.0    11630.0    141.0  2306.0   \n",
       "28                             NaN   30718.0    50806.0   4709.0  5940.0   \n",
       "..                             ...       ...        ...      ...     ...   \n",
       "227        PONT SAINT VINCENT (54)     592.0      289.0    282.0   506.0   \n",
       "230  Villeneuve d'Ascq (59,France)   13167.0   170643.0    372.0  5286.0   \n",
       "231                         France   22200.0   115315.0    156.0  1272.0   \n",
       "233                         France  220101.0   501158.0   1136.0  6135.0   \n",
       "236                         France      80.0     5507.0      1.0   111.0   \n",
       "\n",
       "      lists                                  description_noems language  \\\n",
       "1     433.0                       Bienvenue au Club Originals.       fr   \n",
       "9      98.0  A travers l'innovation, nous cherchons a t'ins...       fr   \n",
       "10     44.0  Peu importe tes performances, l'important rest...       fr   \n",
       "27    175.0  franprix, l'enseigne specialiste de la proximi...       fr   \n",
       "28    570.0  Mode, beaute, food & deco. Toutes vos courses ...       fr   \n",
       "..      ...                                                ...      ...   \n",
       "227     3.0                                                     unknown   \n",
       "230   382.0                                    A fond la forme       en   \n",
       "231   379.0  Suivez toute l'actualite de #Darty : bons plan...       en   \n",
       "233  1056.0  Compte officiel de la #Fnac : Actu High Tech /...       en   \n",
       "236    27.0  Official Twitter of http://Amazon.fr  Contact ...       en   \n",
       "\n",
       "    corrected_language_country  \n",
       "1                          NaN  \n",
       "9                          NaN  \n",
       "10                         NaN  \n",
       "27                         NaN  \n",
       "28                         NaN  \n",
       "..                         ...  \n",
       "227                         fr  \n",
       "230                         fr  \n",
       "231                         fr  \n",
       "233                         fr  \n",
       "236                         fr  \n",
       "\n",
       "[179 rows x 14 columns]"
      ]
     },
     "execution_count": 66,
     "metadata": {},
     "output_type": "execute_result"
    }
   ],
   "source": [
    "# Add extra brands that were incorrectly defined as non-french:\n",
    "indices_to_change = [21, 30, 36, 37, 38, 39, 41, 48, 92, 94, 96, 101, 106, 113, 119, 121, 124, 128, 129, 131, 133, 135, 171, 178, 181, 182, 199, 202, 208, 215, 221, 226, 227, 230, 231, 233, 236]\n",
    "\n",
    "#Add and save file\n",
    "path_tosave = '/home/livtollanes/NewData/workdata'\n",
    "utils.add_extrabrands(indices_to_change, markers_bios_other, markers_bios_french, path_tosave)"
   ]
  },
  {
   "cell_type": "markdown",
   "metadata": {},
   "source": [
    "So far, in this section, we have been working with the bios of the markers. We deleted all rows that were from brands that were not french. The final output of this section includes two dfs: one for the french brands and one for other brands (only selected columns)\n",
    "\n",
    "In the next section, we will load the data with user bios and metadata. We will filter based on certain metrics, and also ignore all connections between followers and non french brands"
   ]
  },
  {
   "cell_type": "markdown",
   "metadata": {},
   "source": [
    "## 2. Finding french brands and their followers"
   ]
  },
  {
   "cell_type": "markdown",
   "metadata": {},
   "source": [
    "- In this part, we want to filter the data to only include french brands with 10 000 or more followers"
   ]
  },
  {
   "cell_type": "code",
   "execution_count": 68,
   "metadata": {},
   "outputs": [
    {
     "name": "stdout",
     "output_type": "stream",
     "text": [
      "marker_id,follower_id\n",
      "\n",
      "415859364.0,1.6553368048311747e+18\n",
      "\n",
      "415859364.0,1.6596481414974543e+18\n",
      "\n",
      "415859364.0,1.525534139478311e+18\n",
      "\n",
      "415859364.0,1.6596488832096748e+18\n",
      "\n"
     ]
    }
   ],
   "source": [
    "#Take a look at the data (Of the markers and their followers)\n",
    "path = '/home/livtollanes/NewData/'\n",
    "file = 'markers_followers_2023-05-19.csv'\n",
    "\n",
    "\n",
    "def print_lines(path, file, start_line=0, end_line=5):\n",
    "    with open(f\"{path}/{file}\", 'r') as f:\n",
    "        for i in range(end_line):\n",
    "            line = f.readline()\n",
    "            if i >= start_line:\n",
    "                print(line)\n",
    "\n",
    "print_lines(path, file)\n"
   ]
  },
  {
   "cell_type": "code",
   "execution_count": 78,
   "metadata": {},
   "outputs": [
    {
     "name": "stdout",
     "output_type": "stream",
     "text": [
      "Removed 106747455 rows.\n",
      "19597957 rows are left.\n"
     ]
    }
   ],
   "source": [
    "markers_followers_french = utils.streamline_ids(markers_followers, 'marker_id', markers_bios_french, 'marker_id')\n"
   ]
  },
  {
   "cell_type": "code",
   "execution_count": 79,
   "metadata": {},
   "outputs": [],
   "source": [
    "# Save the filtered data\n",
    "markers_followers_french .to_csv('/home/livtollanes/NewData/workdata/french_markers_followers_2023-05-19.csv', index=False)"
   ]
  },
  {
   "cell_type": "markdown",
   "metadata": {},
   "source": [
    "- Now, we have data for the french markers and their followers (markers_followers_french )\n",
    "- we also have a df with all french markers and their bios (markers_bios_french)"
   ]
  },
  {
   "cell_type": "markdown",
   "metadata": {},
   "source": [
    "Followers per brand - only including those with 10 000 +"
   ]
  },
  {
   "cell_type": "code",
   "execution_count": 86,
   "metadata": {},
   "outputs": [
    {
     "name": "stdout",
     "output_type": "stream",
     "text": [
      "102\n"
     ]
    }
   ],
   "source": [
    "# How many followers are there per brand? - faster to read the csv file rather than directly using the df\n",
    "importlib.reload(utils)\n",
    "\n",
    "filepath = '/home/livtollanes/NewData/workdata/french_markers_followers_2023-05-19.csv'\n",
    "followers_per_brand_count = utils.create_followers_per_brand_dict(filepath)\n",
    "\n",
    "# Filter the dictionary to only include brands with more or equal to 10,000 followers\n",
    "brands_10000_followers = {brand: followers for brand, followers in followers_per_brand_count.items() if followers > 9999}\n",
    "\n",
    "# Print the number of such brands\n",
    "print(len(brands_10000_followers))\n",
    "\n",
    "#Now, keeping only the marker_Ids in the two relevant dfs based on the brands_10000_followers\n",
    "markers_bios_french_10k = utils.streamline_ids_dict(markers_bios_french, 'marker_id', brands_10000_followers)\n",
    "markers_followers_french10k = utils.streamline_ids_dict(markers_followers, 'marker_id', brands_10000_followers)\n"
   ]
  },
  {
   "cell_type": "markdown",
   "metadata": {},
   "source": [
    "Now, our french marker_follower data is filtered so that it only includes french brands with 10 000 followers or more"
   ]
  },
  {
   "cell_type": "code",
   "execution_count": 92,
   "metadata": {},
   "outputs": [
    {
     "name": "stdout",
     "output_type": "stream",
     "text": [
      "Removed 60323433 rows.\n",
      "10343213 rows are left.\n"
     ]
    }
   ],
   "source": [
    "#Streamline the follower_bios to only include the followers of the 10k brands\n",
    "follower_bios_french10k = utils.streamline_ids(follower_bios, 'follower_id', markers_followers_french10k, 'follower_id')"
   ]
  },
  {
   "cell_type": "code",
   "execution_count": 93,
   "metadata": {},
   "outputs": [],
   "source": [
    "#Write the three files to csv\n",
    "markers_bios_french_10k.to_csv('/home/livtollanes/NewData/workdata/french_markers_bios_10k_2023-05-19.csv', index=False)\n",
    "markers_followers_french10k.to_csv('/home/livtollanes/NewData/workdata/french_markers_followers_10k_2023-05-19.csv', index=False)\n",
    "follower_bios_french10k.to_csv('/home/livtollanes/NewData/workdata/french_follower_bios_10k_2023-05-19.csv', index=False)"
   ]
  },
  {
   "cell_type": "code",
   "execution_count": null,
   "metadata": {},
   "outputs": [],
   "source": [
    "# #count the unique ids in french_marker_bios and in filtered_markers_followers\n",
    "# print(french_marker_bios['id'].nunique())\n",
    "# print(markers_followers['id'].nunique())\n",
    "# print(french_markers_followers['id'].nunique())\n",
    "\n",
    "# #print the unique ids that occur in french_marker_bios but not in filtered_markers_followers\n",
    "# print(set(french_marker_bios['id']) - set(french_markers_followers['id']))\n",
    "\n",
    "# # Get the unique ids that occur in dfm_french but not in filtered_markers_followers\n",
    "# missing_ids = set(french_marker_bios['id']) - set(filtered_markers_followers['id'])\n",
    "\n",
    "# # Filter french_marker_bios to only include rows with these ids\n",
    "# missing_brands = french_marker_bios[french_marker_bios['id'].isin(missing_ids)]\n",
    "\n",
    "# # Print the missing brands\n",
    "# print(missing_brands)\n"
   ]
  },
  {
   "cell_type": "markdown",
   "metadata": {},
   "source": [
    "Obs: For three brands, existing in the french brands bio df, there are no data in the marker_follower data. Must inspect later"
   ]
  },
  {
   "cell_type": "markdown",
   "metadata": {},
   "source": [
    "## 3. Filtering users"
   ]
  },
  {
   "cell_type": "markdown",
   "metadata": {},
   "source": [
    "- Now that we have the french brands with enough followers, we want to remove users that don't follow enough of these \n",
    "- This is to match the procedure of He and Tsvetkova (2023)\n",
    "- The purpose is to ensure we have enough information to generate SES estimates for users."
   ]
  },
  {
   "cell_type": "markdown",
   "metadata": {},
   "source": [
    "Create dictionary of [keys: follower_Id, Value: Brand_id]\n",
    "Without loading the data into python"
   ]
  },
  {
   "cell_type": "code",
   "execution_count": 95,
   "metadata": {},
   "outputs": [
    {
     "name": "stdout",
     "output_type": "stream",
     "text": [
      "The number of unique values in the dictionary is 102.\n",
      "The number of keys in the dictionary is 10346146.\n",
      "First 5 items in the dictionary:\n",
      "('1.6598901997850952e+18', {'861574608.0', '25487201.0'})\n",
      "('1.2184586250285627e+18', {'25487201.0'})\n",
      "('1.603050305813418e+18', {'25487201.0'})\n",
      "('1.65979527557623e+18', {'25487201.0'})\n",
      "('1.6598678949545697e+18', {'25487201.0'})\n"
     ]
    }
   ],
   "source": [
    "#Create a dictionary of [keys:follower_id, values: brands] based on the link between french brands and their followers\n",
    "importlib.reload(utils)\n",
    "\n",
    "filepath = '/home/livtollanes/NewData/workdata/french_markers_followers_10k_2023-05-19.csv'\n",
    "brands_per_follower, brands_per_follower_count = utils.create_brands_per_follower_dict(filepath)\n",
    "\n",
    "#How many unique values (brands) are there in the dictionary?\n",
    "\n",
    "utils.inspect_dict(brands_per_follower, 5)\n",
    "\n"
   ]
  },
  {
   "cell_type": "code",
   "execution_count": 96,
   "metadata": {},
   "outputs": [
    {
     "name": "stdout",
     "output_type": "stream",
     "text": [
      "The number of keys that follow less than 5 IDs is 9738747, which is 94.13% of the total. Removing these leaves 5.87% of the data, or 607399 users.\n",
      "Deleting rows ...\n",
      "First 5 items in the filtered dictionary:\n",
      "('553059033.0', {'25487201.0', '3025757015.0', '318695478.0', '36383320.0', '63142684.0', '94131301.0', '76017958.0', '34917842.0', '1.0841564120900444e+18', '492648852.0'})\n",
      "('1.6570728203445043e+18', {'114710148.0', '47902100.0', '25487201.0', '338891581.0', '318695478.0', '50592815.0', '804263442.0'})\n",
      "('7139582.0', {'25487201.0', '17710206.0', '53029114.0', '95455794.0', '19856081.0', '96090970.0', '19976004.0', '94544423.0', '19900973.0', '63142684.0', '34570323.0', '492648852.0'})\n",
      "('1.6347941001541386e+18', {'114710148.0', '47902100.0', '25487201.0', '804263442.0', '338891581.0', '318695478.0', '50592815.0', '34570323.0'})\n",
      "('1.6592206427832648e+18', {'114710148.0', '25487201.0', '804263442.0', '122333150.0', '338891581.0', '36383320.0', '19976004.0', '94544423.0', '34570323.0', '492648852.0'})\n"
     ]
    }
   ],
   "source": [
    "# How many people follow less than five french brands? Remove these from the dictionary\n",
    "num_brands = 5\n",
    "num_items = 5\n",
    "filtered_brands_per_follower = utils.inspect_and_filter_followers(brands_per_follower, num_brands, num_items, remove=True)"
   ]
  },
  {
   "cell_type": "code",
   "execution_count": 98,
   "metadata": {},
   "outputs": [
    {
     "name": "stdout",
     "output_type": "stream",
     "text": [
      "Removed 9735983 rows.\n",
      "607230 rows are left.\n"
     ]
    }
   ],
   "source": [
    "#Filter the follower bio file to only include the followers that follow at least 5 of the french brands with more than 10 000 followers\n",
    "follower_bios_french10k_5 = utils.streamline_ids_dict(follower_bios_french10k, 'follower_id', filtered_brands_per_follower)"
   ]
  },
  {
   "cell_type": "markdown",
   "metadata": {},
   "source": [
    "Remove all users that have sent less than 100 tweets"
   ]
  },
  {
   "cell_type": "code",
   "execution_count": 100,
   "metadata": {},
   "outputs": [
    {
     "name": "stdout",
     "output_type": "stream",
     "text": [
      "Number of rows after removing all with less than 100 tweets: 330710\n",
      "Number of rows removed: 276520\n"
     ]
    }
   ],
   "source": [
    "# Filter the DataFrame to only include users with more than 100 tweets\n",
    "follower_bios_french10k_5_100 = follower_bios_french10k_5[follower_bios_french10k_5['tweets'] > 99]\n",
    "\n",
    "#print the number of rows in the filtered df\n",
    "print(f\"Number of rows after removing all with less than 100 tweets: {follower_bios_french10k_5_100.shape[0]}\")\n",
    "\n",
    "#Print how many rows were Removed\n",
    "print(f\"Number of rows removed: {follower_bios_french10k_5.shape[0] - follower_bios_french10k_5_100.shape[0]}\")"
   ]
  },
  {
   "cell_type": "code",
   "execution_count": 101,
   "metadata": {},
   "outputs": [
    {
     "name": "stdout",
     "output_type": "stream",
     "text": [
      "Number of rows after removing all with less than 25 followers: 286434\n",
      "Number of rows removed: 44276\n"
     ]
    }
   ],
   "source": [
    "#  Only include users with more than 25 followers\n",
    "follower_bios_french10k_5_100_25 = follower_bios_french10k_5_100[follower_bios_french10k_5_100['followers'] > 24]\n",
    "\n",
    "# Print the number of rows in the filtered DataFrame   \n",
    "print(f\"Number of rows after removing all with less than 25 followers: {follower_bios_french10k_5_100_25.shape[0]}\")\n",
    "\n",
    "# Print how many rows were removed\n",
    "print(f\"Number of rows removed: {follower_bios_french10k_5_100.shape[0] - follower_bios_french10k_5_100_25.shape[0]}\")"
   ]
  },
  {
   "cell_type": "code",
   "execution_count": null,
   "metadata": {},
   "outputs": [],
   "source": [
    "# Now write the filtered_df3 to a csv file\n",
    "follower_bios_french10k_5_100_25.to_csv('/home/livtollanes/NewData/workdata/follower_bios_french10k_5_100_25', index=False)"
   ]
  },
  {
   "cell_type": "markdown",
   "metadata": {},
   "source": [
    "### Filterings\n",
    "- Follow at least five brands\n",
    "- sent at least 100 tweets\n",
    "- have at least 25 followers\n",
    "- sent at least five tweets in the first few months of the year the data was collected (maybe not relevant for this data - the twitter bios data does not contain the tweets. Only creation date for the profile)"
   ]
  }
 ],
 "metadata": {
  "kernelspec": {
   "display_name": "10.1thesis",
   "language": "python",
   "name": "10.1thesis"
  },
  "language_info": {
   "codemirror_mode": {
    "name": "ipython",
    "version": 3
   },
   "file_extension": ".py",
   "mimetype": "text/x-python",
   "name": "python",
   "nbconvert_exporter": "python",
   "pygments_lexer": "ipython3",
   "version": "3.11.7"
  }
 },
 "nbformat": 4,
 "nbformat_minor": 2
}
