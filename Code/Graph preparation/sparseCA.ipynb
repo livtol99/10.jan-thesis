{
 "cells": [
  {
   "cell_type": "code",
   "execution_count": 3,
   "metadata": {},
   "outputs": [],
   "source": [
    "import sys\n",
    "import math\n",
    "\n",
    "import networkx as nx\n",
    "import pandas as pd\n",
    "import matplotlib.pyplot as plt\n",
    "import importlib\n",
    "import sklearn\n",
    "import numpy as np\n",
    "\n",
    "from delayedsparse import delayedsparse\n",
    "from delayedsparse.ca import CA\n",
    "from sklearn.preprocessing import StandardScaler"
   ]
  },
  {
   "cell_type": "code",
   "execution_count": 7,
   "metadata": {},
   "outputs": [],
   "source": [
    "# load data\n",
    "path = '/home/livtollanes/NewData/edgelist.csv'\n",
    "\n",
    "req_cols = ['marker_id', 'follower_id', 'twitter_name']\n",
    "dtypes = {'marker_id': 'object',\n",
    "          'follower_id': 'object',\n",
    "          'twitter_name': 'object'}\n",
    "\n",
    "\n",
    "edgelist_CA = pd.read_csv(path, usecols=req_cols, dtype=dtypes)"
   ]
  },
  {
   "cell_type": "code",
   "execution_count": 10,
   "metadata": {},
   "outputs": [],
   "source": [
    "#convert marker_id and follower_id to numeric\n",
    "edgelist_CA['marker_id'] = pd.to_numeric(edgelist_CA['marker_id'])\n",
    "edgelist_CA['follower_id'] = pd.to_numeric(edgelist_CA['follower_id'])\n",
    "\n",
    "\n",
    "# sparse CA\n",
    "Number_of_dimensions = 15\n",
    "\n",
    "\n",
    "markers = edgelist_CA['marker_id'].unique()\n",
    "followers = edgelist_CA['follower_id'].unique()\n",
    "\n",
    "Number_of_markers = markers.size\n",
    "Number_of_followers = followers.size\n",
    "\n",
    "# Assign a unique number to each marker and follower - i.e. column positions\n",
    "markers_dic = pd.Series(index=edgelist_CA['marker_id'].unique(),data=np.arange(Number_of_markers,dtype=int)) # these are column positions of markers\n",
    "followers_dic = pd.Series(index=edgelist_CA['follower_id'].unique(),data=np.arange(Number_of_followers,dtype=int)) # these are column positions of followers\n",
    "\n",
    "# merging row and col matrix indices into a new columgn in the bipartite graph dataframe\n",
    "edgelist_CA['i'] = edgelist_CA['marker_id'].map(markers_dic) #i markers\n",
    "edgelist_CA['j'] = edgelist_CA['follower_id'].map(followers_dic) #j followers\n",
    "\n",
    "# dropgin repeated edges just in case\n",
    "edgelist_CA.dropna(inplace=True)\n",
    "edgelist_CA.shape\n",
    "\n",
    "# creating a sparse matrix using the Coo (coordinate) format \n",
    "coo = coo_matrix((np.ones((edgelist_CA.shape[0])), (edgelist_CA['j'].values, edgelist_CA['i'])), shape=(Number_of_followers, Number_of_markers))\n",
    "X = coo.tocsr()"
   ]
  },
  {
   "cell_type": "code",
   "execution_count": 81,
   "metadata": {},
   "outputs": [
    {
     "ename": "AttributeError",
     "evalue": "'CAWithInertia' object has no attribute 'S'",
     "output_type": "error",
     "traceback": [
      "\u001b[0;31m---------------------------------------------------------------------------\u001b[0m",
      "\u001b[0;31mAttributeError\u001b[0m                            Traceback (most recent call last)",
      "\u001b[0;32m/tmp/ipykernel_319662/3460112559.py\u001b[0m in \u001b[0;36m<module>\u001b[0;34m\u001b[0m\n\u001b[1;32m      2\u001b[0m \u001b[0mca\u001b[0m \u001b[0;34m=\u001b[0m \u001b[0mCAWithInertia\u001b[0m\u001b[0;34m(\u001b[0m\u001b[0mn_components\u001b[0m\u001b[0;34m=\u001b[0m\u001b[0mNumber_of_dimensions\u001b[0m\u001b[0;34m)\u001b[0m\u001b[0;34m\u001b[0m\u001b[0;34m\u001b[0m\u001b[0m\n\u001b[1;32m      3\u001b[0m \u001b[0mca\u001b[0m\u001b[0;34m.\u001b[0m\u001b[0mfit\u001b[0m\u001b[0;34m(\u001b[0m\u001b[0mX\u001b[0m\u001b[0;34m)\u001b[0m\u001b[0;34m\u001b[0m\u001b[0;34m\u001b[0m\u001b[0m\n\u001b[0;32m----> 4\u001b[0;31m \u001b[0mca\u001b[0m\u001b[0;34m.\u001b[0m\u001b[0mcompute_explained_inertia\u001b[0m\u001b[0;34m(\u001b[0m\u001b[0;34m)\u001b[0m\u001b[0;34m\u001b[0m\u001b[0;34m\u001b[0m\u001b[0m\n\u001b[0m\u001b[1;32m      5\u001b[0m \u001b[0;34m\u001b[0m\u001b[0m\n\u001b[1;32m      6\u001b[0m \u001b[0;31m# extracting results\u001b[0m\u001b[0;34m\u001b[0m\u001b[0;34m\u001b[0m\u001b[0;34m\u001b[0m\u001b[0m\n",
      "\u001b[0;32m/tmp/ipykernel_319662/1268320983.py\u001b[0m in \u001b[0;36mcompute_explained_inertia\u001b[0;34m(self)\u001b[0m\n\u001b[1;32m      2\u001b[0m     \u001b[0;32mdef\u001b[0m \u001b[0mcompute_explained_inertia\u001b[0m\u001b[0;34m(\u001b[0m\u001b[0mself\u001b[0m\u001b[0;34m)\u001b[0m\u001b[0;34m:\u001b[0m\u001b[0;34m\u001b[0m\u001b[0;34m\u001b[0m\u001b[0m\n\u001b[1;32m      3\u001b[0m         \u001b[0;31m# computing explained inertia\u001b[0m\u001b[0;34m\u001b[0m\u001b[0;34m\u001b[0m\u001b[0;34m\u001b[0m\u001b[0m\n\u001b[0;32m----> 4\u001b[0;31m         \u001b[0mself\u001b[0m\u001b[0;34m.\u001b[0m\u001b[0mtotal_inertia_\u001b[0m \u001b[0;34m=\u001b[0m \u001b[0mnp\u001b[0m\u001b[0;34m.\u001b[0m\u001b[0meinsum\u001b[0m\u001b[0;34m(\u001b[0m\u001b[0;34m'ij,ji->'\u001b[0m\u001b[0;34m,\u001b[0m \u001b[0;34m(\u001b[0m\u001b[0mself\u001b[0m\u001b[0;34m.\u001b[0m\u001b[0mS\u001b[0m\u001b[0;34m*\u001b[0m\u001b[0;36m1\u001b[0m\u001b[0;34m)\u001b[0m\u001b[0;34m,\u001b[0m \u001b[0;34m(\u001b[0m\u001b[0mself\u001b[0m\u001b[0;34m.\u001b[0m\u001b[0mS\u001b[0m\u001b[0;34m*\u001b[0m\u001b[0;36m1\u001b[0m\u001b[0;34m)\u001b[0m\u001b[0;34m.\u001b[0m\u001b[0mT\u001b[0m\u001b[0;34m)\u001b[0m\u001b[0;34m\u001b[0m\u001b[0;34m\u001b[0m\u001b[0m\n\u001b[0m\u001b[1;32m      5\u001b[0m         \u001b[0mself\u001b[0m\u001b[0;34m.\u001b[0m\u001b[0mexplained_inertia_\u001b[0m \u001b[0;34m=\u001b[0m \u001b[0;34m[\u001b[0m\u001b[0meig\u001b[0m\u001b[0;34m/\u001b[0m\u001b[0mself\u001b[0m\u001b[0;34m.\u001b[0m\u001b[0mtotal_inertia_\u001b[0m \u001b[0;32mfor\u001b[0m \u001b[0meig\u001b[0m \u001b[0;32min\u001b[0m \u001b[0mnp\u001b[0m\u001b[0;34m.\u001b[0m\u001b[0msquare\u001b[0m\u001b[0;34m(\u001b[0m\u001b[0mself\u001b[0m\u001b[0;34m.\u001b[0m\u001b[0mD\u001b[0m\u001b[0;34m)\u001b[0m\u001b[0;34m.\u001b[0m\u001b[0mtolist\u001b[0m\u001b[0;34m(\u001b[0m\u001b[0;34m)\u001b[0m\u001b[0;34m]\u001b[0m\u001b[0;34m\u001b[0m\u001b[0;34m\u001b[0m\u001b[0m\n\u001b[1;32m      6\u001b[0m \u001b[0;34m\u001b[0m\u001b[0m\n",
      "\u001b[0;31mAttributeError\u001b[0m: 'CAWithInertia' object has no attribute 'S'"
     ]
    }
   ],
   "source": [
    "# computing the sparse CA\n",
    "ca = CAWithInertia(n_components=Number_of_dimensions)\n",
    "ca.fit(X)\n",
    "ca.compute_explained_inertia()\n",
    "\n",
    "# extracting results\n",
    "aug_inter = np.array(ca.explained_inertia_)\n"
   ]
  },
  {
   "cell_type": "code",
   "execution_count": 70,
   "metadata": {},
   "outputs": [],
   "source": [
    "\n",
    "dimensions_names = ['latent_dim_%d'%(d+1) for d in range(Number_of_dimensions)]\n",
    "\n",
    "\n",
    "scaler = StandardScaler(with_std=True)"
   ]
  },
  {
   "cell_type": "code",
   "execution_count": 82,
   "metadata": {},
   "outputs": [
    {
     "data": {
      "text/plain": [
       "'/home/livtollanes/10.jan-thesis/Code'"
      ]
     },
     "execution_count": 82,
     "metadata": {},
     "output_type": "execute_result"
    }
   ],
   "source": [
    "pwd"
   ]
  },
  {
   "cell_type": "code",
   "execution_count": 71,
   "metadata": {},
   "outputs": [
    {
     "data": {
      "text/plain": [
       "StandardScaler(copy=True, with_mean=True, with_std=True)"
      ]
     },
     "execution_count": 71,
     "metadata": {},
     "output_type": "execute_result"
    }
   ],
   "source": [
    "\n",
    "\n",
    "scaler.fit(np.vstack(((ca.F*1)[:,:Number_of_dimensions],(ca.G*1)[:,:Number_of_dimensions])))   "
   ]
  },
  {
   "cell_type": "code",
   "execution_count": 72,
   "metadata": {},
   "outputs": [],
   "source": [
    "followers_coords = pd.DataFrame(index=followers,columns=dimensions_names,data=scaler.transform((ca.F*1)[:,:Number_of_dimensions]))\n",
    "markers_coords = pd.DataFrame(index=markers,columns=dimensions_names,data=scaler.transform((ca.G*1)[:,:Number_of_dimensions]))"
   ]
  }
 ],
 "metadata": {
  "kernelspec": {
   "display_name": "sparseCA",
   "language": "python",
   "name": "python3"
  },
  "language_info": {
   "codemirror_mode": {
    "name": "ipython",
    "version": 3
   },
   "file_extension": ".py",
   "mimetype": "text/x-python",
   "name": "python",
   "nbconvert_exporter": "python",
   "pygments_lexer": "ipython3",
   "version": "3.7.16"
  }
 },
 "nbformat": 4,
 "nbformat_minor": 2
}
