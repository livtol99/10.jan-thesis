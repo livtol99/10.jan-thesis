{
 "cells": [
  {
   "cell_type": "code",
   "execution_count": 10,
   "metadata": {},
   "outputs": [],
   "source": [
    "from facebook_business.adobjects.adaccount import AdAccount\n",
    "from facebook_business.api import FacebookAdsApi\n",
    "from facebook_business.adobjects.targetingsearch import TargetingSearch\n",
    "from facebook_business.adobjects.targeting import Targeting\n"
   ]
  },
  {
   "cell_type": "code",
   "execution_count": null,
   "metadata": {},
   "outputs": [],
   "source": [
    "interests = Targeting.search(params={'interest_list': ['Brand Name']})\n",
    "for interest in interests:\n",
    "    print(interest['id'], interest['name'])"
   ]
  },
  {
   "cell_type": "markdown",
   "metadata": {},
   "source": [
    "#Education statuses codes FB api\n",
    "1: HIGH_SCHOOL\n",
    "\n",
    "2: UNDERGRAD\n",
    "\n",
    "3: ALUM\n",
    "\n",
    "4: HIGH_SCHOOL_GRAD\n",
    "\n",
    "5: SOME_COLLEGE\n",
    "\n",
    "6: ASSOCIATE_DEGREE\n",
    "\n",
    "7: IN_GRAD_SCHOOL\n",
    "\n",
    "8: SOME_GRAD_SCHOOL\n",
    "\n",
    "9: MASTER_DEGREE\n",
    "\n",
    "10: PROFESSIONAL_DEGREE\n",
    "\n",
    "11: DOCTORATE_DEGREE\n",
    "\n",
    "12: UNSPECIFIED\n",
    "\n",
    "13: SOME_HIGH_SCHOOL\n",
    "\n",
    "\n",
    "Relevant for me:\n",
    "- 4; High_school_grad\n",
    "- 2: Undergrad\n",
    "- 9: Master_degree\n"
   ]
  },
  {
   "cell_type": "code",
   "execution_count": 14,
   "metadata": {},
   "outputs": [
    {
     "name": "stdout",
     "output_type": "stream",
     "text": [
      "Found interest: Lacoste\n"
     ]
    }
   ],
   "source": [
    "# Search for the interest\n",
    "params = {\n",
    "    'q': 'Lacoste',  # Update the interest to 'Lacoste'\n",
    "    'type': 'adinterest',\n",
    "}\n",
    "resp = TargetingSearch.search(params=params)\n",
    "\n",
    "# Check if the response is empty\n",
    "if not resp:\n",
    "    print(\"The interest 'Lacoste' is not available for targeting.\")\n",
    "else:\n",
    "    interests = resp[0]  # Get the first result\n",
    "    print(f\"Found interest: {interests['name']}\")"
   ]
  },
  {
   "cell_type": "code",
   "execution_count": 15,
   "metadata": {},
   "outputs": [
    {
     "ename": "FacebookRequestError",
     "evalue": "\n\n  Message: Call was not successful\n  Method:  GET\n  Path:    https://graph.facebook.com/v19.0/act_300420587591886/delivery_estimate\n  Params:  {'targeting_spec': '{\"geo_locations\":{\"countries\":[\"FR\"]},\"interests\":[{\"id\":\"6002985978968\",\"name\":\"Lacoste\"}]}', 'summary': 'true'}\n\n  Status:  400\n  Response:\n    {\n      \"error\": {\n        \"message\": \"(#100) Missing permissions\",\n        \"type\": \"OAuthException\",\n        \"code\": 100,\n        \"fbtrace_id\": \"AObMK8v5Nlfvp7AkdgG26bU\"\n      }\n    }\n",
     "output_type": "error",
     "traceback": [
      "\u001b[0;31m---------------------------------------------------------------------------\u001b[0m",
      "\u001b[0;31mFacebookRequestError\u001b[0m                      Traceback (most recent call last)",
      "Cell \u001b[0;32mIn[15], line 15\u001b[0m\n\u001b[1;32m     12\u001b[0m ad_account \u001b[38;5;241m=\u001b[39m AdAccount(ad_account_id)\n\u001b[1;32m     14\u001b[0m \u001b[38;5;66;03m# Get the delivery estimate for the targeting specification\u001b[39;00m\n\u001b[0;32m---> 15\u001b[0m delivery_estimate \u001b[38;5;241m=\u001b[39m \u001b[43mad_account\u001b[49m\u001b[38;5;241;43m.\u001b[39;49m\u001b[43mget_delivery_estimate\u001b[49m\u001b[43m(\u001b[49m\u001b[43mparams\u001b[49m\u001b[38;5;241;43m=\u001b[39;49m\u001b[43m{\u001b[49m\u001b[38;5;124;43m'\u001b[39;49m\u001b[38;5;124;43mtargeting_spec\u001b[39;49m\u001b[38;5;124;43m'\u001b[39;49m\u001b[43m:\u001b[49m\u001b[43m \u001b[49m\u001b[43mtargeting\u001b[49m\u001b[43m}\u001b[49m\u001b[43m)\u001b[49m\n\u001b[1;32m     17\u001b[0m \u001b[38;5;66;03m# Print the delivery estimate\u001b[39;00m\n\u001b[1;32m     18\u001b[0m \u001b[38;5;28mprint\u001b[39m(\u001b[38;5;124mf\u001b[39m\u001b[38;5;124m\"\u001b[39m\u001b[38;5;124mThe estimated audience size for Lacoste in France is: \u001b[39m\u001b[38;5;132;01m{\u001b[39;00mdelivery_estimate[\u001b[38;5;241m0\u001b[39m][\u001b[38;5;124m'\u001b[39m\u001b[38;5;124mestimate_mau\u001b[39m\u001b[38;5;124m'\u001b[39m]\u001b[38;5;132;01m}\u001b[39;00m\u001b[38;5;124m\"\u001b[39m)\n",
      "File \u001b[0;32m~/miniconda3/envs/09.2thesis/lib/python3.11/site-packages/facebook_business/adobjects/adaccount.py:2785\u001b[0m, in \u001b[0;36mAdAccount.get_delivery_estimate\u001b[0;34m(self, fields, params, batch, success, failure, pending)\u001b[0m\n\u001b[1;32m   2783\u001b[0m \u001b[38;5;28;01melse\u001b[39;00m:\n\u001b[1;32m   2784\u001b[0m     \u001b[38;5;28mself\u001b[39m\u001b[38;5;241m.\u001b[39massure_call()\n\u001b[0;32m-> 2785\u001b[0m     \u001b[38;5;28;01mreturn\u001b[39;00m \u001b[43mrequest\u001b[49m\u001b[38;5;241;43m.\u001b[39;49m\u001b[43mexecute\u001b[49m\u001b[43m(\u001b[49m\u001b[43m)\u001b[49m\n",
      "File \u001b[0;32m~/miniconda3/envs/09.2thesis/lib/python3.11/site-packages/facebook_business/api.py:664\u001b[0m, in \u001b[0;36mFacebookRequest.execute\u001b[0;34m(self)\u001b[0m\n\u001b[1;32m    653\u001b[0m \u001b[38;5;28;01mif\u001b[39;00m \u001b[38;5;28mself\u001b[39m\u001b[38;5;241m.\u001b[39m_api_type \u001b[38;5;241m==\u001b[39m \u001b[38;5;124m\"\u001b[39m\u001b[38;5;124mEDGE\u001b[39m\u001b[38;5;124m\"\u001b[39m \u001b[38;5;129;01mand\u001b[39;00m \u001b[38;5;28mself\u001b[39m\u001b[38;5;241m.\u001b[39m_method \u001b[38;5;241m==\u001b[39m \u001b[38;5;124m\"\u001b[39m\u001b[38;5;124mGET\u001b[39m\u001b[38;5;124m\"\u001b[39m:\n\u001b[1;32m    654\u001b[0m     cursor \u001b[38;5;241m=\u001b[39m Cursor(\n\u001b[1;32m    655\u001b[0m         target_objects_class\u001b[38;5;241m=\u001b[39m\u001b[38;5;28mself\u001b[39m\u001b[38;5;241m.\u001b[39m_target_class,\n\u001b[1;32m    656\u001b[0m         params\u001b[38;5;241m=\u001b[39mparams,\n\u001b[0;32m   (...)\u001b[0m\n\u001b[1;32m    662\u001b[0m         object_parser\u001b[38;5;241m=\u001b[39m\u001b[38;5;28mself\u001b[39m\u001b[38;5;241m.\u001b[39m_response_parser,\n\u001b[1;32m    663\u001b[0m     )\n\u001b[0;32m--> 664\u001b[0m     \u001b[43mcursor\u001b[49m\u001b[38;5;241;43m.\u001b[39;49m\u001b[43mload_next_page\u001b[49m\u001b[43m(\u001b[49m\u001b[43m)\u001b[49m\n\u001b[1;32m    665\u001b[0m     \u001b[38;5;28;01mreturn\u001b[39;00m cursor\n\u001b[1;32m    666\u001b[0m \u001b[38;5;28;01mif\u001b[39;00m \u001b[38;5;28mself\u001b[39m\u001b[38;5;241m.\u001b[39m_fields:\n",
      "File \u001b[0;32m~/miniconda3/envs/09.2thesis/lib/python3.11/site-packages/facebook_business/api.py:828\u001b[0m, in \u001b[0;36mCursor.load_next_page\u001b[0;34m(self)\u001b[0m\n\u001b[1;32m    821\u001b[0m \u001b[38;5;28;01mif\u001b[39;00m (\n\u001b[1;32m    822\u001b[0m     \u001b[38;5;28mself\u001b[39m\u001b[38;5;241m.\u001b[39m_include_summary \u001b[38;5;129;01mand\u001b[39;00m\n\u001b[1;32m    823\u001b[0m     \u001b[38;5;124m'\u001b[39m\u001b[38;5;124mdefault_summary\u001b[39m\u001b[38;5;124m'\u001b[39m \u001b[38;5;129;01mnot\u001b[39;00m \u001b[38;5;129;01min\u001b[39;00m \u001b[38;5;28mself\u001b[39m\u001b[38;5;241m.\u001b[39mparams \u001b[38;5;129;01mand\u001b[39;00m\n\u001b[1;32m    824\u001b[0m     \u001b[38;5;124m'\u001b[39m\u001b[38;5;124msummary\u001b[39m\u001b[38;5;124m'\u001b[39m \u001b[38;5;129;01mnot\u001b[39;00m \u001b[38;5;129;01min\u001b[39;00m \u001b[38;5;28mself\u001b[39m\u001b[38;5;241m.\u001b[39mparams\n\u001b[1;32m    825\u001b[0m ):\n\u001b[1;32m    826\u001b[0m     \u001b[38;5;28mself\u001b[39m\u001b[38;5;241m.\u001b[39mparams[\u001b[38;5;124m'\u001b[39m\u001b[38;5;124msummary\u001b[39m\u001b[38;5;124m'\u001b[39m] \u001b[38;5;241m=\u001b[39m \u001b[38;5;28;01mTrue\u001b[39;00m\n\u001b[0;32m--> 828\u001b[0m response_obj \u001b[38;5;241m=\u001b[39m \u001b[38;5;28;43mself\u001b[39;49m\u001b[38;5;241;43m.\u001b[39;49m\u001b[43m_api\u001b[49m\u001b[38;5;241;43m.\u001b[39;49m\u001b[43mcall\u001b[49m\u001b[43m(\u001b[49m\n\u001b[1;32m    829\u001b[0m \u001b[43m    \u001b[49m\u001b[38;5;124;43m'\u001b[39;49m\u001b[38;5;124;43mGET\u001b[39;49m\u001b[38;5;124;43m'\u001b[39;49m\u001b[43m,\u001b[49m\n\u001b[1;32m    830\u001b[0m \u001b[43m    \u001b[49m\u001b[38;5;28;43mself\u001b[39;49m\u001b[38;5;241;43m.\u001b[39;49m\u001b[43m_path\u001b[49m\u001b[43m,\u001b[49m\n\u001b[1;32m    831\u001b[0m \u001b[43m    \u001b[49m\u001b[43mparams\u001b[49m\u001b[38;5;241;43m=\u001b[39;49m\u001b[38;5;28;43mself\u001b[39;49m\u001b[38;5;241;43m.\u001b[39;49m\u001b[43mparams\u001b[49m\u001b[43m,\u001b[49m\n\u001b[1;32m    832\u001b[0m \u001b[43m\u001b[49m\u001b[43m)\u001b[49m\n\u001b[1;32m    833\u001b[0m response \u001b[38;5;241m=\u001b[39m response_obj\u001b[38;5;241m.\u001b[39mjson()\n\u001b[1;32m    834\u001b[0m \u001b[38;5;28mself\u001b[39m\u001b[38;5;241m.\u001b[39m_headers \u001b[38;5;241m=\u001b[39m response_obj\u001b[38;5;241m.\u001b[39mheaders()\n",
      "File \u001b[0;32m~/miniconda3/envs/09.2thesis/lib/python3.11/site-packages/facebook_business/api.py:336\u001b[0m, in \u001b[0;36mFacebookAdsApi.call\u001b[0;34m(self, method, path, params, headers, files, url_override, api_version)\u001b[0m\n\u001b[1;32m    322\u001b[0m fb_response \u001b[38;5;241m=\u001b[39m FacebookResponse(\n\u001b[1;32m    323\u001b[0m     body\u001b[38;5;241m=\u001b[39mresponse\u001b[38;5;241m.\u001b[39mtext,\n\u001b[1;32m    324\u001b[0m     headers\u001b[38;5;241m=\u001b[39mresponse\u001b[38;5;241m.\u001b[39mheaders,\n\u001b[0;32m   (...)\u001b[0m\n\u001b[1;32m    332\u001b[0m     },\n\u001b[1;32m    333\u001b[0m )\n\u001b[1;32m    335\u001b[0m \u001b[38;5;28;01mif\u001b[39;00m fb_response\u001b[38;5;241m.\u001b[39mis_failure():\n\u001b[0;32m--> 336\u001b[0m     \u001b[38;5;28;01mraise\u001b[39;00m fb_response\u001b[38;5;241m.\u001b[39merror()\n\u001b[1;32m    338\u001b[0m \u001b[38;5;28mself\u001b[39m\u001b[38;5;241m.\u001b[39m_num_requests_succeeded \u001b[38;5;241m+\u001b[39m\u001b[38;5;241m=\u001b[39m \u001b[38;5;241m1\u001b[39m\n\u001b[1;32m    339\u001b[0m \u001b[38;5;28;01mreturn\u001b[39;00m fb_response\n",
      "\u001b[0;31mFacebookRequestError\u001b[0m: \n\n  Message: Call was not successful\n  Method:  GET\n  Path:    https://graph.facebook.com/v19.0/act_300420587591886/delivery_estimate\n  Params:  {'targeting_spec': '{\"geo_locations\":{\"countries\":[\"FR\"]},\"interests\":[{\"id\":\"6002985978968\",\"name\":\"Lacoste\"}]}', 'summary': 'true'}\n\n  Status:  400\n  Response:\n    {\n      \"error\": {\n        \"message\": \"(#100) Missing permissions\",\n        \"type\": \"OAuthException\",\n        \"code\": 100,\n        \"fbtrace_id\": \"AObMK8v5Nlfvp7AkdgG26bU\"\n      }\n    }\n"
     ]
    }
   ],
   "source": [
    "# Define your targeting specification\n",
    "targeting = {\n",
    "    Targeting.Field.geo_locations: {\n",
    "        'countries': ['FR'],  # Target users in France\n",
    "    },\n",
    "    Targeting.Field.interests: [\n",
    "        {'id': interests['id'], 'name': interests['name']},  # Add the interest\n",
    "    ],\n",
    "}\n",
    "\n",
    "# Create an AdAccount object\n",
    "ad_account = AdAccount(ad_account_id)\n",
    "\n",
    "# Get the delivery estimate for the targeting specification\n",
    "delivery_estimate = ad_account.get_delivery_estimate(params={'targeting_spec': targeting})\n",
    "\n",
    "# Print the delivery estimate\n",
    "print(f\"The estimated audience size for Lacoste in France is: {delivery_estimate[0]['estimate_mau']}\")"
   ]
  },
  {
   "cell_type": "code",
   "execution_count": 16,
   "metadata": {},
   "outputs": [
    {
     "ename": "FacebookRequestError",
     "evalue": "\n\n  Message: Call was not successful\n  Method:  GET\n  Path:    https://graph.facebook.com/v19.0/act_300420587591886/reachestimate\n  Params:  {'targeting_spec': '{\"geo_locations\":{\"countries\":[\"FR\"]},\"interests\":[{\"id\":\"6002985978968\",\"name\":\"Lacoste\"}]}', 'summary': 'true'}\n\n  Status:  400\n  Response:\n    {\n      \"error\": {\n        \"message\": \"(#100) Missing permissions\",\n        \"type\": \"OAuthException\",\n        \"code\": 100,\n        \"fbtrace_id\": \"AMhcpPzNM0vYR0DQjKGl5qy\"\n      }\n    }\n",
     "output_type": "error",
     "traceback": [
      "\u001b[0;31m---------------------------------------------------------------------------\u001b[0m",
      "\u001b[0;31mFacebookRequestError\u001b[0m                      Traceback (most recent call last)",
      "Cell \u001b[0;32mIn[16], line 36\u001b[0m\n\u001b[1;32m     33\u001b[0m ad_account \u001b[38;5;241m=\u001b[39m AdAccount(ad_account_id)\n\u001b[1;32m     35\u001b[0m \u001b[38;5;66;03m# Estimate the reach for the targeting specification\u001b[39;00m\n\u001b[0;32m---> 36\u001b[0m reach_estimate \u001b[38;5;241m=\u001b[39m \u001b[43mad_account\u001b[49m\u001b[38;5;241;43m.\u001b[39;49m\u001b[43mget_reach_estimate\u001b[49m\u001b[43m(\u001b[49m\u001b[43mparams\u001b[49m\u001b[38;5;241;43m=\u001b[39;49m\u001b[43m{\u001b[49m\u001b[38;5;124;43m'\u001b[39;49m\u001b[38;5;124;43mtargeting_spec\u001b[39;49m\u001b[38;5;124;43m'\u001b[39;49m\u001b[43m:\u001b[49m\u001b[43m \u001b[49m\u001b[43mtargeting\u001b[49m\u001b[43m}\u001b[49m\u001b[43m)\u001b[49m\n\u001b[1;32m     38\u001b[0m \u001b[38;5;66;03m# Print the reach estimate\u001b[39;00m\n\u001b[1;32m     39\u001b[0m \u001b[38;5;28mprint\u001b[39m(\u001b[38;5;124mf\u001b[39m\u001b[38;5;124m\"\u001b[39m\u001b[38;5;124mThe estimated audience size for Lacoste in France is: \u001b[39m\u001b[38;5;132;01m{\u001b[39;00mreach_estimate[\u001b[38;5;241m0\u001b[39m][\u001b[38;5;124m'\u001b[39m\u001b[38;5;124musers\u001b[39m\u001b[38;5;124m'\u001b[39m]\u001b[38;5;132;01m}\u001b[39;00m\u001b[38;5;124m\"\u001b[39m)\n",
      "File \u001b[0;32m~/miniconda3/envs/09.2thesis/lib/python3.11/site-packages/facebook_business/adobjects/adaccount.py:3533\u001b[0m, in \u001b[0;36mAdAccount.get_reach_estimate\u001b[0;34m(self, fields, params, batch, success, failure, pending)\u001b[0m\n\u001b[1;32m   3531\u001b[0m \u001b[38;5;28;01melse\u001b[39;00m:\n\u001b[1;32m   3532\u001b[0m     \u001b[38;5;28mself\u001b[39m\u001b[38;5;241m.\u001b[39massure_call()\n\u001b[0;32m-> 3533\u001b[0m     \u001b[38;5;28;01mreturn\u001b[39;00m \u001b[43mrequest\u001b[49m\u001b[38;5;241;43m.\u001b[39;49m\u001b[43mexecute\u001b[49m\u001b[43m(\u001b[49m\u001b[43m)\u001b[49m\n",
      "File \u001b[0;32m~/miniconda3/envs/09.2thesis/lib/python3.11/site-packages/facebook_business/api.py:664\u001b[0m, in \u001b[0;36mFacebookRequest.execute\u001b[0;34m(self)\u001b[0m\n\u001b[1;32m    653\u001b[0m \u001b[38;5;28;01mif\u001b[39;00m \u001b[38;5;28mself\u001b[39m\u001b[38;5;241m.\u001b[39m_api_type \u001b[38;5;241m==\u001b[39m \u001b[38;5;124m\"\u001b[39m\u001b[38;5;124mEDGE\u001b[39m\u001b[38;5;124m\"\u001b[39m \u001b[38;5;129;01mand\u001b[39;00m \u001b[38;5;28mself\u001b[39m\u001b[38;5;241m.\u001b[39m_method \u001b[38;5;241m==\u001b[39m \u001b[38;5;124m\"\u001b[39m\u001b[38;5;124mGET\u001b[39m\u001b[38;5;124m\"\u001b[39m:\n\u001b[1;32m    654\u001b[0m     cursor \u001b[38;5;241m=\u001b[39m Cursor(\n\u001b[1;32m    655\u001b[0m         target_objects_class\u001b[38;5;241m=\u001b[39m\u001b[38;5;28mself\u001b[39m\u001b[38;5;241m.\u001b[39m_target_class,\n\u001b[1;32m    656\u001b[0m         params\u001b[38;5;241m=\u001b[39mparams,\n\u001b[0;32m   (...)\u001b[0m\n\u001b[1;32m    662\u001b[0m         object_parser\u001b[38;5;241m=\u001b[39m\u001b[38;5;28mself\u001b[39m\u001b[38;5;241m.\u001b[39m_response_parser,\n\u001b[1;32m    663\u001b[0m     )\n\u001b[0;32m--> 664\u001b[0m     \u001b[43mcursor\u001b[49m\u001b[38;5;241;43m.\u001b[39;49m\u001b[43mload_next_page\u001b[49m\u001b[43m(\u001b[49m\u001b[43m)\u001b[49m\n\u001b[1;32m    665\u001b[0m     \u001b[38;5;28;01mreturn\u001b[39;00m cursor\n\u001b[1;32m    666\u001b[0m \u001b[38;5;28;01mif\u001b[39;00m \u001b[38;5;28mself\u001b[39m\u001b[38;5;241m.\u001b[39m_fields:\n",
      "File \u001b[0;32m~/miniconda3/envs/09.2thesis/lib/python3.11/site-packages/facebook_business/api.py:828\u001b[0m, in \u001b[0;36mCursor.load_next_page\u001b[0;34m(self)\u001b[0m\n\u001b[1;32m    821\u001b[0m \u001b[38;5;28;01mif\u001b[39;00m (\n\u001b[1;32m    822\u001b[0m     \u001b[38;5;28mself\u001b[39m\u001b[38;5;241m.\u001b[39m_include_summary \u001b[38;5;129;01mand\u001b[39;00m\n\u001b[1;32m    823\u001b[0m     \u001b[38;5;124m'\u001b[39m\u001b[38;5;124mdefault_summary\u001b[39m\u001b[38;5;124m'\u001b[39m \u001b[38;5;129;01mnot\u001b[39;00m \u001b[38;5;129;01min\u001b[39;00m \u001b[38;5;28mself\u001b[39m\u001b[38;5;241m.\u001b[39mparams \u001b[38;5;129;01mand\u001b[39;00m\n\u001b[1;32m    824\u001b[0m     \u001b[38;5;124m'\u001b[39m\u001b[38;5;124msummary\u001b[39m\u001b[38;5;124m'\u001b[39m \u001b[38;5;129;01mnot\u001b[39;00m \u001b[38;5;129;01min\u001b[39;00m \u001b[38;5;28mself\u001b[39m\u001b[38;5;241m.\u001b[39mparams\n\u001b[1;32m    825\u001b[0m ):\n\u001b[1;32m    826\u001b[0m     \u001b[38;5;28mself\u001b[39m\u001b[38;5;241m.\u001b[39mparams[\u001b[38;5;124m'\u001b[39m\u001b[38;5;124msummary\u001b[39m\u001b[38;5;124m'\u001b[39m] \u001b[38;5;241m=\u001b[39m \u001b[38;5;28;01mTrue\u001b[39;00m\n\u001b[0;32m--> 828\u001b[0m response_obj \u001b[38;5;241m=\u001b[39m \u001b[38;5;28;43mself\u001b[39;49m\u001b[38;5;241;43m.\u001b[39;49m\u001b[43m_api\u001b[49m\u001b[38;5;241;43m.\u001b[39;49m\u001b[43mcall\u001b[49m\u001b[43m(\u001b[49m\n\u001b[1;32m    829\u001b[0m \u001b[43m    \u001b[49m\u001b[38;5;124;43m'\u001b[39;49m\u001b[38;5;124;43mGET\u001b[39;49m\u001b[38;5;124;43m'\u001b[39;49m\u001b[43m,\u001b[49m\n\u001b[1;32m    830\u001b[0m \u001b[43m    \u001b[49m\u001b[38;5;28;43mself\u001b[39;49m\u001b[38;5;241;43m.\u001b[39;49m\u001b[43m_path\u001b[49m\u001b[43m,\u001b[49m\n\u001b[1;32m    831\u001b[0m \u001b[43m    \u001b[49m\u001b[43mparams\u001b[49m\u001b[38;5;241;43m=\u001b[39;49m\u001b[38;5;28;43mself\u001b[39;49m\u001b[38;5;241;43m.\u001b[39;49m\u001b[43mparams\u001b[49m\u001b[43m,\u001b[49m\n\u001b[1;32m    832\u001b[0m \u001b[43m\u001b[49m\u001b[43m)\u001b[49m\n\u001b[1;32m    833\u001b[0m response \u001b[38;5;241m=\u001b[39m response_obj\u001b[38;5;241m.\u001b[39mjson()\n\u001b[1;32m    834\u001b[0m \u001b[38;5;28mself\u001b[39m\u001b[38;5;241m.\u001b[39m_headers \u001b[38;5;241m=\u001b[39m response_obj\u001b[38;5;241m.\u001b[39mheaders()\n",
      "File \u001b[0;32m~/miniconda3/envs/09.2thesis/lib/python3.11/site-packages/facebook_business/api.py:336\u001b[0m, in \u001b[0;36mFacebookAdsApi.call\u001b[0;34m(self, method, path, params, headers, files, url_override, api_version)\u001b[0m\n\u001b[1;32m    322\u001b[0m fb_response \u001b[38;5;241m=\u001b[39m FacebookResponse(\n\u001b[1;32m    323\u001b[0m     body\u001b[38;5;241m=\u001b[39mresponse\u001b[38;5;241m.\u001b[39mtext,\n\u001b[1;32m    324\u001b[0m     headers\u001b[38;5;241m=\u001b[39mresponse\u001b[38;5;241m.\u001b[39mheaders,\n\u001b[0;32m   (...)\u001b[0m\n\u001b[1;32m    332\u001b[0m     },\n\u001b[1;32m    333\u001b[0m )\n\u001b[1;32m    335\u001b[0m \u001b[38;5;28;01mif\u001b[39;00m fb_response\u001b[38;5;241m.\u001b[39mis_failure():\n\u001b[0;32m--> 336\u001b[0m     \u001b[38;5;28;01mraise\u001b[39;00m fb_response\u001b[38;5;241m.\u001b[39merror()\n\u001b[1;32m    338\u001b[0m \u001b[38;5;28mself\u001b[39m\u001b[38;5;241m.\u001b[39m_num_requests_succeeded \u001b[38;5;241m+\u001b[39m\u001b[38;5;241m=\u001b[39m \u001b[38;5;241m1\u001b[39m\n\u001b[1;32m    339\u001b[0m \u001b[38;5;28;01mreturn\u001b[39;00m fb_response\n",
      "\u001b[0;31mFacebookRequestError\u001b[0m: \n\n  Message: Call was not successful\n  Method:  GET\n  Path:    https://graph.facebook.com/v19.0/act_300420587591886/reachestimate\n  Params:  {'targeting_spec': '{\"geo_locations\":{\"countries\":[\"FR\"]},\"interests\":[{\"id\":\"6002985978968\",\"name\":\"Lacoste\"}]}', 'summary': 'true'}\n\n  Status:  400\n  Response:\n    {\n      \"error\": {\n        \"message\": \"(#100) Missing permissions\",\n        \"type\": \"OAuthException\",\n        \"code\": 100,\n        \"fbtrace_id\": \"AMhcpPzNM0vYR0DQjKGl5qy\"\n      }\n    }\n"
     ]
    }
   ],
   "source": [
    "from facebook_business.adobjects.adaccount import AdAccount\n",
    "from facebook_business.api import FacebookAdsApi\n",
    "from facebook_business.adobjects.targetingsearch import TargetingSearch\n",
    "from facebook_business.adobjects.targeting import Targeting\n",
    "\n",
    "# Initialize FacebookAdsApi with your app ID, app secret, and access token\n",
    "\n",
    "FacebookAdsApi.init('377649141679188', '15dc866a0575ee7697ec3adc05d9a545', '377649141679188|HAkex9wilP16cbbO64GTO7giRKo')\n",
    "\n",
    "# Define your ad account ID\n",
    "ad_account_id = 'act_300420587591886'\n",
    "\n",
    "# Search for the geo location\n",
    "params = {\n",
    "    'q': 'FR',  # Update the country code to 'FR' for France\n",
    "    'type': 'adgeolocation',\n",
    "    'location_types': ['country'],\n",
    "}\n",
    "resp = TargetingSearch.search(params=params)\n",
    "geo_location = resp[0]  # Get the first result\n",
    "\n",
    "# Define your targeting specification\n",
    "targeting = {\n",
    "    Targeting.Field.geo_locations: {\n",
    "        'countries': [geo_location['country_code']],  # Target users in France\n",
    "    },\n",
    "    Targeting.Field.interests: [\n",
    "        {'id': interests['id'], 'name': interests['name']},  # Add the interest\n",
    "    ],\n",
    "}\n",
    "\n",
    "# Create an AdAccount object\n",
    "ad_account = AdAccount(ad_account_id)\n",
    "\n",
    "# Estimate the reach for the targeting specification\n",
    "reach_estimate = ad_account.get_reach_estimate(params={'targeting_spec': targeting})\n",
    "\n",
    "# Print the reach estimate\n",
    "print(f\"The estimated audience size for Lacoste in France is: {reach_estimate[0]['users']}\")"
   ]
  },
  {
   "cell_type": "code",
   "execution_count": 29,
   "metadata": {},
   "outputs": [
    {
     "name": "stdout",
     "output_type": "stream",
     "text": [
      "Error Message: \n",
      "\n",
      "  Message: Call was not successful\n",
      "  Method:  GET\n",
      "  Path:    https://graph.facebook.com/v19.0/act_300420587591886/reachestimate\n",
      "  Params:  {'targeting_spec': '{\"education_statuses\":[9],\"geo_locations\":{\"countries\":[\"FR\"]},\"interests\":[{\"id\":\"6002985978968\",\"name\":\"Lacoste\"}]}', 'summary': 'true'}\n",
      "\n",
      "  Status:  400\n",
      "  Response:\n",
      "    {\n",
      "      \"error\": {\n",
      "        \"message\": \"(#100) Missing permissions\",\n",
      "        \"type\": \"OAuthException\",\n",
      "        \"code\": 100,\n",
      "        \"fbtrace_id\": \"AjFT-pmGxp5aoZVt9etu6k4\"\n",
      "      }\n",
      "    }\n",
      "\n",
      "Error Code: 100\n",
      "Error Subcode: None\n",
      "HTTP Status Code: 400\n"
     ]
    }
   ],
   "source": [
    "from facebook_business.adobjects.adaccount import AdAccount\n",
    "from facebook_business.api import FacebookAdsApi\n",
    "from facebook_business.adobjects.targetingsearch import TargetingSearch\n",
    "from facebook_business.adobjects.targeting import Targeting\n",
    "from facebook_business.exceptions import FacebookRequestError\n",
    "\n",
    "\n",
    "# Initialize FacebookAdsApi with your app ID, app secret, and access token\n",
    "FacebookAdsApi.init('377649141679188', '15dc866a0575ee7697ec3adc05d9a545', '377649141679188|HAkex9wilP16cbbO64GTO7giRKo')\n",
    "\n",
    "# Define your ad account ID\n",
    "ad_account_id = 'act_300420587591886'\n",
    "\n",
    "# Search for the interest\n",
    "params = {\n",
    "    'q': 'Lacoste',  # Update the interest to 'Overcoming'\n",
    "    'type': 'adinterest',\n",
    "}\n",
    "resp = TargetingSearch.search(params=params)\n",
    "interests = resp[0]  # Get the first result\n",
    "\n",
    "# Define your targeting specification\n",
    "targeting_base = {\n",
    "    Targeting.Field.geo_locations: {\n",
    "        'countries': ['FR'],  # Target users in France\n",
    "    },\n",
    "    Targeting.Field.interests: [\n",
    "        {'id': interests['id'], 'name': interests['name']},  # Add the interest\n",
    "    ],\n",
    "}\n",
    "\n",
    "education_statuses = [4, 2, 9]  # 4 for high school grad, 3 for alum (bachelor), 9 for master degree\n",
    "\n",
    "# Create an AdAccount object\n",
    "ad_account = AdAccount(ad_account_id)\n",
    "\n",
    "for status in education_statuses:\n",
    "    targeting = targeting_base.copy()\n",
    "    targeting[Targeting.Field.education_statuses] = [status]\n",
    "\n",
    "try:\n",
    "    # Estimate the reach for the targeting specification\n",
    "    reach_estimate = ad_account.get_reach_estimate(params={'targeting_spec': targeting})\n",
    "    \n",
    "    # Print the reach estimate\n",
    "    print(f\"The estimated audience size for education status {status} is: {reach_estimate[0]['users']}\")\n",
    "except FacebookRequestError as e:\n",
    "    # Print the error details\n",
    "    print(f\"Error Message: {e}\")\n",
    "    print(f\"Error Code: {e.api_error_code()}\")\n",
    "    print(f\"Error Subcode: {e.api_error_subcode()}\")\n",
    "    print(f\"HTTP Status Code: {e.http_status()}\")\n",
    "\n"
   ]
  },
  {
   "cell_type": "code",
   "execution_count": 35,
   "metadata": {},
   "outputs": [
    {
     "ename": "FacebookRequestError",
     "evalue": "\n\n  Message: Call was not successful\n  Method:  GET\n  Path:    https://graph.facebook.com/v19.0/act_123456789/reachestimate\n  Params:  {'targeting_spec': '{\"education_statuses\":[4,2,9],\"geo_locations\":{\"countries\":[\"FR\"]}}', 'summary': 'true'}\n\n  Status:  400\n  Response:\n    {\n      \"error\": {\n        \"message\": \"Invalid OAuth access token - Cannot parse access token\",\n        \"type\": \"OAuthException\",\n        \"code\": 190,\n        \"fbtrace_id\": \"AZKXfYqpSxQi7pgjl0LbIpS\"\n      }\n    }\n",
     "output_type": "error",
     "traceback": [
      "\u001b[0;31m---------------------------------------------------------------------------\u001b[0m",
      "\u001b[0;31mFacebookRequestError\u001b[0m                      Traceback (most recent call last)",
      "Cell \u001b[0;32mIn[35], line 24\u001b[0m\n\u001b[1;32m     21\u001b[0m ad_account \u001b[38;5;241m=\u001b[39m AdAccount(ad_account_id)\n\u001b[1;32m     23\u001b[0m \u001b[38;5;66;03m# Estimate the audience size for the targeting specification\u001b[39;00m\n\u001b[0;32m---> 24\u001b[0m reach_estimate \u001b[38;5;241m=\u001b[39m \u001b[43mad_account\u001b[49m\u001b[38;5;241;43m.\u001b[39;49m\u001b[43mget_reach_estimate\u001b[49m\u001b[43m(\u001b[49m\u001b[43mparams\u001b[49m\u001b[38;5;241;43m=\u001b[39;49m\u001b[43m{\u001b[49m\u001b[38;5;124;43m'\u001b[39;49m\u001b[38;5;124;43mtargeting_spec\u001b[39;49m\u001b[38;5;124;43m'\u001b[39;49m\u001b[43m:\u001b[49m\u001b[43m \u001b[49m\u001b[43mtargeting_spec\u001b[49m\u001b[43m}\u001b[49m\u001b[43m)\u001b[49m\n\u001b[1;32m     26\u001b[0m \u001b[38;5;66;03m# Print the estimated audience size\u001b[39;00m\n\u001b[1;32m     27\u001b[0m \u001b[38;5;28mprint\u001b[39m(\u001b[38;5;124m\"\u001b[39m\u001b[38;5;124mEstimated Audience Size:\u001b[39m\u001b[38;5;124m\"\u001b[39m, reach_estimate[\u001b[38;5;241m0\u001b[39m][\u001b[38;5;124m'\u001b[39m\u001b[38;5;124musers\u001b[39m\u001b[38;5;124m'\u001b[39m])\n",
      "File \u001b[0;32m~/miniconda3/envs/09.2thesis/lib/python3.11/site-packages/facebook_business/adobjects/adaccount.py:3533\u001b[0m, in \u001b[0;36mAdAccount.get_reach_estimate\u001b[0;34m(self, fields, params, batch, success, failure, pending)\u001b[0m\n\u001b[1;32m   3531\u001b[0m \u001b[38;5;28;01melse\u001b[39;00m:\n\u001b[1;32m   3532\u001b[0m     \u001b[38;5;28mself\u001b[39m\u001b[38;5;241m.\u001b[39massure_call()\n\u001b[0;32m-> 3533\u001b[0m     \u001b[38;5;28;01mreturn\u001b[39;00m \u001b[43mrequest\u001b[49m\u001b[38;5;241;43m.\u001b[39;49m\u001b[43mexecute\u001b[49m\u001b[43m(\u001b[49m\u001b[43m)\u001b[49m\n",
      "File \u001b[0;32m~/miniconda3/envs/09.2thesis/lib/python3.11/site-packages/facebook_business/api.py:664\u001b[0m, in \u001b[0;36mFacebookRequest.execute\u001b[0;34m(self)\u001b[0m\n\u001b[1;32m    653\u001b[0m \u001b[38;5;28;01mif\u001b[39;00m \u001b[38;5;28mself\u001b[39m\u001b[38;5;241m.\u001b[39m_api_type \u001b[38;5;241m==\u001b[39m \u001b[38;5;124m\"\u001b[39m\u001b[38;5;124mEDGE\u001b[39m\u001b[38;5;124m\"\u001b[39m \u001b[38;5;129;01mand\u001b[39;00m \u001b[38;5;28mself\u001b[39m\u001b[38;5;241m.\u001b[39m_method \u001b[38;5;241m==\u001b[39m \u001b[38;5;124m\"\u001b[39m\u001b[38;5;124mGET\u001b[39m\u001b[38;5;124m\"\u001b[39m:\n\u001b[1;32m    654\u001b[0m     cursor \u001b[38;5;241m=\u001b[39m Cursor(\n\u001b[1;32m    655\u001b[0m         target_objects_class\u001b[38;5;241m=\u001b[39m\u001b[38;5;28mself\u001b[39m\u001b[38;5;241m.\u001b[39m_target_class,\n\u001b[1;32m    656\u001b[0m         params\u001b[38;5;241m=\u001b[39mparams,\n\u001b[0;32m   (...)\u001b[0m\n\u001b[1;32m    662\u001b[0m         object_parser\u001b[38;5;241m=\u001b[39m\u001b[38;5;28mself\u001b[39m\u001b[38;5;241m.\u001b[39m_response_parser,\n\u001b[1;32m    663\u001b[0m     )\n\u001b[0;32m--> 664\u001b[0m     \u001b[43mcursor\u001b[49m\u001b[38;5;241;43m.\u001b[39;49m\u001b[43mload_next_page\u001b[49m\u001b[43m(\u001b[49m\u001b[43m)\u001b[49m\n\u001b[1;32m    665\u001b[0m     \u001b[38;5;28;01mreturn\u001b[39;00m cursor\n\u001b[1;32m    666\u001b[0m \u001b[38;5;28;01mif\u001b[39;00m \u001b[38;5;28mself\u001b[39m\u001b[38;5;241m.\u001b[39m_fields:\n",
      "File \u001b[0;32m~/miniconda3/envs/09.2thesis/lib/python3.11/site-packages/facebook_business/api.py:828\u001b[0m, in \u001b[0;36mCursor.load_next_page\u001b[0;34m(self)\u001b[0m\n\u001b[1;32m    821\u001b[0m \u001b[38;5;28;01mif\u001b[39;00m (\n\u001b[1;32m    822\u001b[0m     \u001b[38;5;28mself\u001b[39m\u001b[38;5;241m.\u001b[39m_include_summary \u001b[38;5;129;01mand\u001b[39;00m\n\u001b[1;32m    823\u001b[0m     \u001b[38;5;124m'\u001b[39m\u001b[38;5;124mdefault_summary\u001b[39m\u001b[38;5;124m'\u001b[39m \u001b[38;5;129;01mnot\u001b[39;00m \u001b[38;5;129;01min\u001b[39;00m \u001b[38;5;28mself\u001b[39m\u001b[38;5;241m.\u001b[39mparams \u001b[38;5;129;01mand\u001b[39;00m\n\u001b[1;32m    824\u001b[0m     \u001b[38;5;124m'\u001b[39m\u001b[38;5;124msummary\u001b[39m\u001b[38;5;124m'\u001b[39m \u001b[38;5;129;01mnot\u001b[39;00m \u001b[38;5;129;01min\u001b[39;00m \u001b[38;5;28mself\u001b[39m\u001b[38;5;241m.\u001b[39mparams\n\u001b[1;32m    825\u001b[0m ):\n\u001b[1;32m    826\u001b[0m     \u001b[38;5;28mself\u001b[39m\u001b[38;5;241m.\u001b[39mparams[\u001b[38;5;124m'\u001b[39m\u001b[38;5;124msummary\u001b[39m\u001b[38;5;124m'\u001b[39m] \u001b[38;5;241m=\u001b[39m \u001b[38;5;28;01mTrue\u001b[39;00m\n\u001b[0;32m--> 828\u001b[0m response_obj \u001b[38;5;241m=\u001b[39m \u001b[38;5;28;43mself\u001b[39;49m\u001b[38;5;241;43m.\u001b[39;49m\u001b[43m_api\u001b[49m\u001b[38;5;241;43m.\u001b[39;49m\u001b[43mcall\u001b[49m\u001b[43m(\u001b[49m\n\u001b[1;32m    829\u001b[0m \u001b[43m    \u001b[49m\u001b[38;5;124;43m'\u001b[39;49m\u001b[38;5;124;43mGET\u001b[39;49m\u001b[38;5;124;43m'\u001b[39;49m\u001b[43m,\u001b[49m\n\u001b[1;32m    830\u001b[0m \u001b[43m    \u001b[49m\u001b[38;5;28;43mself\u001b[39;49m\u001b[38;5;241;43m.\u001b[39;49m\u001b[43m_path\u001b[49m\u001b[43m,\u001b[49m\n\u001b[1;32m    831\u001b[0m \u001b[43m    \u001b[49m\u001b[43mparams\u001b[49m\u001b[38;5;241;43m=\u001b[39;49m\u001b[38;5;28;43mself\u001b[39;49m\u001b[38;5;241;43m.\u001b[39;49m\u001b[43mparams\u001b[49m\u001b[43m,\u001b[49m\n\u001b[1;32m    832\u001b[0m \u001b[43m\u001b[49m\u001b[43m)\u001b[49m\n\u001b[1;32m    833\u001b[0m response \u001b[38;5;241m=\u001b[39m response_obj\u001b[38;5;241m.\u001b[39mjson()\n\u001b[1;32m    834\u001b[0m \u001b[38;5;28mself\u001b[39m\u001b[38;5;241m.\u001b[39m_headers \u001b[38;5;241m=\u001b[39m response_obj\u001b[38;5;241m.\u001b[39mheaders()\n",
      "File \u001b[0;32m~/miniconda3/envs/09.2thesis/lib/python3.11/site-packages/facebook_business/api.py:336\u001b[0m, in \u001b[0;36mFacebookAdsApi.call\u001b[0;34m(self, method, path, params, headers, files, url_override, api_version)\u001b[0m\n\u001b[1;32m    322\u001b[0m fb_response \u001b[38;5;241m=\u001b[39m FacebookResponse(\n\u001b[1;32m    323\u001b[0m     body\u001b[38;5;241m=\u001b[39mresponse\u001b[38;5;241m.\u001b[39mtext,\n\u001b[1;32m    324\u001b[0m     headers\u001b[38;5;241m=\u001b[39mresponse\u001b[38;5;241m.\u001b[39mheaders,\n\u001b[0;32m   (...)\u001b[0m\n\u001b[1;32m    332\u001b[0m     },\n\u001b[1;32m    333\u001b[0m )\n\u001b[1;32m    335\u001b[0m \u001b[38;5;28;01mif\u001b[39;00m fb_response\u001b[38;5;241m.\u001b[39mis_failure():\n\u001b[0;32m--> 336\u001b[0m     \u001b[38;5;28;01mraise\u001b[39;00m fb_response\u001b[38;5;241m.\u001b[39merror()\n\u001b[1;32m    338\u001b[0m \u001b[38;5;28mself\u001b[39m\u001b[38;5;241m.\u001b[39m_num_requests_succeeded \u001b[38;5;241m+\u001b[39m\u001b[38;5;241m=\u001b[39m \u001b[38;5;241m1\u001b[39m\n\u001b[1;32m    339\u001b[0m \u001b[38;5;28;01mreturn\u001b[39;00m fb_response\n",
      "\u001b[0;31mFacebookRequestError\u001b[0m: \n\n  Message: Call was not successful\n  Method:  GET\n  Path:    https://graph.facebook.com/v19.0/act_123456789/reachestimate\n  Params:  {'targeting_spec': '{\"education_statuses\":[4,2,9],\"geo_locations\":{\"countries\":[\"FR\"]}}', 'summary': 'true'}\n\n  Status:  400\n  Response:\n    {\n      \"error\": {\n        \"message\": \"Invalid OAuth access token - Cannot parse access token\",\n        \"type\": \"OAuthException\",\n        \"code\": 190,\n        \"fbtrace_id\": \"AZKXfYqpSxQi7pgjl0LbIpS\"\n      }\n    }\n"
     ]
    }
   ],
   "source": [
    "from facebook_business.adobjects.adaccount import AdAccount\n",
    "from facebook_business.api import FacebookAdsApi\n",
    "\n",
    "# Initialize FacebookAdsApi with your app ID, app secret, and access token\n",
    "FacebookAdsApi.init(my_app_id, my_app_secret, my_access_token)\n",
    "\n",
    "# Define your ad account ID\n",
    "ad_account_id = 'act_123456789'\n",
    "\n",
    "# Define the education statuses you're interested in\n",
    "education_statuses = [4, 2, 9]\n",
    "\n",
    "# Define your targeting specification\n",
    "targeting_spec = {\n",
    "    'geo_locations': {'countries': ['FR']},  # Target users in France\n",
    "    'education_statuses': education_statuses,\n",
    "    # Add any other targeting parameters as needed\n",
    "}\n",
    "\n",
    "# Create an AdAccount object\n",
    "ad_account = AdAccount(ad_account_id)\n",
    "\n",
    "# Estimate the audience size for the targeting specification\n",
    "reach_estimate = ad_account.get_reach_estimate(params={'targeting_spec': targeting_spec})\n",
    "\n",
    "# Print the estimated audience size\n",
    "print(\"Estimated Audience Size:\", reach_estimate[0]['users'])\n"
   ]
  },
  {
   "cell_type": "code",
   "execution_count": 33,
   "metadata": {},
   "outputs": [
    {
     "name": "stdout",
     "output_type": "stream",
     "text": [
      "{'error': {'message': 'No user access token specified', 'type': 'OAuthException', 'code': 1, 'fbtrace_id': 'Aun0z66TEjMIveo31SkXMIl'}}\n"
     ]
    }
   ],
   "source": [
    "import requests\n",
    "\n",
    "# Replace these with your actual values\n",
    "graph_api_version = 'v19.0'\n",
    "app_id = '377649141679188'\n",
    "app_secret = '15dc866a0575ee7697ec3adc05d9a545'\n",
    "access_token = '377649141679188|HAkex9wilP16cbbO64GTO7giRKo'\n",
    "\n",
    "# Make the GET request\n",
    "response = requests.get(f'https://graph.facebook.com/{graph_api_version}/oauth/access_token', params={\n",
    "    'grant_type': 'fb_exchange_token',\n",
    "    'client_id': app_id,\n",
    "    'client_secret': app_secret,\n",
    "    'fb_exchange_token': access_token,\n",
    "})\n",
    "\n",
    "# Print the response\n",
    "print(response.json())"
   ]
  },
  {
   "cell_type": "code",
   "execution_count": null,
   "metadata": {},
   "outputs": [],
   "source": []
  }
 ],
 "metadata": {
  "kernelspec": {
   "display_name": "09.2thesis",
   "language": "python",
   "name": "python3"
  },
  "language_info": {
   "codemirror_mode": {
    "name": "ipython",
    "version": 3
   },
   "file_extension": ".py",
   "mimetype": "text/x-python",
   "name": "python",
   "nbconvert_exporter": "python",
   "pygments_lexer": "ipython3",
   "version": "3.11.7"
  }
 },
 "nbformat": 4,
 "nbformat_minor": 2
}
