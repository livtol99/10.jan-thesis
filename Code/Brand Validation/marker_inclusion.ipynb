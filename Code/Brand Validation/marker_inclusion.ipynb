{
 "cells": [
  {
   "cell_type": "code",
   "execution_count": 1,
   "metadata": {},
   "outputs": [
    {
     "name": "stderr",
     "output_type": "stream",
     "text": [
      "/tmp/ipykernel_1049629/2976155041.py:2: DeprecationWarning: \n",
      "Pyarrow will become a required dependency of pandas in the next major release of pandas (pandas 3.0),\n",
      "(to allow more performant data types, such as the Arrow string type, and better interoperability with other libraries)\n",
      "but was not found to be installed on your system.\n",
      "If this would cause problems for you,\n",
      "please provide us feedback at https://github.com/pandas-dev/pandas/issues/54466\n",
      "        \n",
      "  import pandas as pd\n"
     ]
    }
   ],
   "source": [
    "import networkx as nx\n",
    "import pandas as pd\n",
    "import matplotlib.pyplot as plt\n",
    "import prince\n",
    "import importlib\n",
    "\n",
    "import matplotlib.cm as cm\n",
    "import numpy as np\n",
    "from matplotlib.patches import Patch\n",
    "import seaborn as sns\n",
    "import matplotlib.lines as mlines\n",
    "import matplotlib.cm as cm\n",
    "import matplotlib.patches as mpatches\n",
    "\n",
    "from networkx.algorithms import bipartite\n",
    "\n",
    "\n",
    "import community as community_louvain\n",
    "from netgraph import Graph\n",
    "\n",
    "import sys\n",
    "sys.path.insert(0, '../Utility files')\n",
    "import corg\n",
    "from corg import DiscoverDimension\n",
    "import seaborn as sn\n",
    "from corg import BenchmarkDimension\n",
    "from corg import DiscoverDimension\n",
    "\n",
    "\n",
    "import utils2\n",
    "from utils2 import *\n",
    "import graphfunk\n",
    "from graphfunk import *\n"
   ]
  },
  {
   "cell_type": "markdown",
   "metadata": {},
   "source": [
    "See this link for setting up the facebook marketing API code:\n",
    "- https://github.com/carolcoimbra/facebook-ads/blob/master/example.ipynb "
   ]
  },
  {
   "cell_type": "markdown",
   "metadata": {},
   "source": [
    "# What Markers to Include?"
   ]
  },
  {
   "cell_type": "markdown",
   "metadata": {},
   "source": [
    "In this notebook, I'll try to identify what markers that make sense to include in our analysis. \n",
    "- We identify the dimension that is best at classifying/separating markers of clear difference in SES.\n",
    "- We do this via the CORG method for different CA fits (varying the network to include or leave out certain markers)"
   ]
  },
  {
   "cell_type": "markdown",
   "metadata": {},
   "source": [
    "### Load data"
   ]
  },
  {
   "cell_type": "markdown",
   "metadata": {},
   "source": [
    "- The data loaded here contains a row for each follower relationship a brand has. It includes the original type column, as well as the changed column (condensed from 12 to 4 types.)\n",
    "- Additionally, it has been filtered to only include markers with more than 100 followers"
   ]
  },
  {
   "cell_type": "code",
   "execution_count": 4,
   "metadata": {},
   "outputs": [],
   "source": [
    "# load data\n",
    "path = '/home/livtollanes/NewData/french/french_edgelist_marker_threshold.csv'\n",
    "\n",
    "req_cols = ['marker_id', 'follower_id', 'twitter_name','followers','french_followers', 'type', 'type2']\n",
    "dtypes = {'marker_id': 'object',\n",
    "          'follower_id': 'object',\n",
    "          'twitter_name': 'object',\n",
    "          'followers': 'int64',\n",
    "          'french_followers': 'int64',\n",
    "          'type': 'object',\n",
    "          'type2': 'object'}\n",
    "\n",
    "\n",
    "edgelist_CORG = pd.read_csv(path, usecols=req_cols, dtype=dtypes)"
   ]
  },
  {
   "cell_type": "markdown",
   "metadata": {},
   "source": [
    "### Create a list of high and low SES"
   ]
  },
  {
   "cell_type": "code",
   "execution_count": 5,
   "metadata": {},
   "outputs": [
    {
     "data": {
      "text/html": [
       "<div>\n",
       "<style scoped>\n",
       "    .dataframe tbody tr th:only-of-type {\n",
       "        vertical-align: middle;\n",
       "    }\n",
       "\n",
       "    .dataframe tbody tr th {\n",
       "        vertical-align: top;\n",
       "    }\n",
       "\n",
       "    .dataframe thead th {\n",
       "        text-align: right;\n",
       "    }\n",
       "</style>\n",
       "<table border=\"1\" class=\"dataframe\">\n",
       "  <thead>\n",
       "    <tr style=\"text-align: right;\">\n",
       "      <th></th>\n",
       "      <th>marker_id</th>\n",
       "      <th>follower_id</th>\n",
       "      <th>twitter_name</th>\n",
       "      <th>type</th>\n",
       "      <th>followers</th>\n",
       "      <th>french_followers</th>\n",
       "      <th>type2</th>\n",
       "    </tr>\n",
       "  </thead>\n",
       "  <tbody>\n",
       "    <tr>\n",
       "      <th>0</th>\n",
       "      <td>19976004</td>\n",
       "      <td>1193293102162862080</td>\n",
       "      <td>Mediapart</td>\n",
       "      <td>media</td>\n",
       "      <td>3079643</td>\n",
       "      <td>64182</td>\n",
       "      <td>information</td>\n",
       "    </tr>\n",
       "    <tr>\n",
       "      <th>1</th>\n",
       "      <td>19976004</td>\n",
       "      <td>2884619299</td>\n",
       "      <td>Mediapart</td>\n",
       "      <td>media</td>\n",
       "      <td>3079643</td>\n",
       "      <td>64182</td>\n",
       "      <td>information</td>\n",
       "    </tr>\n",
       "    <tr>\n",
       "      <th>2</th>\n",
       "      <td>19976004</td>\n",
       "      <td>782999494703054848</td>\n",
       "      <td>Mediapart</td>\n",
       "      <td>media</td>\n",
       "      <td>3079643</td>\n",
       "      <td>64182</td>\n",
       "      <td>information</td>\n",
       "    </tr>\n",
       "    <tr>\n",
       "      <th>3</th>\n",
       "      <td>19976004</td>\n",
       "      <td>124458686</td>\n",
       "      <td>Mediapart</td>\n",
       "      <td>media</td>\n",
       "      <td>3079643</td>\n",
       "      <td>64182</td>\n",
       "      <td>information</td>\n",
       "    </tr>\n",
       "    <tr>\n",
       "      <th>4</th>\n",
       "      <td>19976004</td>\n",
       "      <td>2960220189</td>\n",
       "      <td>Mediapart</td>\n",
       "      <td>media</td>\n",
       "      <td>3079643</td>\n",
       "      <td>64182</td>\n",
       "      <td>information</td>\n",
       "    </tr>\n",
       "  </tbody>\n",
       "</table>\n",
       "</div>"
      ],
      "text/plain": [
       "  marker_id          follower_id twitter_name   type  followers  \\\n",
       "0  19976004  1193293102162862080    Mediapart  media    3079643   \n",
       "1  19976004           2884619299    Mediapart  media    3079643   \n",
       "2  19976004   782999494703054848    Mediapart  media    3079643   \n",
       "3  19976004            124458686    Mediapart  media    3079643   \n",
       "4  19976004           2960220189    Mediapart  media    3079643   \n",
       "\n",
       "   french_followers        type2  \n",
       "0             64182  information  \n",
       "1             64182  information  \n",
       "2             64182  information  \n",
       "3             64182  information  \n",
       "4             64182  information  "
      ]
     },
     "execution_count": 5,
     "metadata": {},
     "output_type": "execute_result"
    }
   ],
   "source": [
    "edgelist_CORG.head()"
   ]
  },
  {
   "cell_type": "code",
   "execution_count": 12,
   "metadata": {},
   "outputs": [
    {
     "data": {
      "text/plain": [
       "64182"
      ]
     },
     "execution_count": 12,
     "metadata": {},
     "output_type": "execute_result"
    }
   ],
   "source": [
    "edgelist_CORG['french_followers'].max()"
   ]
  },
  {
   "cell_type": "markdown",
   "metadata": {},
   "source": [
    "- Within each of the 12 brand types, identify brands that are either high or low SES."
   ]
  },
  {
   "cell_type": "code",
   "execution_count": 16,
   "metadata": {},
   "outputs": [],
   "source": [
    "# # load data\n",
    "# path = '/home/livtollanes/NewData/french/french_edgelist.csv'\n",
    "\n",
    "# req_cols = ['marker_id', 'follower_id', 'twitter_name','followers','type']\n",
    "# dtypes = {'marker_id': 'object',\n",
    "#           'follower_id': 'object',\n",
    "#           'twitter_name': 'object',\n",
    "#           'followers': 'int64',\n",
    "#           'type': 'object'}\n",
    "\n",
    "\n",
    "# edgelist_old = pd.read_csv(path, usecols=req_cols, dtype=dtypes)\n",
    "\n",
    "\n",
    "# edgelist_old['french_followers'] = edgelist_old.groupby('marker_id')['marker_id'].transform('size')\n",
    "\n",
    "# utils2.check_types(edgelist_old, 'type', 'french_followers')"
   ]
  },
  {
   "cell_type": "markdown",
   "metadata": {},
   "source": [
    "Just double checked. We have only 11 types in the newly loaded df. This is because all Lycées Professionels in the french edgelist had less than 100 followers."
   ]
  },
  {
   "cell_type": "code",
   "execution_count": 39,
   "metadata": {},
   "outputs": [
    {
     "name": "stdout",
     "output_type": "stream",
     "text": [
      "Number of unique values in 'type': 11\n",
      "\n",
      "type = chain restaurants:\n",
      "  Min 'french_followers': 121\n",
      "  Max 'french_followers': 5716\n",
      "\n",
      "type = clubs de football:\n",
      "  Min 'french_followers': 139\n",
      "  Max 'french_followers': 21482\n",
      "\n",
      "type = commerce:\n",
      "  Min 'french_followers': 171\n",
      "  Max 'french_followers': 16142\n",
      "\n",
      "type = ecoles de commerce:\n",
      "  Min 'french_followers': 358\n",
      "  Max 'french_followers': 4128\n",
      "\n",
      "type = grande distribution:\n",
      "  Min 'french_followers': 243\n",
      "  Max 'french_followers': 8662\n",
      "\n",
      "type = luxe vetements et malls:\n",
      "  Min 'french_followers': 122\n",
      "  Max 'french_followers': 9385\n",
      "\n",
      "type = magazine:\n",
      "  Min 'french_followers': 111\n",
      "  Max 'french_followers': 40800\n",
      "\n",
      "type = media:\n",
      "  Min 'french_followers': 132\n",
      "  Max 'french_followers': 64182\n",
      "\n",
      "type = party:\n",
      "  Min 'french_followers': 173\n",
      "  Max 'french_followers': 17275\n",
      "\n",
      "type = sport:\n",
      "  Min 'french_followers': 103\n",
      "  Max 'french_followers': 7885\n",
      "\n",
      "type = universities:\n",
      "  Min 'french_followers': 255\n",
      "  Max 'french_followers': 7970\n",
      "\n"
     ]
    }
   ],
   "source": [
    "utils2.check_types(edgelist_CORG, 'type', 'french_followers')"
   ]
  },
  {
   "cell_type": "code",
   "execution_count": 52,
   "metadata": {},
   "outputs": [],
   "source": [
    "#Separate my data frame into dictionary of types\n",
    "def create_dict(df, key_col, value_col):\n",
    "    unique_df = df.drop_duplicates(subset=[key_col, value_col])\n",
    "    return unique_df.groupby(key_col)[value_col].apply(list).to_dict()\n",
    "\n",
    "\n",
    "df_dict = type_dict(edgelist_CORG, 'type', 'twitter_name')\n",
    "df_dict2 = type_dict(edgelist_CORG, 'type2', 'twitter_name')"
   ]
  },
  {
   "cell_type": "code",
   "execution_count": 51,
   "metadata": {},
   "outputs": [
    {
     "name": "stdout",
     "output_type": "stream",
     "text": [
      "Key: chain restaurants\n",
      "Value: ['brioche_doree', 'KFCFrance', 'McDonaldsFrance', 'bigmammagroup', 'pizzahutfr', 'QuickFrance_', 'BurgerKingFR']\n",
      "\n",
      "Key: clubs de football\n",
      "Value: ['RCLens', 'StadeDeReims', 'LOSC_EN', 'ACAjaccio', 'estac_officiel', 'FCNantes', 'RCSA', 'ClermontFoot', 'OL', 'ogcnice', 'AJA', 'OM_Officiel', 'PSG_inside', 'AS_Monaco', 'MontpellierHSC', 'ToulouseFC', 'FCLorient', 'AngersSCO']\n",
      "\n",
      "Key: commerce\n",
      "Value: ['rueducommerce', 'Darty_Officiel', 'AmazonFrance', 'vinted', 'Fnac', 'boulanger', 'Decathlon', 'Cdiscount']\n",
      "\n",
      "Key: ecoles de commerce\n",
      "Value: ['Psbeduparis', 'SKEMA_BS', 'EMLYON', 'ESCP_bs', 'inseec_ge', 'EDHEC_BSchool', 'esdes_BS', 'IESEG', 'essec']\n",
      "\n",
      "Key: grande distribution\n",
      "Value: ['Monoprix', 'Leclerc', 'franprix', 'lidlfrance', 'picardsurgeles', 'marksandspencer', 'CasinoEnseignes', 'AUCHAN_France', 'intermarche', 'CarrefourFrance']\n",
      "\n",
      "Key: luxe vetements et malls\n",
      "Value: ['Cartier', 'hmfrance', 'Westfield_FDH', 'YSL', 'UNIQLO_France', 'VeuveClicquot', 'Dior', 'LouisVuitton', 'CHANEL', 'ZARA', 'Hermes_Paris', 'SHEIN_Official', 'LancomeFR']\n",
      "\n",
      "Key: magazine\n",
      "Value: ['marieclaire_fr', 'LEXPRESS', 'femmeactuelle', 'Sante_Magazine', 'TeleLoisirs', 'lesinrocks', 'MagAvantages', 'Tele7', 'moto_journal', 'Telestarmag', 'TerreSauvageMag', 'ParisMatch', 'NotreTemps', 'InvestirFr', 'HarvardBiz', 'TVMAG', 'Cosmopolitan_fr', 'velomagazine', 'forbes_fr', 'TennisMagazine1', 'pleine_vie', 'sofoot', 'courrierinter', 'monjardinmag', 'Tele2Semaines', 'FortuneMagazine', 'Telerama', 'GQ_France', 'lessportivesmag', 'Madamefigaro', 'OnzeMondial', 'Sciences_Avenir']\n",
      "\n",
      "Key: media\n",
      "Value: ['Mediapart', 'fipradio', 'le_gorafi', 'Journal_Palaces', 'lopinion_fr', 'francebleu', 'TheatrumBelli', 'france_soir', 'rtlgroup', 'Valeurs', 'VogueFrance', 'AlterEco_', 'Franc_De_Souche', 'mdiplo', 'Lagazettefr', 'lanouvellerep_', 'VICEfr', 'LeMediaTV', 'LaTribune', 'FigaroMagazine_', '24heuresactu', 'BFMTV', 'franceculture', 'Europe1', 'Reporterre', 'humanite_fr', 'Causeur', 'Actu17']\n",
      "\n",
      "Key: party\n",
      "Value: ['VPF_France', 'RNational_off', 'UDMF_officiel', 'DLF_Officiel', 'RevPermanente', 'EELV', 'LutteOuvriere', 'NPA_officiel', 'lesRepublicains', 'FranceInsoumise', 'Renaissance', 'partisocialiste', 'Nouvelle_Donne', 'nationalistesfr', 'UPR_Officiel', 'PCF', 'MoDem', '_LesPatriotes', 'PartiAnimaliste', 'LesCentristes_', 'RSouveraine', 'ResistonsFrance', 'PartiRadicalG']\n",
      "\n",
      "Key: sport\n",
      "Value: ['lecoqsportif', 'pumafootball', 'KappaFrance', 'Nike', 'Reebok', 'Lafuma_France', 'UnderArmour', 'ASICSFrance', 'Quiksilver', 'TheNorthFaceEU', 'Gymshark', 'Moncler', 'Lacoste', 'adidasFR', 'billabong1973', 'Converse', 'Timberland']\n",
      "\n",
      "Key: universities\n",
      "Value: ['Polytechnique', 'UnivParis8', 'Univ_Orleans', 'UPJV_Univ', 'unistra', 'univbourgogne', 'AgroParisTech', 'univ_lyon2', 'UnivPoitiers', 'UnivTours', 'Mines_Paris', 'Sorbonne_Univ_', 'ENS_ULM', 'universitereims', 'univbordeaux', 'cdf1530', 'univ_spn', 'Ecoledeschartes', 'Univ_Toulouse', 'UnivLyon1', 'Paris_Dauphine', 'telecomparis', 'UnivAngers', 'Ecole_navale', 'SorbonneParis1', 'AssasUniversite', 'EHESS_fr', 'UGustaveEiffel', 'centralesupelec', 'NantesUniv', 'UniversiteCergy', 'UCAuvergne', 'univrouen', 'HECParis', 'EcoledesPonts', 'sciencespo', 'ENSAEparis', 'UGrenobleAlpes', 'univamu']\n",
      "\n"
     ]
    }
   ],
   "source": [
    "for key, value in df_dict.items():\n",
    "    value = list(set(value))\n",
    "    print(f\"Key: {key}\")\n",
    "    print(f\"Value: {value}\\n\")"
   ]
  },
  {
   "cell_type": "code",
   "execution_count": 53,
   "metadata": {},
   "outputs": [
    {
     "name": "stdout",
     "output_type": "stream",
     "text": [
      "Key: consumption\n",
      "Value: ['brioche_doree', 'Leclerc', 'franprix', 'hmfrance', 'KappaFrance', 'YSL', 'picardsurgeles', 'Reebok', 'Lafuma_France', 'Quiksilver', 'CasinoEnseignes', 'billabong1973', 'CHANEL', 'Decathlon', 'SHEIN_Official', 'bigmammagroup', 'marksandspencer', 'Converse', 'lecoqsportif', 'UnderArmour', 'AmazonFrance', 'boulanger', 'Gymshark', 'Moncler', 'Lacoste', 'ZARA', 'Hermes_Paris', 'intermarche', 'pizzahutfr', 'CarrefourFrance', 'Timberland', 'rueducommerce', 'Monoprix', 'Cartier', 'Darty_Officiel', 'pumafootball', 'lidlfrance', 'VeuveClicquot', 'Westfield_FDH', 'McDonaldsFrance', 'Fnac', 'adidasFR', 'BurgerKingFR', 'KFCFrance', 'UNIQLO_France', 'Nike', 'Dior', 'ASICSFrance', 'TheNorthFaceEU', 'vinted', 'AUCHAN_France', 'LouisVuitton', 'LancomeFR', 'QuickFrance_', 'Cdiscount']\n",
      "\n",
      "Key: education\n",
      "Value: ['Psbeduparis', 'Polytechnique', 'UnivParis8', 'Univ_Orleans', 'UPJV_Univ', 'unistra', 'EMLYON', 'univbourgogne', 'AgroParisTech', 'univ_lyon2', 'essec', 'UnivPoitiers', 'UnivTours', 'Mines_Paris', 'Sorbonne_Univ_', 'ENS_ULM', 'universitereims', 'univbordeaux', 'cdf1530', 'univ_spn', 'Ecoledeschartes', 'IESEG', 'Univ_Toulouse', 'UnivLyon1', 'Paris_Dauphine', 'telecomparis', 'UnivAngers', 'Ecole_navale', 'SorbonneParis1', 'AssasUniversite', 'ESCP_bs', 'EDHEC_BSchool', 'EHESS_fr', 'UGustaveEiffel', 'esdes_BS', 'centralesupelec', 'NantesUniv', 'UniversiteCergy', 'UCAuvergne', 'SKEMA_BS', 'univrouen', 'HECParis', 'EcoledesPonts', 'sciencespo', 'inseec_ge', 'UGrenobleAlpes', 'ENSAEparis', 'univamu']\n",
      "\n",
      "Key: football clubs\n",
      "Value: ['RCLens', 'StadeDeReims', 'LOSC_EN', 'ACAjaccio', 'estac_officiel', 'FCNantes', 'RCSA', 'ClermontFoot', 'OL', 'ogcnice', 'AJA', 'OM_Officiel', 'PSG_inside', 'AS_Monaco', 'MontpellierHSC', 'ToulouseFC', 'FCLorient', 'AngersSCO']\n",
      "\n",
      "Key: information\n",
      "Value: ['RNational_off', 'UDMF_officiel', 'fipradio', 'Telestarmag', 'Renaissance', 'velomagazine', 'UPR_Officiel', 'mdiplo', 'courrierinter', 'monjardinmag', '24heuresactu', 'FigaroMagazine_', 'MoDem', '_LesPatriotes', 'lessportivesmag', 'Reporterre', 'LesCentristes_', 'Mediapart', 'VPF_France', 'LEXPRESS', 'TeleLoisirs', 'EELV', 'lopinion_fr', 'InvestirFr', 'HarvardBiz', 'Nouvelle_Donne', 'nationalistesfr', 'VogueFrance', 'sofoot', 'PCF', 'LeMediaTV', 'Telerama', 'franceculture', 'Sciences_Avenir', 'RSouveraine', 'Causeur', 'Sante_Magazine', 'le_gorafi', 'lesinrocks', 'MagAvantages', 'DLF_Officiel', 'LutteOuvriere', 'moto_journal', 'NPA_officiel', 'TerreSauvageMag', 'ParisMatch', 'lesRepublicains', 'FranceInsoumise', 'france_soir', 'partisocialiste', 'pleine_vie', 'AlterEco_', 'Franc_De_Souche', 'Lagazettefr', 'BFMTV', 'Madamefigaro', 'OnzeMondial', 'humanite_fr', 'ResistonsFrance', 'Actu17', 'marieclaire_fr', 'femmeactuelle', 'Journal_Palaces', 'RevPermanente', 'Tele7', 'francebleu', 'TheatrumBelli', 'NotreTemps', 'TVMAG', 'rtlgroup', 'Cosmopolitan_fr', 'forbes_fr', 'TennisMagazine1', 'Valeurs', 'lanouvellerep_', 'VICEfr', 'Tele2Semaines', 'LaTribune', 'FortuneMagazine', 'GQ_France', 'Europe1', 'PartiAnimaliste', 'PartiRadicalG']\n",
      "\n"
     ]
    }
   ],
   "source": [
    "for key, value in df_dict2.items():\n",
    "    value = list(set(value))\n",
    "    print(f\"Key: {key}\")\n",
    "    print(f\"Value: {value}\\n\")"
   ]
  },
  {
   "cell_type": "markdown",
   "metadata": {},
   "source": [
    "The fact that we're using reasoning to determine our validation set here is slightly flawed."
   ]
  },
  {
   "cell_type": "code",
   "execution_count": null,
   "metadata": {},
   "outputs": [],
   "source": []
  },
  {
   "cell_type": "markdown",
   "metadata": {},
   "source": [
    "## CORG for assessing models"
   ]
  },
  {
   "cell_type": "code",
   "execution_count": 7,
   "metadata": {},
   "outputs": [],
   "source": [
    "import corg\n",
    "from corg import DiscoverDimension\n",
    "import seaborn as sn\n",
    "from corg import BenchmarkDimension\n",
    "from corg import DiscoverDimension\n"
   ]
  },
  {
   "cell_type": "code",
   "execution_count": null,
   "metadata": {},
   "outputs": [],
   "source": []
  }
 ],
 "metadata": {
  "kernelspec": {
   "display_name": "09.2thesis",
   "language": "python",
   "name": "python3"
  },
  "language_info": {
   "codemirror_mode": {
    "name": "ipython",
    "version": 3
   },
   "file_extension": ".py",
   "mimetype": "text/x-python",
   "name": "python",
   "nbconvert_exporter": "python",
   "pygments_lexer": "ipython3",
   "version": "3.11.7"
  }
 },
 "nbformat": 4,
 "nbformat_minor": 2
}
