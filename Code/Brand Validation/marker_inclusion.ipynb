{
 "cells": [
  {
   "cell_type": "code",
   "execution_count": 45,
   "metadata": {},
   "outputs": [],
   "source": [
    "import networkx as nx\n",
    "import pandas as pd\n",
    "import matplotlib.pyplot as plt\n",
    "import prince\n",
    "import importlib\n",
    "\n",
    "import matplotlib.cm as cm\n",
    "import numpy as np\n",
    "from matplotlib.patches import Patch\n",
    "import seaborn as sns\n",
    "import matplotlib.lines as mlines\n",
    "import matplotlib.cm as cm\n",
    "import matplotlib.patches as mpatches\n",
    "\n",
    "from networkx.algorithms import bipartite\n",
    "\n",
    "\n",
    "import community as community_louvain\n",
    "from netgraph import Graph\n",
    "\n",
    "import sys\n",
    "sys.path.insert(0, '../Utility files')\n",
    "import corg\n",
    "from corg import DiscoverDimension\n",
    "import seaborn as sn\n",
    "from corg import BenchmarkDimension\n",
    "from corg import DiscoverDimension\n",
    "\n",
    "\n",
    "import utils2\n",
    "from utils2 import *\n",
    "import graphfunk\n",
    "from graphfunk import *\n",
    "\n",
    "import ca_pipeline\n",
    "from ca_pipeline import *\n"
   ]
  },
  {
   "cell_type": "markdown",
   "metadata": {},
   "source": [
    "See this link for setting up the facebook marketing API code:\n",
    "- https://github.com/carolcoimbra/facebook-ads/blob/master/example.ipynb "
   ]
  },
  {
   "cell_type": "markdown",
   "metadata": {},
   "source": [
    "# What Markers to Include?"
   ]
  },
  {
   "cell_type": "markdown",
   "metadata": {},
   "source": [
    "In this notebook, I'll try to identify what markers that make sense to include in our analysis. \n",
    "- We identify the dimension that is best at classifying/separating markers of clear difference in SES.\n",
    "- We do this via the CORG method for different CA fits (varying the network to include or leave out certain markers)\n",
    "- The CORG methodology might be problematic since we don't have a good span of data variables in high and low categories"
   ]
  },
  {
   "cell_type": "markdown",
   "metadata": {},
   "source": [
    "### Load data"
   ]
  },
  {
   "cell_type": "markdown",
   "metadata": {},
   "source": [
    "- The data loaded here contains a row for each follower relationship a brand has. It includes the original type column, as well as the changed column (condensed from 12 to 4 types.)\n",
    "- Additionally, it has been filtered to only include markers with more than 100 followers"
   ]
  },
  {
   "cell_type": "code",
   "execution_count": 3,
   "metadata": {},
   "outputs": [],
   "source": [
    "# load data\n",
    "path = '/home/livtollanes/NewData/french/french_edgelist_marker_threshold.csv'\n",
    "\n",
    "req_cols = ['marker_id', 'follower_id', 'twitter_name','followers','french_followers', 'type', 'type2']\n",
    "dtypes = {'marker_id': 'object',\n",
    "          'follower_id': 'object',\n",
    "          'twitter_name': 'object',\n",
    "          'followers': 'int64',\n",
    "          'french_followers': 'int64',\n",
    "          'type': 'object',\n",
    "          'type2': 'object'}\n",
    "\n",
    "\n",
    "edgelist_CORG = pd.read_csv(path, usecols=req_cols, dtype=dtypes)"
   ]
  },
  {
   "cell_type": "code",
   "execution_count": 4,
   "metadata": {},
   "outputs": [
    {
     "data": {
      "text/html": [
       "<div>\n",
       "<style scoped>\n",
       "    .dataframe tbody tr th:only-of-type {\n",
       "        vertical-align: middle;\n",
       "    }\n",
       "\n",
       "    .dataframe tbody tr th {\n",
       "        vertical-align: top;\n",
       "    }\n",
       "\n",
       "    .dataframe thead th {\n",
       "        text-align: right;\n",
       "    }\n",
       "</style>\n",
       "<table border=\"1\" class=\"dataframe\">\n",
       "  <thead>\n",
       "    <tr style=\"text-align: right;\">\n",
       "      <th></th>\n",
       "      <th>marker_id</th>\n",
       "      <th>follower_id</th>\n",
       "      <th>twitter_name</th>\n",
       "      <th>type</th>\n",
       "      <th>followers</th>\n",
       "      <th>french_followers</th>\n",
       "      <th>type2</th>\n",
       "    </tr>\n",
       "  </thead>\n",
       "  <tbody>\n",
       "    <tr>\n",
       "      <th>0</th>\n",
       "      <td>19976004</td>\n",
       "      <td>1193293102162862080</td>\n",
       "      <td>Mediapart</td>\n",
       "      <td>media</td>\n",
       "      <td>3079643</td>\n",
       "      <td>64182</td>\n",
       "      <td>information</td>\n",
       "    </tr>\n",
       "    <tr>\n",
       "      <th>1</th>\n",
       "      <td>19976004</td>\n",
       "      <td>2884619299</td>\n",
       "      <td>Mediapart</td>\n",
       "      <td>media</td>\n",
       "      <td>3079643</td>\n",
       "      <td>64182</td>\n",
       "      <td>information</td>\n",
       "    </tr>\n",
       "    <tr>\n",
       "      <th>2</th>\n",
       "      <td>19976004</td>\n",
       "      <td>782999494703054848</td>\n",
       "      <td>Mediapart</td>\n",
       "      <td>media</td>\n",
       "      <td>3079643</td>\n",
       "      <td>64182</td>\n",
       "      <td>information</td>\n",
       "    </tr>\n",
       "    <tr>\n",
       "      <th>3</th>\n",
       "      <td>19976004</td>\n",
       "      <td>124458686</td>\n",
       "      <td>Mediapart</td>\n",
       "      <td>media</td>\n",
       "      <td>3079643</td>\n",
       "      <td>64182</td>\n",
       "      <td>information</td>\n",
       "    </tr>\n",
       "    <tr>\n",
       "      <th>4</th>\n",
       "      <td>19976004</td>\n",
       "      <td>2960220189</td>\n",
       "      <td>Mediapart</td>\n",
       "      <td>media</td>\n",
       "      <td>3079643</td>\n",
       "      <td>64182</td>\n",
       "      <td>information</td>\n",
       "    </tr>\n",
       "  </tbody>\n",
       "</table>\n",
       "</div>"
      ],
      "text/plain": [
       "  marker_id          follower_id twitter_name   type  followers  \\\n",
       "0  19976004  1193293102162862080    Mediapart  media    3079643   \n",
       "1  19976004           2884619299    Mediapart  media    3079643   \n",
       "2  19976004   782999494703054848    Mediapart  media    3079643   \n",
       "3  19976004            124458686    Mediapart  media    3079643   \n",
       "4  19976004           2960220189    Mediapart  media    3079643   \n",
       "\n",
       "   french_followers        type2  \n",
       "0             64182  information  \n",
       "1             64182  information  \n",
       "2             64182  information  \n",
       "3             64182  information  \n",
       "4             64182  information  "
      ]
     },
     "execution_count": 4,
     "metadata": {},
     "output_type": "execute_result"
    }
   ],
   "source": [
    "edgelist_CORG.head()"
   ]
  },
  {
   "cell_type": "code",
   "execution_count": 17,
   "metadata": {},
   "outputs": [],
   "source": [
    "# load data\n",
    "path = '/home/livtollanes/10.jan-thesis/labeldata/filled_labels_markers.csv'\n",
    "\n",
    "req_cols = ['type', 'twitter_name', 'high', 'low', 'other']\n",
    "dtypes = {'type': 'object',\n",
    "          'twitter_name': 'object',\n",
    "          'high': 'object',\n",
    "          'low': 'object',\n",
    "          'other': 'object'}\n",
    "\n",
    "labels_hl = pd.read_csv(path, usecols=req_cols, dtype=dtypes)"
   ]
  },
  {
   "cell_type": "markdown",
   "metadata": {},
   "source": [
    "### Create an empty csv file to fill in manualy (High vs. Low SES)"
   ]
  },
  {
   "cell_type": "code",
   "execution_count": null,
   "metadata": {},
   "outputs": [],
   "source": [
    "# #Separate my data frame into dictionary of types\n",
    "# def create_dict(df, key_col, value_col):\n",
    "#     unique_df = df.drop_duplicates(subset=[key_col, value_col])\n",
    "#     return unique_df.groupby(key_col)[value_col].apply(list).to_dict()\n",
    "\n",
    "\n",
    "# df_dict = create_dict(edgelist_CORG, 'type', 'twitter_name')\n",
    "# df_dict2 = create_dict(edgelist_CORG, 'type2', 'twitter_name')\n",
    "\n",
    "\n",
    "# for key, value in df_dict.items():\n",
    "#     value = list(set(value))\n",
    "#     print(f\"Key: {key}\")\n",
    "#     print(f\"Value: {value}\\n\")\n",
    "\n",
    "\n",
    "\n",
    "# # Create a csv file to use for labeling \n",
    "# rows = []\n",
    "# for key, values in df_dict.items():\n",
    "#     for value in values:\n",
    "#         row = {'type': key, 'twitter_name': value, 'high': '', 'low': ''}\n",
    "#         rows.append(row)\n",
    "\n",
    "# # Now we write the rows to a CSV file\n",
    "# keys = ['type', 'twitter_name', 'high', 'low']\n",
    "\n",
    "# with open('/home/livtollanes/10.jan-thesis/labeldata/labeled_markers_empty.csv', 'w', newline='') as output_file:\n",
    "#     dict_writer = csv.DictWriter(output_file, keys)\n",
    "#     dict_writer.writeheader()\n",
    "#     dict_writer.writerows(rows)"
   ]
  },
  {
   "cell_type": "markdown",
   "metadata": {},
   "source": [
    "Now, reformat the filled in label df"
   ]
  },
  {
   "cell_type": "code",
   "execution_count": 26,
   "metadata": {},
   "outputs": [],
   "source": [
    "# Create the labeled marker df to input to the CORG method\n",
    "\n",
    "# Create a copy of labels_hl\n",
    "labels_CORG = labels_hl.copy()\n",
    "\n",
    "# Create 'SES' column\n",
    "labels_CORG['SES'] = np.where(labels_CORG['high'] == '1', '1', \n",
    "                              np.where(labels_CORG['low'] == '1', '0', 'drop'))\n",
    "\n",
    "# Drop the rows where 'SES' is 'drop'\n",
    "labels_CORG = labels_CORG[labels_CORG['SES'] != 'drop']\n",
    "\n",
    "# Keep only 'twitter_name' and 'SES' columns\n",
    "labels_CORG = labels_CORG[['twitter_name', 'SES']]"
   ]
  },
  {
   "cell_type": "markdown",
   "metadata": {},
   "source": [
    "### CA class implementation"
   ]
  },
  {
   "cell_type": "code",
   "execution_count": 7,
   "metadata": {},
   "outputs": [],
   "source": [
    "# load data\n",
    "path = '/home/livtollanes/NewData/french/french_edgelist_marker_threshold.csv'\n",
    "\n",
    "req_cols = ['marker_id', 'follower_id', 'twitter_name','followers','french_followers', 'type', 'type2']\n",
    "dtypes = {'marker_id': 'object',\n",
    "          'follower_id': 'object',\n",
    "          'twitter_name': 'object',\n",
    "          'followers': 'int64',\n",
    "          'french_followers': 'int64',\n",
    "          'type': 'object',\n",
    "          'type2': 'object'}\n",
    "\n",
    "\n",
    "all = pd.read_csv(path, usecols=req_cols, dtype=dtypes)"
   ]
  },
  {
   "cell_type": "markdown",
   "metadata": {},
   "source": [
    "## CORG for assessing models"
   ]
  },
  {
   "cell_type": "code",
   "execution_count": 29,
   "metadata": {},
   "outputs": [],
   "source": [
    "import corg\n",
    "from corg import DiscoverDimension\n",
    "import seaborn as sn\n",
    "from corg import BenchmarkDimension\n",
    "from corg import DiscoverDimension\n"
   ]
  },
  {
   "cell_type": "code",
   "execution_count": null,
   "metadata": {},
   "outputs": [],
   "source": []
  }
 ],
 "metadata": {
  "kernelspec": {
   "display_name": "09.2thesis",
   "language": "python",
   "name": "python3"
  },
  "language_info": {
   "codemirror_mode": {
    "name": "ipython",
    "version": 3
   },
   "file_extension": ".py",
   "mimetype": "text/x-python",
   "name": "python",
   "nbconvert_exporter": "python",
   "pygments_lexer": "ipython3",
   "version": "3.11.7"
  }
 },
 "nbformat": 4,
 "nbformat_minor": 2
}
