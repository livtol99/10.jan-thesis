{
 "cells": [
  {
   "cell_type": "markdown",
   "metadata": {},
   "source": [
    "# Validation of job titles in bios"
   ]
  },
  {
   "cell_type": "code",
   "execution_count": 29,
   "metadata": {},
   "outputs": [],
   "source": [
    "# Standard library imports\n",
    "import sys\n",
    "\n",
    "# Third party imports\n",
    "import networkx as nx\n",
    "import pandas as pd\n",
    "import matplotlib.pyplot as plt\n",
    "import matplotlib.cm as cm\n",
    "import matplotlib.lines as mlines\n",
    "import matplotlib.patches as mpatches\n",
    "import seaborn as sns\n",
    "import numpy as np\n",
    "import prince\n",
    "from networkx.algorithms import bipartite\n",
    "from matplotlib.patches import Patch\n",
    "import community as community_louvain\n",
    "from netgraph import Graph\n",
    "\n",
    "\n",
    "from nltk import ngrams\n",
    "from collections import Counter\n",
    "\n",
    "# Local application imports\n",
    "sys.path.insert(0, '../Utility files')\n",
    "import utils2\n",
    "from utils2 import *\n"
   ]
  },
  {
   "cell_type": "code",
   "execution_count": 2,
   "metadata": {},
   "outputs": [],
   "source": [
    "\n",
    "# load data\n",
    "path = '/home/livtollanes/NewData/french/french1_updated.csv'\n",
    "\n",
    "req_cols = ['follower_id', 'screen_name', 'description','description_cleantext','location', 'language', 'country']\n",
    "dtypes = {'follower_id': 'object',\n",
    "          'screen_name': 'object', \n",
    "          'description': 'object',\n",
    "          'description_cleantext': 'object',\n",
    "          'location': 'object',\n",
    "          'language': 'object',\n",
    "          'country': 'object'}\n",
    "\n",
    "\n",
    "bios = pd.read_csv(path, usecols=req_cols, dtype=dtypes)"
   ]
  },
  {
   "cell_type": "markdown",
   "metadata": {},
   "source": [
    "the data below comes from https://www.insee.fr/fr/information/6450559"
   ]
  },
  {
   "cell_type": "code",
   "execution_count": 6,
   "metadata": {},
   "outputs": [],
   "source": [
    "#Load job title data\n",
    "titles = pd.read_excel('/home/livtollanes/10.jan-thesis/labeldata/titles.xlsx')"
   ]
  },
  {
   "cell_type": "code",
   "execution_count": 5,
   "metadata": {},
   "outputs": [
    {
     "name": "stderr",
     "output_type": "stream",
     "text": [
      "/tmp/ipykernel_1559056/841559411.py:13: UserWarning: This pattern is interpreted as a regular expression, and has match groups. To actually get the groups, use str.extract.\n",
      "  filtered_df1 = bios[bios['description_cleantext'].str.contains(pattern1, na=False)]\n",
      "/tmp/ipykernel_1559056/841559411.py:14: UserWarning: This pattern is interpreted as a regular expression, and has match groups. To actually get the groups, use str.extract.\n",
      "  filtered_df2 = bios[bios['description_cleantext'].str.contains(pattern2, na=False)]\n"
     ]
    }
   ],
   "source": [
    "# words1 = titles['title_female'].tolist()\n",
    "# words2 = titles['title_man'].tolist()\n",
    "\n",
    "# # Convert all items in the list to strings\n",
    "# words1 = [str(item) for item in words1]\n",
    "# words2 = [str(item) for item in words2]\n",
    "\n",
    "# # Create a pattern for the words to be searched\n",
    "# pattern1 = '|'.join(words1)\n",
    "# pattern2 = '|'.join(words2)\n",
    "\n",
    "# # Use str.contains to get rows where 'description_cleantext' contains any word from the lists\n",
    "# filtered_df1 = bios[bios['description_cleantext'].str.contains(pattern1, na=False)]\n",
    "# filtered_df2 = bios[bios['description_cleantext'].str.contains(pattern2, na=False)]"
   ]
  },
  {
   "cell_type": "code",
   "execution_count": 12,
   "metadata": {},
   "outputs": [],
   "source": [
    "# def find_matching_word(description, words):\n",
    "#     for word in words:\n",
    "#         if contains_first_or_all_words(description, word):\n",
    "#             return word\n",
    "#     return None\n",
    "\n",
    "# bios['job1'] = bios['description_cleantext'].apply(lambda x: find_matching_word(x, words1))\n",
    "# bios['job2'] = bios['description_cleantext'].apply(lambda x: find_matching_word(x, words2))\n",
    "\n",
    "# # Combine 'job1' and 'job2' into a single 'job' column\n",
    "# bios['job'] = bios['job1'].combine_first(bios['job2'])\n",
    "\n",
    "# # Drop the 'job1' and 'job2' columns\n",
    "# bios.drop(['job1', 'job2'], axis=1, inplace=True)"
   ]
  },
  {
   "cell_type": "code",
   "execution_count": 18,
   "metadata": {},
   "outputs": [
    {
     "data": {
      "text/html": [
       "<div>\n",
       "<style scoped>\n",
       "    .dataframe tbody tr th:only-of-type {\n",
       "        vertical-align: middle;\n",
       "    }\n",
       "\n",
       "    .dataframe tbody tr th {\n",
       "        vertical-align: top;\n",
       "    }\n",
       "\n",
       "    .dataframe thead th {\n",
       "        text-align: right;\n",
       "    }\n",
       "</style>\n",
       "<table border=\"1\" class=\"dataframe\">\n",
       "  <thead>\n",
       "    <tr style=\"text-align: right;\">\n",
       "      <th></th>\n",
       "      <th>job</th>\n",
       "      <th>description_cleantext</th>\n",
       "    </tr>\n",
       "  </thead>\n",
       "  <tbody>\n",
       "    <tr>\n",
       "      <th>76</th>\n",
       "      <td>Régisseuse d'événementiel</td>\n",
       "      <td>Régisseuse d œuvres d art padawan féministe passionnée d arts</td>\n",
       "    </tr>\n",
       "    <tr>\n",
       "      <th>77</th>\n",
       "      <td>Journaliste</td>\n",
       "      <td>JournalisteRéd en chef RF magex lamanchelibreCollabore Figaro Magazine LeMeridionalOff et Asie Reportages</td>\n",
       "    </tr>\n",
       "    <tr>\n",
       "      <th>78</th>\n",
       "      <td>nan</td>\n",
       "      <td>membre titulaire de la commission éthique de nantesmetropole</td>\n",
       "    </tr>\n",
       "    <tr>\n",
       "      <th>80</th>\n",
       "      <td>Maire</td>\n",
       "      <td>Maire d AulnaySousBois Président de Paris terresdenvol Conseiller régional d iledefrance Secrétaire National lesrepublicains en charge de la Sécurité</td>\n",
       "    </tr>\n",
       "    <tr>\n",
       "      <th>85</th>\n",
       "      <td>nan</td>\n",
       "      <td>Pratique le culte du jus d ananas Instagram lolilas_</td>\n",
       "    </tr>\n",
       "    <tr>\n",
       "      <th>91</th>\n",
       "      <td>nan</td>\n",
       "      <td>Journaliste en formation à l EPJTours bretonnante Zellidja</td>\n",
       "    </tr>\n",
       "    <tr>\n",
       "      <th>92</th>\n",
       "      <td>Ébéniste</td>\n",
       "      <td>Sami Dubosc Ébéniste designer manufactureduboscetfils design art madeinfrance tih malvoyant handicap boosteurdebonheur les3b activateurdeprogrès</td>\n",
       "    </tr>\n",
       "    <tr>\n",
       "      <th>93</th>\n",
       "      <td>Social media manager</td>\n",
       "      <td>Bienvenue sur le compte Twitter des Socialistes de Montrouge social écologique solidaire jaimemontrouge montrougemaville</td>\n",
       "    </tr>\n",
       "    <tr>\n",
       "      <th>95</th>\n",
       "      <td>Journaliste</td>\n",
       "      <td>Journaliste reporter d images Ministère de l Éducation</td>\n",
       "    </tr>\n",
       "    <tr>\n",
       "      <th>101</th>\n",
       "      <td>Conseiller des activités physiques et sportives</td>\n",
       "      <td>Dircomcab externalisé ComPublique Compol Influence attractivité RP Conseiller Municipal Cassis Pdt think tank HELP Sec Nal E M Écologie Modernisme</td>\n",
       "    </tr>\n",
       "    <tr>\n",
       "      <th>105</th>\n",
       "      <td>Colonel des armées</td>\n",
       "      <td>Future ingénieure fan de Colonel Ryel</td>\n",
       "    </tr>\n",
       "    <tr>\n",
       "      <th>106</th>\n",
       "      <td>Famille d'accueil</td>\n",
       "      <td>Droite modérée et en même temps EmmanuelMacron Non aux extrémistes Famille en France Madagascar Espagne</td>\n",
       "    </tr>\n",
       "    <tr>\n",
       "      <th>109</th>\n",
       "      <td>Consul général (adjoint)</td>\n",
       "      <td>Objectivité papagay Consultant en organisation d entreprise fan de déco Occitanie politique</td>\n",
       "    </tr>\n",
       "    <tr>\n",
       "      <th>111</th>\n",
       "      <td>Maire</td>\n",
       "      <td>Maire de Bassens 33 Conseiller délégué à Bordeaux Métropole VP SIAO de Carbon blanc Pdt Hauts de Garonne Développement Pdt SIVOM Rive Droite</td>\n",
       "    </tr>\n",
       "    <tr>\n",
       "      <th>112</th>\n",
       "      <td>Journaliste</td>\n",
       "      <td>Journaliste pigiste Fondatrice de paysrevue Beurre salé sujets de société Telerama Causettelemag LaVieHebdo lemonde_m sanstransibzh etc</td>\n",
       "    </tr>\n",
       "    <tr>\n",
       "      <th>113</th>\n",
       "      <td>Formateur pour adulte</td>\n",
       "      <td>Formateur aux contenus numériques co fondateur du centre de formation Immediat_ scop journaliste multimédia Ex ladepechedumidi 20minutes Toulouse</td>\n",
       "    </tr>\n",
       "    <tr>\n",
       "      <th>114</th>\n",
       "      <td>Journaliste</td>\n",
       "      <td>Journaliste reporter d images freelance Direction la Méditerranée entre Bosnie et Turquie</td>\n",
       "    </tr>\n",
       "    <tr>\n",
       "      <th>116</th>\n",
       "      <td>Fabricant d'armes</td>\n",
       "      <td>http www shenzhen multimedia com société française Fabricant d écrans géants à LED SMD en France affichagedynamique communication technologie HD</td>\n",
       "    </tr>\n",
       "    <tr>\n",
       "      <th>122</th>\n",
       "      <td>Adjointe administrative (accueil)</td>\n",
       "      <td>Membre du Conseil Exécutif de gecologieAdjointe au Maire Transition Ecologique à SaintAndreDeCubzacRéférente Gironde NouvelleAquitaine GEcologie33</td>\n",
       "    </tr>\n",
       "    <tr>\n",
       "      <th>123</th>\n",
       "      <td>Juriste</td>\n",
       "      <td>Juriste spécialisée en droit du sport</td>\n",
       "    </tr>\n",
       "  </tbody>\n",
       "</table>\n",
       "</div>"
      ],
      "text/plain": [
       "                                                 job  \\\n",
       "76                         Régisseuse d'événementiel   \n",
       "77                                       Journaliste   \n",
       "78                                               nan   \n",
       "80                                             Maire   \n",
       "85                                               nan   \n",
       "91                                               nan   \n",
       "92                                          Ébéniste   \n",
       "93                              Social media manager   \n",
       "95                                       Journaliste   \n",
       "101  Conseiller des activités physiques et sportives   \n",
       "105                               Colonel des armées   \n",
       "106                                Famille d'accueil   \n",
       "109                         Consul général (adjoint)   \n",
       "111                                            Maire   \n",
       "112                                      Journaliste   \n",
       "113                            Formateur pour adulte   \n",
       "114                                      Journaliste   \n",
       "116                                Fabricant d'armes   \n",
       "122                Adjointe administrative (accueil)   \n",
       "123                                          Juriste   \n",
       "\n",
       "                                                                                                                                     description_cleantext  \n",
       "76                                                                                           Régisseuse d œuvres d art padawan féministe passionnée d arts  \n",
       "77                                               JournalisteRéd en chef RF magex lamanchelibreCollabore Figaro Magazine LeMeridionalOff et Asie Reportages  \n",
       "78                                                                                            membre titulaire de la commission éthique de nantesmetropole  \n",
       "80   Maire d AulnaySousBois Président de Paris terresdenvol Conseiller régional d iledefrance Secrétaire National lesrepublicains en charge de la Sécurité  \n",
       "85                                                                                                    Pratique le culte du jus d ananas Instagram lolilas_  \n",
       "91                                                                                             Journaliste en formation à l EPJTours bretonnante Zellidja   \n",
       "92        Sami Dubosc Ébéniste designer manufactureduboscetfils design art madeinfrance tih malvoyant handicap boosteurdebonheur les3b activateurdeprogrès  \n",
       "93                                Bienvenue sur le compte Twitter des Socialistes de Montrouge social écologique solidaire jaimemontrouge montrougemaville  \n",
       "95                                                                                                  Journaliste reporter d images Ministère de l Éducation  \n",
       "101     Dircomcab externalisé ComPublique Compol Influence attractivité RP Conseiller Municipal Cassis Pdt think tank HELP Sec Nal E M Écologie Modernisme  \n",
       "105                                                                                                                  Future ingénieure fan de Colonel Ryel  \n",
       "106                                               Droite modérée et en même temps EmmanuelMacron Non aux extrémistes Famille en France Madagascar Espagne   \n",
       "109                                                            Objectivité papagay Consultant en organisation d entreprise fan de déco Occitanie politique  \n",
       "111           Maire de Bassens 33 Conseiller délégué à Bordeaux Métropole VP SIAO de Carbon blanc Pdt Hauts de Garonne Développement Pdt SIVOM Rive Droite  \n",
       "112               Journaliste pigiste Fondatrice de paysrevue Beurre salé sujets de société Telerama Causettelemag LaVieHebdo lemonde_m sanstransibzh etc   \n",
       "113      Formateur aux contenus numériques co fondateur du centre de formation Immediat_ scop journaliste multimédia Ex ladepechedumidi 20minutes Toulouse  \n",
       "114                                                             Journaliste reporter d images freelance Direction la Méditerranée entre Bosnie et Turquie   \n",
       "116       http www shenzhen multimedia com société française Fabricant d écrans géants à LED SMD en France affichagedynamique communication technologie HD  \n",
       "122     Membre du Conseil Exécutif de gecologieAdjointe au Maire Transition Ecologique à SaintAndreDeCubzacRéférente Gironde NouvelleAquitaine GEcologie33  \n",
       "123                                                                                                                 Juriste spécialisée en droit du sport   "
      ]
     },
     "execution_count": 18,
     "metadata": {},
     "output_type": "execute_result"
    }
   ],
   "source": [
    "# bios_with_job = bios[bios['job'].notnull()]\n",
    "# bios_with_job[['job','description_cleantext']].iloc[30:50]"
   ]
  },
  {
   "cell_type": "code",
   "execution_count": 8,
   "metadata": {},
   "outputs": [
    {
     "name": "stderr",
     "output_type": "stream",
     "text": [
      "/tmp/ipykernel_1515732/1780242890.py:17: SettingWithCopyWarning: \n",
      "A value is trying to be set on a copy of a slice from a DataFrame.\n",
      "Try using .loc[row_indexer,col_indexer] = value instead\n",
      "\n",
      "See the caveats in the documentation: https://pandas.pydata.org/pandas-docs/stable/user_guide/indexing.html#returning-a-view-versus-a-copy\n",
      "  filtered_df1['job1'] = filtered_df1['description_cleantext'].apply(find_matching_words1)\n",
      "/tmp/ipykernel_1515732/1780242890.py:33: SettingWithCopyWarning: \n",
      "A value is trying to be set on a copy of a slice from a DataFrame.\n",
      "Try using .loc[row_indexer,col_indexer] = value instead\n",
      "\n",
      "See the caveats in the documentation: https://pandas.pydata.org/pandas-docs/stable/user_guide/indexing.html#returning-a-view-versus-a-copy\n",
      "  filtered_df2['job2'] = filtered_df2['description_cleantext'].apply(find_matching_words2)\n"
     ]
    }
   ],
   "source": [
    "# import re\n",
    "\n",
    "# # Define a function that finds matching words in a string for words1\n",
    "# def find_matching_words1(description):\n",
    "#     matches = []\n",
    "#     for word in words1:\n",
    "#         # Split the word by commas and parentheses\n",
    "#         parts = re.split(',|\\(|\\)', word)\n",
    "#         # Check each part separately\n",
    "#         for part in parts:\n",
    "#             part = part.strip()  # Remove leading and trailing spaces\n",
    "#             if part and part in description:\n",
    "#                 matches.append(part)\n",
    "#     return matches\n",
    "\n",
    "# # Apply the function to the 'description_cleantext' column and assign the result to a new column 'job1'\n",
    "# filtered_df1['job1'] = filtered_df1['description_cleantext'].apply(find_matching_words1)\n",
    "\n",
    "# # Define a function that finds matching words in a string for words2\n",
    "# def find_matching_words2(description):\n",
    "#     matches = []\n",
    "#     for word in words2:\n",
    "#         # Split the word by commas and parentheses\n",
    "#         parts = re.split(',|\\(|\\)', word)\n",
    "#         # Check each part separately\n",
    "#         for part in parts:\n",
    "#             part = part.strip()  # Remove leading and trailing spaces\n",
    "#             if part and part in description:\n",
    "#                 matches.append(part)\n",
    "#     return matches\n",
    "\n",
    "# # Apply the function to the 'description_cleantext' column and assign the result to a new column 'job2'\n",
    "# filtered_df2['job2'] = filtered_df2['description_cleantext'].apply(find_matching_words2)"
   ]
  },
  {
   "cell_type": "code",
   "execution_count": 20,
   "metadata": {},
   "outputs": [
    {
     "name": "stderr",
     "output_type": "stream",
     "text": [
      "/tmp/ipykernel_1515732/4228196134.py:2: SettingWithCopyWarning: \n",
      "A value is trying to be set on a copy of a slice from a DataFrame.\n",
      "Try using .loc[row_indexer,col_indexer] = value instead\n",
      "\n",
      "See the caveats in the documentation: https://pandas.pydata.org/pandas-docs/stable/user_guide/indexing.html#returning-a-view-versus-a-copy\n",
      "  filtered_df1['job1'] = filtered_df2['description_cleantext'].apply(find_matching_words1)\n"
     ]
    }
   ],
   "source": [
    "# # Apply the function to the 'description_cleantext' column and assign the result to a new column 'job2'\n",
    "# filtered_df1['job1'] = filtered_df2['description_cleantext'].apply(find_matching_words1)"
   ]
  },
  {
   "cell_type": "code",
   "execution_count": 8,
   "metadata": {},
   "outputs": [],
   "source": [
    "import pandas as pd\n",
    "#Create the data frame for the income data\n",
    "\n",
    "data = {\n",
    "    'Title': ['Marin-pêcheur', 'Marin-pêcheuse', 'Artisan', 'Artisane', 'Commerçant', 'Commerçante', 'Journaliste', 'Avocat', 'Avocate', 'Juriste', 'Pharmacien', 'Pharmacienne', 'Professeur d\\'art', 'Professeure d\\'arts', 'Chirurgien dentiste', 'Chirurgienne dentiste', 'Vétérinaire', 'Magistrat', 'Magistrate', 'Photographe', 'Infirmier', 'Infirmière', 'Sage-femme', 'Contrôleur des impôts', 'Opticien', 'Opticienne', 'Bibliothécaire', 'Puériculteur', 'Puéricultrice', 'Ambulancier', 'Ambulancière', 'Secrétaire', 'Caissier de magasin', 'Caissière de magasin', 'Concierge', 'Boulanger', 'Boulangère', 'Nettoyeur', 'Nettoyeuse', 'Jardinier', 'Jardinière', 'Ouvrier d\\'art', 'Ouvrière d\\'art', 'Docker', 'Diplomate', 'Ingénieur en chef', 'Médecin hospitalier'],\n",
    "    'Income_monthly_av': [2400, 2400, 2300, 2300, 2600, 2600, 3500, 8000, 8000, 4100, 3600, 3600, 2900, 2900, 7000, 7000, 3300, 3600, 3600, 2100, 2600, 2600, 3100, 2600, 2600, 2600, 3100, 2800, 2800, 1800, 1800, 1900, 1600, 1600, 1800, 1800, 1800, 1500, 1500, 1600, 1600, 2200, 2200, 3700, 6500, 6500, 6000]\n",
    "}\n",
    "\n",
    "income = pd.DataFrame(data)"
   ]
  },
  {
   "cell_type": "code",
   "execution_count": 10,
   "metadata": {},
   "outputs": [],
   "source": [
    "def find_job(description):\n",
    "    words = description.lower().split()\n",
    "    for title in income['Title']:\n",
    "        if title.lower() in words:\n",
    "            return title\n",
    "    return None\n",
    "\n",
    "bios['job'] = bios['description_cleantext'].apply(find_job)\n",
    "jobs = bios.dropna(subset=['job'])"
   ]
  },
  {
   "cell_type": "code",
   "execution_count": 14,
   "metadata": {},
   "outputs": [],
   "source": [
    "jobs = jobs.merge(income, left_on='job', right_on='Title', how='left')"
   ]
  },
  {
   "cell_type": "code",
   "execution_count": 15,
   "metadata": {},
   "outputs": [
    {
     "data": {
      "text/html": [
       "<div>\n",
       "<style scoped>\n",
       "    .dataframe tbody tr th:only-of-type {\n",
       "        vertical-align: middle;\n",
       "    }\n",
       "\n",
       "    .dataframe tbody tr th {\n",
       "        vertical-align: top;\n",
       "    }\n",
       "\n",
       "    .dataframe thead th {\n",
       "        text-align: right;\n",
       "    }\n",
       "</style>\n",
       "<table border=\"1\" class=\"dataframe\">\n",
       "  <thead>\n",
       "    <tr style=\"text-align: right;\">\n",
       "      <th></th>\n",
       "      <th>follower_id</th>\n",
       "      <th>screen_name</th>\n",
       "      <th>description</th>\n",
       "      <th>location</th>\n",
       "      <th>description_cleantext</th>\n",
       "      <th>language</th>\n",
       "      <th>country</th>\n",
       "      <th>job</th>\n",
       "      <th>Title</th>\n",
       "      <th>Income_monthly_av</th>\n",
       "    </tr>\n",
       "  </thead>\n",
       "  <tbody>\n",
       "    <tr>\n",
       "      <th>0</th>\n",
       "      <td>15723458</td>\n",
       "      <td>cedric_o</td>\n",
       "      <td>Ex Secrétaire d’Etat chargé du numérique / Former Minister of State for Digital 🇫🇷🇪🇺</td>\n",
       "      <td>paris</td>\n",
       "      <td>Ex Secrétaire d’Etat chargé du numérique / Former Minister of State for Digital</td>\n",
       "      <td>fr</td>\n",
       "      <td>France</td>\n",
       "      <td>Secrétaire</td>\n",
       "      <td>Secrétaire</td>\n",
       "      <td>1900</td>\n",
       "    </tr>\n",
       "    <tr>\n",
       "      <th>1</th>\n",
       "      <td>196762472</td>\n",
       "      <td>ginolachat</td>\n",
       "      <td>Journaliste @courrierpicard Amiens.</td>\n",
       "      <td>amiens (80)</td>\n",
       "      <td>Journaliste @courrierpicard Amiens.</td>\n",
       "      <td>fr</td>\n",
       "      <td>France</td>\n",
       "      <td>Journaliste</td>\n",
       "      <td>Journaliste</td>\n",
       "      <td>3500</td>\n",
       "    </tr>\n",
       "    <tr>\n",
       "      <th>2</th>\n",
       "      <td>3377827389</td>\n",
       "      <td>mat_monot</td>\n",
       "      <td>Conseiller dép. de la #SSD93 -  Président de @SSDhabitat - 1er Adjoint de #Pantin - 1er Secrétaire Fédéral de @fedeps93 - Secrétaire natio à la Formation du PS</td>\n",
       "      <td>pantin, france</td>\n",
       "      <td>Conseiller dép. de la #SSD93 -  Président de @SSDhabitat - 1er Adjoint de #Pantin - 1er Secrétaire Fédéral de @fedeps93 - Secrétaire natio à la Formation du PS</td>\n",
       "      <td>fr</td>\n",
       "      <td>France</td>\n",
       "      <td>Secrétaire</td>\n",
       "      <td>Secrétaire</td>\n",
       "      <td>1900</td>\n",
       "    </tr>\n",
       "    <tr>\n",
       "      <th>3</th>\n",
       "      <td>1637905050</td>\n",
       "      <td>Maud_Guilbeault</td>\n",
       "      <td>Journaliste médias @LaCroix / formée @EjToulouse</td>\n",
       "      <td>paris</td>\n",
       "      <td>Journaliste médias @LaCroix / formée @EjToulouse</td>\n",
       "      <td>fr</td>\n",
       "      <td>France</td>\n",
       "      <td>Journaliste</td>\n",
       "      <td>Journaliste</td>\n",
       "      <td>3500</td>\n",
       "    </tr>\n",
       "    <tr>\n",
       "      <th>4</th>\n",
       "      <td>254116862</td>\n",
       "      <td>brunobeschizza</td>\n",
       "      <td>Maire d'@AulnaySousBois • Président de Paris @terresdenvol • Conseiller régional d'@iledefrance • Secrétaire National @lesrepublicains en charge de la Sécurité</td>\n",
       "      <td>aulnay-sous-bois</td>\n",
       "      <td>Maire d'@AulnaySousBois • Président de Paris @terresdenvol • Conseiller régional d'@iledefrance • Secrétaire National @lesrepublicains en charge de la Sécurité</td>\n",
       "      <td>fr</td>\n",
       "      <td>France</td>\n",
       "      <td>Secrétaire</td>\n",
       "      <td>Secrétaire</td>\n",
       "      <td>1900</td>\n",
       "    </tr>\n",
       "  </tbody>\n",
       "</table>\n",
       "</div>"
      ],
      "text/plain": [
       "  follower_id      screen_name  \\\n",
       "0    15723458         cedric_o   \n",
       "1   196762472       ginolachat   \n",
       "2  3377827389        mat_monot   \n",
       "3  1637905050  Maud_Guilbeault   \n",
       "4   254116862   brunobeschizza   \n",
       "\n",
       "                                                                                                                                                       description  \\\n",
       "0                                                                             Ex Secrétaire d’Etat chargé du numérique / Former Minister of State for Digital 🇫🇷🇪🇺   \n",
       "1                                                                                                                              Journaliste @courrierpicard Amiens.   \n",
       "2  Conseiller dép. de la #SSD93 -  Président de @SSDhabitat - 1er Adjoint de #Pantin - 1er Secrétaire Fédéral de @fedeps93 - Secrétaire natio à la Formation du PS   \n",
       "3                                                                                                                 Journaliste médias @LaCroix / formée @EjToulouse   \n",
       "4  Maire d'@AulnaySousBois • Président de Paris @terresdenvol • Conseiller régional d'@iledefrance • Secrétaire National @lesrepublicains en charge de la Sécurité   \n",
       "\n",
       "           location  \\\n",
       "0             paris   \n",
       "1       amiens (80)   \n",
       "2    pantin, france   \n",
       "3             paris   \n",
       "4  aulnay-sous-bois   \n",
       "\n",
       "                                                                                                                                             description_cleantext  \\\n",
       "0                                                                                 Ex Secrétaire d’Etat chargé du numérique / Former Minister of State for Digital    \n",
       "1                                                                                                                              Journaliste @courrierpicard Amiens.   \n",
       "2  Conseiller dép. de la #SSD93 -  Président de @SSDhabitat - 1er Adjoint de #Pantin - 1er Secrétaire Fédéral de @fedeps93 - Secrétaire natio à la Formation du PS   \n",
       "3                                                                                                                 Journaliste médias @LaCroix / formée @EjToulouse   \n",
       "4  Maire d'@AulnaySousBois • Président de Paris @terresdenvol • Conseiller régional d'@iledefrance • Secrétaire National @lesrepublicains en charge de la Sécurité   \n",
       "\n",
       "  language country          job        Title  Income_monthly_av  \n",
       "0       fr  France   Secrétaire   Secrétaire               1900  \n",
       "1       fr  France  Journaliste  Journaliste               3500  \n",
       "2       fr  France   Secrétaire   Secrétaire               1900  \n",
       "3       fr  France  Journaliste  Journaliste               3500  \n",
       "4       fr  France   Secrétaire   Secrétaire               1900  "
      ]
     },
     "execution_count": 15,
     "metadata": {},
     "output_type": "execute_result"
    }
   ],
   "source": [
    "jobs.head()"
   ]
  },
  {
   "cell_type": "code",
   "execution_count": 18,
   "metadata": {},
   "outputs": [],
   "source": [
    "from corg import DiscoverDimension, BenchmarkDimension\n",
    "\n",
    "import graphfunk\n",
    "from graphfunk import *\n",
    "import ca_pipeline\n",
    "from ca_pipeline import PipelineCorAnalysis"
   ]
  },
  {
   "cell_type": "code",
   "execution_count": 28,
   "metadata": {},
   "outputs": [],
   "source": [
    "#Fit the CA on the full network \n",
    "\n",
    "# load data\n",
    "path = '/home/livtollanes/NewData/french/french_edgelist_marker_threshold.csv'\n",
    "\n",
    "req_cols = ['marker_id', 'follower_id', 'twitter_name','followers','french_followers', 'type', 'type2']\n",
    "dtypes = {'marker_id': 'object',\n",
    "          'follower_id': 'object',\n",
    "          'twitter_name': 'object',\n",
    "          'followers': 'int64',\n",
    "          'french_followers': 'int64',\n",
    "          'type': 'object',\n",
    "          'type2': 'object'}\n",
    "\n",
    "\n",
    "edgelist = pd.read_csv(path, usecols=req_cols, dtype=dtypes)\n"
   ]
  },
  {
   "cell_type": "code",
   "execution_count": 32,
   "metadata": {},
   "outputs": [
    {
     "data": {
      "text/plain": [
       "<module 'ca_pipeline' from '/home/livtollanes/10.jan-thesis/Code/Brand Validation/../Utility files/ca_pipeline.py'>"
      ]
     },
     "execution_count": 32,
     "metadata": {},
     "output_type": "execute_result"
    }
   ],
   "source": [
    "importlib.reload(ca_pipeline)"
   ]
  },
  {
   "cell_type": "code",
   "execution_count": 33,
   "metadata": {},
   "outputs": [
    {
     "name": "stdout",
     "output_type": "stream",
     "text": [
      "Starting graph checks...\n",
      "Number of nodes: 115302\n",
      "Edge number is sane - matches the number of rows in the inputted edgelist\n",
      "Is the graph connected? True\n",
      "Number of connected components: 1\n",
      "Size of largest connected component: 115302\n",
      "Number of communities: 3\n",
      "Graph checks complete. Starting CA fitting pipeline...\n",
      "Creating contingency table...\n",
      "Performing CA analysis. Might take some time...\n",
      "Plotting variance...\n"
     ]
    },
    {
     "data": {
      "image/png": "[encoded data removed]",
      "text/plain": [
       "<Figure size 1000x700 with 1 Axes>"
      ]
     },
     "metadata": {},
     "output_type": "display_data"
    },
    {
     "name": "stdout",
     "output_type": "stream",
     "text": [
      "CA pipeline complete.\n"
     ]
    }
   ],
   "source": [
    "\n",
    "subset_name = 'full_network'\n",
    "all = ca_pipeline.PipelineCorAnalysis(edgelist, subset_name)\n",
    "path = '/home/livtollanes/NewData/coordinates/'\n",
    "all.run_all(path)"
   ]
  },
  {
   "cell_type": "code",
   "execution_count": 35,
   "metadata": {},
   "outputs": [],
   "source": [
    "#load coordinate files\n",
    "coords = pd.read_csv('/home/livtollanes/NewData/coordinates/full_network_coords/full_network_row_coordinates.csv')"
   ]
  },
  {
   "cell_type": "code",
   "execution_count": 37,
   "metadata": {},
   "outputs": [],
   "source": [
    "#change 'follower_id' to object \n",
    "coords['follower_id'] = coords['follower_id'].astype(str)\n"
   ]
  },
  {
   "cell_type": "code",
   "execution_count": 40,
   "metadata": {},
   "outputs": [],
   "source": [
    "coords1 = coords[['follower_id', '0']]"
   ]
  },
  {
   "cell_type": "code",
   "execution_count": 43,
   "metadata": {},
   "outputs": [
    {
     "data": {
      "text/html": [
       "<div>\n",
       "<style scoped>\n",
       "    .dataframe tbody tr th:only-of-type {\n",
       "        vertical-align: middle;\n",
       "    }\n",
       "\n",
       "    .dataframe tbody tr th {\n",
       "        vertical-align: top;\n",
       "    }\n",
       "\n",
       "    .dataframe thead th {\n",
       "        text-align: right;\n",
       "    }\n",
       "</style>\n",
       "<table border=\"1\" class=\"dataframe\">\n",
       "  <thead>\n",
       "    <tr style=\"text-align: right;\">\n",
       "      <th></th>\n",
       "      <th>follower_id</th>\n",
       "      <th>0</th>\n",
       "    </tr>\n",
       "  </thead>\n",
       "  <tbody>\n",
       "    <tr>\n",
       "      <th>10</th>\n",
       "      <td>1000020201012940808</td>\n",
       "      <td>1.357877</td>\n",
       "    </tr>\n",
       "    <tr>\n",
       "      <th>11</th>\n",
       "      <td>1000023151311548417</td>\n",
       "      <td>-0.364482</td>\n",
       "    </tr>\n",
       "    <tr>\n",
       "      <th>12</th>\n",
       "      <td>1000037901688860673</td>\n",
       "      <td>1.540961</td>\n",
       "    </tr>\n",
       "    <tr>\n",
       "      <th>13</th>\n",
       "      <td>100004577</td>\n",
       "      <td>0.676270</td>\n",
       "    </tr>\n",
       "    <tr>\n",
       "      <th>14</th>\n",
       "      <td>100006152</td>\n",
       "      <td>0.164715</td>\n",
       "    </tr>\n",
       "    <tr>\n",
       "      <th>15</th>\n",
       "      <td>1000064267780087808</td>\n",
       "      <td>1.662794</td>\n",
       "    </tr>\n",
       "    <tr>\n",
       "      <th>16</th>\n",
       "      <td>1000065177688117248</td>\n",
       "      <td>1.452330</td>\n",
       "    </tr>\n",
       "    <tr>\n",
       "      <th>17</th>\n",
       "      <td>1000065350820597760</td>\n",
       "      <td>1.838973</td>\n",
       "    </tr>\n",
       "    <tr>\n",
       "      <th>18</th>\n",
       "      <td>1000069276072587271</td>\n",
       "      <td>1.660171</td>\n",
       "    </tr>\n",
       "    <tr>\n",
       "      <th>19</th>\n",
       "      <td>1000080828683210752</td>\n",
       "      <td>0.878638</td>\n",
       "    </tr>\n",
       "  </tbody>\n",
       "</table>\n",
       "</div>"
      ],
      "text/plain": [
       "            follower_id         0\n",
       "10  1000020201012940808  1.357877\n",
       "11  1000023151311548417 -0.364482\n",
       "12  1000037901688860673  1.540961\n",
       "13            100004577  0.676270\n",
       "14            100006152  0.164715\n",
       "15  1000064267780087808  1.662794\n",
       "16  1000065177688117248  1.452330\n",
       "17  1000065350820597760  1.838973\n",
       "18  1000069276072587271  1.660171\n",
       "19  1000080828683210752  0.878638"
      ]
     },
     "execution_count": 43,
     "metadata": {},
     "output_type": "execute_result"
    }
   ],
   "source": [
    "coords1.iloc[10:20]"
   ]
  },
  {
   "cell_type": "code",
   "execution_count": 46,
   "metadata": {},
   "outputs": [
    {
     "name": "stdout",
     "output_type": "stream",
     "text": [
      "Number of unique follower_id in source DataFrame: 8459\n",
      "Number of unique follower_id in filtered DataFrame after filtering: 8459\n",
      "Removed 106620 rows from the DataFrame to be filtered.\n",
      "8459 rows are left in the filtered DataFrame.\n"
     ]
    }
   ],
   "source": [
    "coords_streamlined = utils2.streamline_IDs(source= jobs, df_tofilter= coords1, column= 'follower_id')"
   ]
  },
  {
   "cell_type": "code",
   "execution_count": 48,
   "metadata": {},
   "outputs": [],
   "source": [
    "jobs1 = jobs.merge(coords_streamlined[['follower_id', '0']], on='follower_id', how='left')"
   ]
  },
  {
   "cell_type": "code",
   "execution_count": 59,
   "metadata": {},
   "outputs": [
    {
     "data": {
      "text/plain": [
       "Index(['follower_id', 'screen_name', 'description', 'location',\n",
       "       'description_cleantext', 'language', 'country', 'job', 'Title',\n",
       "       'Income_monthly_av', '0'],\n",
       "      dtype='object')"
      ]
     },
     "execution_count": 59,
     "metadata": {},
     "output_type": "execute_result"
    }
   ],
   "source": [
    "jobs1.columns"
   ]
  },
  {
   "cell_type": "code",
   "execution_count": 58,
   "metadata": {},
   "outputs": [
    {
     "data": {
      "text/plain": [
       "job\n",
       "Journaliste       5799\n",
       "Secrétaire         599\n",
       "Photographe        516\n",
       "Avocat             442\n",
       "Juriste            366\n",
       "Infirmière         179\n",
       "Avocate            125\n",
       "Infirmier           97\n",
       "Artisan             68\n",
       "Bibliothécaire      57\n",
       "Pharmacien          49\n",
       "Jardinier           21\n",
       "Commerçant          18\n",
       "Diplomate           16\n",
       "Vétérinaire         14\n",
       "Boulanger           13\n",
       "Magistrat           12\n",
       "Ambulancier         12\n",
       "Sage-femme          12\n",
       "Opticien             8\n",
       "Magistrate           6\n",
       "Concierge            5\n",
       "Commerçante          5\n",
       "Pharmacienne         5\n",
       "Jardinière           5\n",
       "Puéricultrice        4\n",
       "Docker               2\n",
       "Ambulancière         2\n",
       "Opticienne           1\n",
       "Artisane             1\n",
       "Name: count, dtype: int64"
      ]
     },
     "execution_count": 58,
     "metadata": {},
     "output_type": "execute_result"
    }
   ],
   "source": [
    "jobs1['job'].value_counts()"
   ]
  },
  {
   "cell_type": "code",
   "execution_count": 63,
   "metadata": {},
   "outputs": [
    {
     "name": "stderr",
     "output_type": "stream",
     "text": [
      "/tmp/ipykernel_1634914/2243089242.py:11: FutureWarning: \n",
      "\n",
      "The `ci` parameter is deprecated. Use `errorbar='sd'` for the same effect.\n",
      "\n",
      "  barplot = sns.barplot(x='0', y='job', data=grouped, orient='h', ci='sd', capsize=0.2)\n"
     ]
    },
    {
     "data": {
      "image/png": "[encoded data removed]",
      "text/plain": [
       "<Figure size 1000x600 with 1 Axes>"
      ]
     },
     "metadata": {},
     "output_type": "display_data"
    }
   ],
   "source": [
    "import seaborn as sns\n",
    "import matplotlib.pyplot as plt\n",
    "\n",
    "# Calculate the median of '0' for each job group\n",
    "grouped = jobs1.groupby('job').agg({'0': 'median'}).reset_index()\n",
    "\n",
    "# Sort the jobs by median SES\n",
    "grouped = grouped.sort_values('0')\n",
    "\n",
    "plt.figure(figsize=(10, 6))\n",
    "barplot = sns.barplot(x='0', y='job', data=grouped, orient='h', ci='sd', capsize=0.2)\n",
    "\n",
    "# Add job labels to each point\n",
    "for p in barplot.patches:\n",
    "    width = p.get_width()\n",
    "    plt.text(width, p.get_y() + p.get_height() / 2,\n",
    "             '{:1.2f}'.format(width), \n",
    "             ha = 'left', va = 'center')\n",
    "\n",
    "plt.xlabel('Median Estimated SES')\n",
    "plt.ylabel('Job')\n",
    "plt.title('Median Estimated SES by Job')\n",
    "plt.show()"
   ]
  },
  {
   "cell_type": "code",
   "execution_count": null,
   "metadata": {},
   "outputs": [],
   "source": []
  }
 ],
 "metadata": {
  "kernelspec": {
   "display_name": "09.2thesis",
   "language": "python",
   "name": "python3"
  },
  "language_info": {
   "codemirror_mode": {
    "name": "ipython",
    "version": 3
   },
   "file_extension": ".py",
   "mimetype": "text/x-python",
   "name": "python",
   "nbconvert_exporter": "python",
   "pygments_lexer": "ipython3",
   "version": "3.11.7"
  }
 },
 "nbformat": 4,
 "nbformat_minor": 2
}
