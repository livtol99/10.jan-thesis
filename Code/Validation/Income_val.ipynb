{
 "cells": [
  {
   "cell_type": "markdown",
   "metadata": {},
   "source": [
    "## Validation of users by Income + job title regression"
   ]
  },
  {
   "cell_type": "markdown",
   "metadata": {},
   "source": [
    "In this notebook, I aim to perform the final validation of the user voordinates via regression between Income and estimated SES. \n",
    "The validation includes:\n",
    "- Simple linear Regression and multiple linear regression (ordinary least squares) on coordinates and income for nine different models*\n",
    "- *Model comparison between nine different configurations of markers included in the network\n",
    "    - Goofness of fit characteristics\n",
    "- End result is identification of the best marker configuration for obtaining the best linreg fit"
   ]
  },
  {
   "cell_type": "code",
   "execution_count": 64,
   "metadata": {},
   "outputs": [],
   "source": [
    "import os\n",
    "import re\n",
    "import sys\n",
    "import numpy as np\n",
    "import pandas as pd\n",
    "import matplotlib\n",
    "import spacy\n",
    "from collections import Counter\n",
    "from nltk.corpus import stopwords\n",
    "from nltk.stem import WordNetLemmatizer\n",
    "from nltk.stem.snowball import FrenchStemmer\n",
    "from nltk.tokenize import word_tokenize\n",
    "from sklearn.feature_extraction.text import TfidfVectorizer\n",
    "\n",
    "import importlib\n",
    "# Local application imports\n",
    "sys.path.insert(0, '../Utility files')\n",
    "import utils2\n",
    "from utils2 import *"
   ]
  },
  {
   "cell_type": "markdown",
   "metadata": {},
   "source": [
    "## 1 Connect job titles and income information to all coordinate files"
   ]
  },
  {
   "cell_type": "markdown",
   "metadata": {},
   "source": [
    "First and foremost, I need to add all the income + job information per user to each of the nine coordinate files m1-m9\n",
    "Create a function that:\n",
    "- Iterates over each file system, from n=1 to n=9\n",
    "- Removes all users that do not occur in the job title file onlygreenscleaned"
   ]
  },
  {
   "cell_type": "code",
   "execution_count": 23,
   "metadata": {},
   "outputs": [],
   "source": [
    "#Load the income + job title data\n",
    "path= '/home/livtollanes/10.jan-thesis/Code/Validation/Data/'\n",
    "file = 'onlygreens_cleaned.csv'\n",
    "jobs = pd.read_csv(path + file, sep = ',', index_col= 0)\n",
    "\n",
    "#change type of id col to enable merge with coordinate file\n",
    "jobs['follower_id'] = jobs['follower_id'].replace(',', '.', regex=True).astype(float).astype('int64')"
   ]
  },
  {
   "cell_type": "markdown",
   "metadata": {},
   "source": [
    "In total, we have 11 684 unique users with a job title after preprocessing"
   ]
  },
  {
   "cell_type": "code",
   "execution_count": 21,
   "metadata": {},
   "outputs": [
    {
     "name": "stdout",
     "output_type": "stream",
     "text": [
      "PCS_ESE_name\n",
      "Adjoints administratifs des collectivités locales                                                 347\n",
      "Aides à domicile, aides ménagères, travailleuses familiales                                         4\n",
      "Aides-soignants                                                                                    34\n",
      "Allocataires de la recherche publique                                                             273\n",
      "Animateurs socioculturels et de loisirs                                                             6\n",
      "Architectes salariés                                                                               85\n",
      "Artisans salariés de leur entreprise                                                               45\n",
      "Artistes de la danse                                                                               16\n",
      "Artistes de la musique et du chant                                                                356\n",
      "Artistes dramatiques                                                                              133\n",
      "Artistes du cirque et des spectacles divers                                                        48\n",
      "Artistes plasticiens                                                                              198\n",
      "Assistants techniques de la réalisation des spectacles  vivants et audiovisuels                     1\n",
      "Autres professions intermédiaires commerciales (sauf techniciens des forces de vente)c             12\n",
      "Autres spécialistes de la rééducation                                                              42\n",
      "Avocats                                                                                           617\n",
      "Bibliothécaires, archivistes, conservateurs et autres  cadres du patrimoine                        79\n",
      "Boulangers, pâtissiers (sauf activité industrielle)                                                28\n",
      "Cadres chargés d'études économiques, financières,  commerciales                                    38\n",
      "Cadres chargés d'études économiques, financières, commerciales                                      5\n",
      "Cadres de l'immobilier                                                                             32\n",
      "Cadres de l'intervention socio-éducative                                                            7\n",
      "Cadres de l'organisation ou du contrôle des services  administratifs et financiers                  4\n",
      "Cadres de la documentation, de l'archivage  (hors fonction publique)                               54\n",
      "Cadres des marchés financiers                                                                       2\n",
      "Cadres des relations publiques et de  la communication                                            897\n",
      "Cadres des relations publiques et de la communication                                              84\n",
      "Chargés de clientèle bancaire                                                                      21\n",
      "Chefs d'établissement de l'enseignement secondaire et inspecteurs                                   5\n",
      "Chefs de produits, acheteurs du commerce et autres cadres de  la mercatique                        46\n",
      "Concepteurs et assistants techniques des  arts graphiques, de la mode et de la décoration          61\n",
      "Conducteurs de travaux (non cadres)                                                                 4\n",
      "Conducteurs qualifiés d'engins de transport guidés  (sauf remontées mécaniques)                    15\n",
      "Conducteurs routiers et grands routiers                                                             7\n",
      "Directeurs et chargés de recherche de la recherche publique                                        59\n",
      "Infirmiers en soins généraux, salariés                                                             72\n",
      "Ingénieurs d'étude et de recherche de la recherche publique                                        16\n",
      "Ingénieurs de l'Etat et assimilés                                                                   1\n",
      "Ingénieurs et cadres d'étude et développement de l'agriculture,  la pêche, les eaux et forêts      29\n",
      "Jardiniers                                                                                         11\n",
      "Journalistes (y c. rédacteurs en chef)                                                           6620\n",
      "Juristes                                                                                          330\n",
      "Manucures, esthéticiens                                                                            12\n",
      "Matelots de la marine marchande                                                                    10\n",
      "Maçons qualifiés                                                                                   32\n",
      "Maîtrise et techniciens des services financiers ou comptables                                      50\n",
      "Moniteurs et éducateurs sportifs, sportifs professionnels                                          48\n",
      "Médecins hospitaliers sans activité libérale                                                       16\n",
      "Médecins salariés non hospitaliers                                                                185\n",
      "Pharmaciens salariés                                                                               71\n",
      "Pompiers                                                                                           22\n",
      "Professeurs et maîtres de conférences                                                             145\n",
      "Psychologues, psychanalystes,  psychothérapeutes (non médecins)                                   117\n",
      "Secrétaires                                                                                        26\n",
      "Secrétaires de direction, assistants de direction (non cadres)                                     15\n",
      "Serveurs, commis de restaurant, garçons qualifiés                                                  17\n",
      "Techniciens d'étude et de développement  en informatique                                          165\n",
      "Techniciens médicaux                                                                                9\n",
      "Name: count, dtype: int64\n"
     ]
    }
   ],
   "source": [
    "# #Some job category stats\n",
    "# pd.set_option('display.max_rows', None)\n",
    "# jobs['title'] = jobs['title'].str.strip()\n",
    "# print(jobs['PCS_ESE_name'].value_counts().sort_index())\n",
    "\n",
    "#jobs['PCS_ESE_name'].nunique() #111 key words/titles, and 58 job categories"
   ]
  },
  {
   "cell_type": "code",
   "execution_count": 69,
   "metadata": {},
   "outputs": [
    {
     "name": "stdout",
     "output_type": "stream",
     "text": [
      "Constructed file path: /home/livtollanes/NewData/coordinates/m1_coords/m1_row_coordinates.csv\n",
      "Constructed file path: /home/livtollanes/NewData/coordinates/m2_coords/m2_row_coordinates.csv\n",
      "Constructed file path: /home/livtollanes/NewData/coordinates/m3_coords/m3_row_coordinates.csv\n",
      "Constructed file path: /home/livtollanes/NewData/coordinates/m4_coords/m4_row_coordinates.csv\n",
      "Constructed file path: /home/livtollanes/NewData/coordinates/m5_coords/m5_row_coordinates.csv\n",
      "Constructed file path: /home/livtollanes/NewData/coordinates/m6_coords/m6_row_coordinates.csv\n",
      "Constructed file path: /home/livtollanes/NewData/coordinates/m7_coords/m7_row_coordinates.csv\n",
      "Constructed file path: /home/livtollanes/NewData/coordinates/m8_coords/m8_row_coordinates.csv\n",
      "Constructed file path: /home/livtollanes/NewData/coordinates/m9_coords/m9_row_coordinates.csv\n"
     ]
    }
   ],
   "source": [
    "#Create the user coordinate files for all models - for users with job titles\n",
    "for file_number in range(1, 10):  # oop over the coordinate files for models 1 to 9\n",
    "    filtered_df = utils2.filter_add_jobs_coords(file_number, jobdf=jobs)\n",
    "    # You may want to do something with filtered_df here, like saving it to a file"
   ]
  },
  {
   "cell_type": "code",
   "execution_count": 67,
   "metadata": {},
   "outputs": [
    {
     "data": {
      "text/plain": [
       "<module 'utils2' from '/home/livtollanes/10.jan-thesis/Code/Validation/../Utility files/utils2.py'>"
      ]
     },
     "execution_count": 67,
     "metadata": {},
     "output_type": "execute_result"
    }
   ],
   "source": [
    "importlib.reload(utils2)"
   ]
  },
  {
   "cell_type": "code",
   "execution_count": 96,
   "metadata": {},
   "outputs": [],
   "source": [
    "file_number = 1\n",
    "file_path = f\"/home/livtollanes/NewData/job_title_coordinates/m{file_number}_jobs_rowcoords.csv\"\n",
    "\n",
    "df1 = pd.read_csv(file_path, sep = ',')"
   ]
  },
  {
   "cell_type": "code",
   "execution_count": 76,
   "metadata": {},
   "outputs": [
    {
     "data": {
      "text/html": [
       "<div>\n",
       "<style scoped>\n",
       "    .dataframe tbody tr th:only-of-type {\n",
       "        vertical-align: middle;\n",
       "    }\n",
       "\n",
       "    .dataframe tbody tr th {\n",
       "        vertical-align: top;\n",
       "    }\n",
       "\n",
       "    .dataframe thead th {\n",
       "        text-align: right;\n",
       "    }\n",
       "</style>\n",
       "<table border=\"1\" class=\"dataframe\">\n",
       "  <thead>\n",
       "    <tr style=\"text-align: right;\">\n",
       "      <th></th>\n",
       "      <th>follower_id</th>\n",
       "      <th>0</th>\n",
       "      <th>1</th>\n",
       "      <th>2</th>\n",
       "      <th>3</th>\n",
       "      <th>screen_name</th>\n",
       "      <th>key_word</th>\n",
       "      <th>description_cleantext</th>\n",
       "      <th>PCS_ESE</th>\n",
       "      <th>PCS_ESE_name</th>\n",
       "      <th>Salaire moyen en EQTP</th>\n",
       "      <th>title</th>\n",
       "    </tr>\n",
       "  </thead>\n",
       "  <tbody>\n",
       "    <tr>\n",
       "      <th>0</th>\n",
       "      <td>1000096085589798912</td>\n",
       "      <td>-0.270807</td>\n",
       "      <td>0.063271</td>\n",
       "      <td>-0.817916</td>\n",
       "      <td>0.029445</td>\n",
       "      <td>GirardMatheo1</td>\n",
       "      <td>journaliste</td>\n",
       "      <td>Journaliste @sports_ouest</td>\n",
       "      <td>352a</td>\n",
       "      <td>Journalistes (y c. rédacteurs en chef)</td>\n",
       "      <td>3500.0</td>\n",
       "      <td>journaliste</td>\n",
       "    </tr>\n",
       "    <tr>\n",
       "      <th>1</th>\n",
       "      <td>1000279182</td>\n",
       "      <td>-0.084768</td>\n",
       "      <td>-0.646801</td>\n",
       "      <td>0.123394</td>\n",
       "      <td>0.265548</td>\n",
       "      <td>inessbarbier</td>\n",
       "      <td>responsable relations</td>\n",
       "      <td>responsable des relations presse de #lequipe21...</td>\n",
       "      <td>375b</td>\n",
       "      <td>Cadres des relations publiques et de  la commu...</td>\n",
       "      <td>4400.0</td>\n",
       "      <td>responsable relations</td>\n",
       "    </tr>\n",
       "    <tr>\n",
       "      <th>2</th>\n",
       "      <td>1000447409804242944</td>\n",
       "      <td>0.224374</td>\n",
       "      <td>-0.249452</td>\n",
       "      <td>-0.346344</td>\n",
       "      <td>-0.032713</td>\n",
       "      <td>mandygraillon</td>\n",
       "      <td>adjointe maire</td>\n",
       "      <td>2ème adjointe au Maire d’ #Arles chargée de la...</td>\n",
       "      <td>523c</td>\n",
       "      <td>Adjoints administratifs des collectivités locales</td>\n",
       "      <td>1900.0</td>\n",
       "      <td>adjoint maire</td>\n",
       "    </tr>\n",
       "    <tr>\n",
       "      <th>3</th>\n",
       "      <td>1000498107329720320</td>\n",
       "      <td>0.277393</td>\n",
       "      <td>-0.349849</td>\n",
       "      <td>-0.329667</td>\n",
       "      <td>-0.163511</td>\n",
       "      <td>FlorianMathevon</td>\n",
       "      <td>développeur</td>\n",
       "      <td>Développeur Web PHP/JavaScript #Symfony- École...</td>\n",
       "      <td>478a</td>\n",
       "      <td>Techniciens d'étude et de développement  en in...</td>\n",
       "      <td>2400.0</td>\n",
       "      <td>développeur</td>\n",
       "    </tr>\n",
       "    <tr>\n",
       "      <th>4</th>\n",
       "      <td>100099560</td>\n",
       "      <td>-1.419103</td>\n",
       "      <td>0.262383</td>\n",
       "      <td>1.559013</td>\n",
       "      <td>-2.245815</td>\n",
       "      <td>Minifish57</td>\n",
       "      <td>développeur</td>\n",
       "      <td>Analyste développeur et le plus important je s...</td>\n",
       "      <td>478a</td>\n",
       "      <td>Techniciens d'étude et de développement  en in...</td>\n",
       "      <td>2400.0</td>\n",
       "      <td>développeur</td>\n",
       "    </tr>\n",
       "  </tbody>\n",
       "</table>\n",
       "</div>"
      ],
      "text/plain": [
       "           follower_id         0         1         2         3  \\\n",
       "0  1000096085589798912 -0.270807  0.063271 -0.817916  0.029445   \n",
       "1           1000279182 -0.084768 -0.646801  0.123394  0.265548   \n",
       "2  1000447409804242944  0.224374 -0.249452 -0.346344 -0.032713   \n",
       "3  1000498107329720320  0.277393 -0.349849 -0.329667 -0.163511   \n",
       "4            100099560 -1.419103  0.262383  1.559013 -2.245815   \n",
       "\n",
       "       screen_name               key_word  \\\n",
       "0    GirardMatheo1            journaliste   \n",
       "1     inessbarbier  responsable relations   \n",
       "2    mandygraillon         adjointe maire   \n",
       "3  FlorianMathevon            développeur   \n",
       "4       Minifish57            développeur   \n",
       "\n",
       "                               description_cleantext PCS_ESE  \\\n",
       "0                          Journaliste @sports_ouest    352a   \n",
       "1  responsable des relations presse de #lequipe21...    375b   \n",
       "2  2ème adjointe au Maire d’ #Arles chargée de la...    523c   \n",
       "3  Développeur Web PHP/JavaScript #Symfony- École...    478a   \n",
       "4  Analyste développeur et le plus important je s...    478a   \n",
       "\n",
       "                                        PCS_ESE_name  Salaire moyen en EQTP  \\\n",
       "0             Journalistes (y c. rédacteurs en chef)                 3500.0   \n",
       "1  Cadres des relations publiques et de  la commu...                 4400.0   \n",
       "2  Adjoints administratifs des collectivités locales                 1900.0   \n",
       "3  Techniciens d'étude et de développement  en in...                 2400.0   \n",
       "4  Techniciens d'étude et de développement  en in...                 2400.0   \n",
       "\n",
       "                   title  \n",
       "0            journaliste  \n",
       "1  responsable relations  \n",
       "2          adjoint maire  \n",
       "3            développeur  \n",
       "4            développeur  "
      ]
     },
     "execution_count": 76,
     "metadata": {},
     "output_type": "execute_result"
    }
   ],
   "source": [
    "df2.head()"
   ]
  },
  {
   "cell_type": "code",
   "execution_count": 97,
   "metadata": {},
   "outputs": [
    {
     "name": "stdout",
     "output_type": "stream",
     "text": [
      "(10713, 12)\n",
      "(10712, 12)\n",
      "(10123, 12)\n",
      "(9884, 12)\n",
      "(9833, 12)\n",
      "(9838, 12)\n",
      "(3305, 12)\n",
      "(10579, 12)\n",
      "(3736, 12)\n"
     ]
    }
   ],
   "source": [
    "print(df1.shape) #something is incorrect, because df1 should have the same amount of rows as the job file. Figure out why. Double check the filter function and how it does the thing with follower_ids. \n",
    "print(df2.shape)\n",
    "print(df3.shape)\n",
    "print(df4.shape)\n",
    "print(df5.shape)\n",
    "print(df6.shape)\n",
    "print(df7.shape)\n",
    "print(df8.shape)\n",
    "print(df9.shape)"
   ]
  },
  {
   "cell_type": "code",
   "execution_count": null,
   "metadata": {},
   "outputs": [],
   "source": []
  }
 ],
 "metadata": {
  "kernelspec": {
   "display_name": "09.2thesis",
   "language": "python",
   "name": "python3"
  },
  "language_info": {
   "codemirror_mode": {
    "name": "ipython",
    "version": 3
   },
   "file_extension": ".py",
   "mimetype": "text/x-python",
   "name": "python",
   "nbconvert_exporter": "python",
   "pygments_lexer": "ipython3",
   "version": "3.11.7"
  }
 },
 "nbformat": 4,
 "nbformat_minor": 2
}
