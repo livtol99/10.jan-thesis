{
 "cells": [
  {
   "cell_type": "code",
   "execution_count": 3,
   "metadata": {},
   "outputs": [],
   "source": [
    "import networkx as nx\n",
    "import pandas as pd\n",
    "import matplotlib.pyplot as plt\n",
    "import importlib\n",
    "import sklearn\n",
    "\n",
    "from delayedsparse import delayedsparse"
   ]
  },
  {
   "cell_type": "code",
   "execution_count": 8,
   "metadata": {},
   "outputs": [],
   "source": [
    "# sparse matrices\n",
    "from scipy.sparse import coo_matrix\n",
    "from scipy.sparse import csr_matrix"
   ]
  },
  {
   "cell_type": "code",
   "execution_count": 7,
   "metadata": {},
   "outputs": [],
   "source": [
    "# load data\n",
    "path = '/home/livtollanes/NewData/edgelist.csv'\n",
    "\n",
    "req_cols = ['marker_id', 'follower_id', 'twitter_name']\n",
    "dtypes = {'marker_id': 'object',\n",
    "          'follower_id': 'object',\n",
    "          'twitter_name': 'object'}\n",
    "\n",
    "\n",
    "edgelist_CA = pd.read_csv(path, usecols=req_cols, dtype=dtypes)"
   ]
  },
  {
   "cell_type": "code",
   "execution_count": null,
   "metadata": {},
   "outputs": [],
   "source": [
    "# sparse CA\n",
    "\n",
    "\n",
    "Number_of_dimensions = 15\n",
    "\n",
    "\n",
    "\n",
    "\n",
    "markers = bipartite_df['twitter_id'].unique()\n",
    "followers = bipartite_df['followers_id'].unique()\n",
    "\n",
    "Number_of_markers = markers.size\n",
    "Number_of_followers = followers.size\n",
    "\n",
    "\n",
    "markers_dic = pd.Series(index=bipartite_df['twitter_id'].unique(),data=np.arange(Number_of_markers,dtype=int)) # these are column positions of markers\n",
    "followers_dic = pd.Series(index=bipartite_df['followers_id'].unique(),data=np.arange(Number_of_followers,dtype=int)) # these are column positions of followers\n",
    "\n",
    "\n",
    "# merging row and col matrix indices into a new columgn in the bipartite graph dataframe\n",
    "bipartite_df['i'] = bipartite_df['twitter_id'].map(markers_dic)\n",
    "bipartite_df['j'] = bipartite_df['followers_id'].map(followers_dic)\n",
    "\n",
    "\n",
    "# dropgin repeated edges just in case\n",
    "bipartite_df.dropna(inplace=True)\n",
    "\n",
    "# creating the COO matrix\n",
    "coo = coo_matrix((np.ones((bipartite_df.shape[0])), (bipartite_df['j'].values, bipartite_df['i'])), shape=(Number_of_followers, Number_of_markers))\n",
    "X = coo.tocsr()\n",
    "\n",
    "# computing the sparse CA\n",
    "ca = delayedsparse.CA(n_components=Number_of_dimensions)\n",
    "ca.fit(X)\n",
    "\n",
    "\n",
    "# extracting results\n",
    "aug_inter = np.array(ca.explained_inertia_)\n",
    "\n",
    "\n",
    "dimensions_names = ['latent_dim_%d'%(d+1) for d in range(Number_of_dimensions)]\n",
    "\n",
    "\n",
    "scaler = StandardScaler(with_std=True)\n",
    "scaler.fit(np.vstack(((ca.F*1)[:,:MPs_dims.shape[0]],(ca.G*1)[:,:MPs_dims.shape[0]])))    \n",
    "\n",
    "followers_coords = pd.DataFrame(index=followers,columns=dimensions_names,data=scaler.transform((ca.F*1)[:,:Number_of_dimensions]))\n",
    "markers_coords = pd.DataFrame(index=markers,columns=dimensions_names,data=scaler.transform((ca.G*1)[:,:Number_of_dimensions]))"
   ]
  }
 ],
 "metadata": {
  "kernelspec": {
   "display_name": "sparseCA",
   "language": "python",
   "name": "python3"
  },
  "language_info": {
   "codemirror_mode": {
    "name": "ipython",
    "version": 3
   },
   "file_extension": ".py",
   "mimetype": "text/x-python",
   "name": "python",
   "nbconvert_exporter": "python",
   "pygments_lexer": "ipython3",
   "version": "3.7.16"
  }
 },
 "nbformat": 4,
 "nbformat_minor": 2
}
