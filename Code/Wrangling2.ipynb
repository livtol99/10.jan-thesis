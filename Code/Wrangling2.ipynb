{
 "cells": [
  {
   "cell_type": "markdown",
   "metadata": {},
   "source": [
    "## Data Cleaning Plan"
   ]
  },
  {
   "cell_type": "markdown",
   "metadata": {},
   "source": [
    "We have three data sets:\n",
    "- Markers' bios and metadata (markers_bios)\n",
    "- Followers' bios and metadata (followers_bios)\n",
    "- All brands and their followers (markers-followers)\n",
    "\n",
    "\n",
    "Step by step plan:\n",
    "1. Load the bios of followers, and the marker-follower file. \n",
    "    - Provide summary statistics of users and brands. How many brands do we have? How many followers? Any missing data, duplicates etc.?\n",
    "\n",
    "2. Filter on marker-follower df:\n",
    "    - Create a dictionary of counts brands per follower\n",
    "    - Remove users that follow less than 5 (or more) brands\n",
    "    - Continuously track numbers of users removed\n",
    "    - Match the Follower_Ids in the now filtered marker-follower df with the follower-bio df. As such, the follower bios will only include users that follow more than five brands. Subsequent filters will be on the correct users (up to date follower-bios).\n",
    "\n",
    "3. Do the filters on the follower-bios:\n",
    "    - Remove users with less than 25 followers\n",
    "    - Remove users with less than 100 tweets\n",
    "    - Filter based on language: keep only french accounts\n",
    "\n",
    "4. Match the Ids again. Source is the follower-bios , and target is marker-follower  (we'll thus have a marker-follower list with only the relevant users)\n",
    "\n",
    "\n",
    "\n",
    "\n",
    "\n",
    "\n"
   ]
  },
  {
   "cell_type": "code",
   "execution_count": 2,
   "metadata": {},
   "outputs": [],
   "source": [
    "# Standard library imports\n",
    "import os\n",
    "import re\n",
    "import csv\n",
    "import sys\n",
    "import html\n",
    "from datetime import datetime\n",
    "from collections import defaultdict\n",
    "\n",
    "# Third-party library imports\n",
    "import pandas as pd\n",
    "import numpy as np\n",
    "import matplotlib.pyplot as plt\n",
    "import seaborn as sns\n",
    "import dask.dataframe as dd\n",
    "import psutil\n",
    "import pickle\n",
    "from nltk.corpus import stopwords\n",
    "from nltk.tokenize import word_tokenize\n",
    "\n",
    "# Local application/library specific imports\n",
    "import utils2\n",
    "from utils2 import *\n",
    "\n",
    "\n",
    "\n",
    "from unidecode import unidecode\n",
    "import importlib"
   ]
  },
  {
   "cell_type": "markdown",
   "metadata": {},
   "source": [
    "## 1. Load files and summary stats"
   ]
  },
  {
   "cell_type": "code",
   "execution_count": 3,
   "metadata": {},
   "outputs": [],
   "source": [
    "# # Load the data files that have been renamed already (make distinction between follower_id and marker_id)\n",
    "importlib.reload(utils2)\n",
    "\n",
    "# Load markers-followers\n",
    "#Load marker followers\n",
    "load_path = '/home/livtollanes/NewData'\n",
    "file = 'markers_followers_2023-05-19.csv'\n",
    "\n",
    "req_cols = ['marker_id', 'follower_id']\n",
    "dtypes = {'marker_id': 'float64',\n",
    "          'follower_id': 'float64'}\n",
    "\n",
    "markers_followers = utils2.fileloader(load_path, file, req_cols, dtypes)"
   ]
  },
  {
   "cell_type": "code",
   "execution_count": 5,
   "metadata": {},
   "outputs": [],
   "source": [
    "# Load the followers bios\n",
    "load_path = '/home/livtollanes/SocialMarkers'\n",
    "file = 'markers_followers_bios_2023-05-19.csv'\n",
    "\n",
    "req_cols = ['twitter_id', 'id', 'screen_name', 'description', 'location', 'tweets', 'followers', 'friends', 'likes', 'lists','timestamp_utc']\n",
    "\n",
    "dtypes = {\n",
    "    'twitter_id': 'float64',\n",
    "    'id': 'float64',\n",
    "    'screen_name': 'object',\n",
    "    'description': 'object',\n",
    "    'location': 'object',\n",
    "    'tweets': 'float64',\n",
    "    'followers': 'float64',\n",
    "    'friends': 'float64',\n",
    "    'witheld_in_countries': 'float64'\n",
    "}\n",
    "\n",
    "followers_bios = utils2.fileloader(load_path, file, req_cols, dtypes)\n",
    "\n",
    "\n",
    "\n",
    "#rename the twittwer id column to follower id \n",
    "followers_bios.rename(columns={'twitter_id':'follower_id'}, inplace=True)"
   ]
  },
  {
   "cell_type": "markdown",
   "metadata": {},
   "source": [
    "Summary statistics"
   ]
  },
  {
   "cell_type": "code",
   "execution_count": 6,
   "metadata": {},
   "outputs": [
    {
     "data": {
      "text/html": [
       "<div>\n",
       "<style scoped>\n",
       "    .dataframe tbody tr th:only-of-type {\n",
       "        vertical-align: middle;\n",
       "    }\n",
       "\n",
       "    .dataframe tbody tr th {\n",
       "        vertical-align: top;\n",
       "    }\n",
       "\n",
       "    .dataframe thead th {\n",
       "        text-align: right;\n",
       "    }\n",
       "</style>\n",
       "<table border=\"1\" class=\"dataframe\">\n",
       "  <thead>\n",
       "    <tr style=\"text-align: right;\">\n",
       "      <th></th>\n",
       "      <th>marker_id</th>\n",
       "      <th>follower_id</th>\n",
       "    </tr>\n",
       "  </thead>\n",
       "  <tbody>\n",
       "    <tr>\n",
       "      <th>0</th>\n",
       "      <td>415859364.0</td>\n",
       "      <td>1.655337e+18</td>\n",
       "    </tr>\n",
       "    <tr>\n",
       "      <th>1</th>\n",
       "      <td>415859364.0</td>\n",
       "      <td>1.659648e+18</td>\n",
       "    </tr>\n",
       "    <tr>\n",
       "      <th>2</th>\n",
       "      <td>415859364.0</td>\n",
       "      <td>1.525534e+18</td>\n",
       "    </tr>\n",
       "  </tbody>\n",
       "</table>\n",
       "</div>"
      ],
      "text/plain": [
       "     marker_id   follower_id\n",
       "0  415859364.0  1.655337e+18\n",
       "1  415859364.0  1.659648e+18\n",
       "2  415859364.0  1.525534e+18"
      ]
     },
     "execution_count": 6,
     "metadata": {},
     "output_type": "execute_result"
    }
   ],
   "source": [
    "markers_followers.head(3)"
   ]
  },
  {
   "cell_type": "code",
   "execution_count": 7,
   "metadata": {},
   "outputs": [
    {
     "data": {
      "text/html": [
       "<div>\n",
       "<style scoped>\n",
       "    .dataframe tbody tr th:only-of-type {\n",
       "        vertical-align: middle;\n",
       "    }\n",
       "\n",
       "    .dataframe tbody tr th {\n",
       "        vertical-align: top;\n",
       "    }\n",
       "\n",
       "    .dataframe thead th {\n",
       "        text-align: right;\n",
       "    }\n",
       "</style>\n",
       "<table border=\"1\" class=\"dataframe\">\n",
       "  <thead>\n",
       "    <tr style=\"text-align: right;\">\n",
       "      <th></th>\n",
       "      <th>follower_id</th>\n",
       "      <th>id</th>\n",
       "      <th>screen_name</th>\n",
       "      <th>description</th>\n",
       "      <th>timestamp_utc</th>\n",
       "      <th>location</th>\n",
       "      <th>tweets</th>\n",
       "      <th>followers</th>\n",
       "      <th>friends</th>\n",
       "      <th>likes</th>\n",
       "      <th>lists</th>\n",
       "    </tr>\n",
       "  </thead>\n",
       "  <tbody>\n",
       "    <tr>\n",
       "      <th>0</th>\n",
       "      <td>3.342215e+09</td>\n",
       "      <td>3.342215e+09</td>\n",
       "      <td>titisanogo8</td>\n",
       "      <td>Je crois en DIEU et à mon travail j'y arrivera...</td>\n",
       "      <td>1.435018e+09</td>\n",
       "      <td>Ile-de-France, France</td>\n",
       "      <td>6.0</td>\n",
       "      <td>44.0</td>\n",
       "      <td>733.0</td>\n",
       "      <td>91.0</td>\n",
       "      <td>0.0</td>\n",
       "    </tr>\n",
       "    <tr>\n",
       "      <th>1</th>\n",
       "      <td>3.115496e+09</td>\n",
       "      <td>3.115496e+09</td>\n",
       "      <td>AndreDeybach</td>\n",
       "      <td>NaN</td>\n",
       "      <td>1.427309e+09</td>\n",
       "      <td>NaN</td>\n",
       "      <td>0.0</td>\n",
       "      <td>1.0</td>\n",
       "      <td>40.0</td>\n",
       "      <td>0.0</td>\n",
       "      <td>0.0</td>\n",
       "    </tr>\n",
       "    <tr>\n",
       "      <th>2</th>\n",
       "      <td>2.440750e+08</td>\n",
       "      <td>2.440750e+08</td>\n",
       "      <td>matttownley1985</td>\n",
       "      <td>Hotelier, traveller, fan of all things hospita...</td>\n",
       "      <td>1.296221e+09</td>\n",
       "      <td>Manchester, England</td>\n",
       "      <td>2535.0</td>\n",
       "      <td>772.0</td>\n",
       "      <td>1264.0</td>\n",
       "      <td>1251.0</td>\n",
       "      <td>7.0</td>\n",
       "    </tr>\n",
       "  </tbody>\n",
       "</table>\n",
       "</div>"
      ],
      "text/plain": [
       "    follower_id            id      screen_name  \\\n",
       "0  3.342215e+09  3.342215e+09      titisanogo8   \n",
       "1  3.115496e+09  3.115496e+09     AndreDeybach   \n",
       "2  2.440750e+08  2.440750e+08  matttownley1985   \n",
       "\n",
       "                                         description  timestamp_utc  \\\n",
       "0  Je crois en DIEU et à mon travail j'y arrivera...   1.435018e+09   \n",
       "1                                                NaN   1.427309e+09   \n",
       "2  Hotelier, traveller, fan of all things hospita...   1.296221e+09   \n",
       "\n",
       "                location  tweets  followers  friends   likes  lists  \n",
       "0  Ile-de-France, France     6.0       44.0    733.0    91.0    0.0  \n",
       "1                    NaN     0.0        1.0     40.0     0.0    0.0  \n",
       "2    Manchester, England  2535.0      772.0   1264.0  1251.0    7.0  "
      ]
     },
     "execution_count": 7,
     "metadata": {},
     "output_type": "execute_result"
    }
   ],
   "source": [
    "followers_bios.head(3)"
   ]
  },
  {
   "cell_type": "code",
   "execution_count": 27,
   "metadata": {},
   "outputs": [
    {
     "name": "stdout",
     "output_type": "stream",
     "text": [
      "Shape of DataFrame:  (70666646, 11)\n",
      "\n",
      "Columns in DataFrame:  ['follower_id', 'id', 'screen_name', 'description', 'timestamp_utc', 'location', 'tweets', 'followers', 'friends', 'likes', 'lists']\n",
      "\n",
      "Number of unique values in 'follower_id':  70666351\n",
      "\n",
      "Number of duplicate values in 'follower_id':  295\n",
      "\n",
      "Number of unique values in 'id':  70642371\n",
      "\n",
      "Number of duplicate values in 'id':  24274\n",
      "\n",
      "Number of missing values in each column:\n",
      " follower_id             0\n",
      "id                  23985\n",
      "screen_name         23986\n",
      "description      42027215\n",
      "timestamp_utc       23985\n",
      "location         47956041\n",
      "tweets              23985\n",
      "followers           23985\n",
      "friends             23985\n",
      "likes               23985\n",
      "lists               23985\n",
      "dtype: int64\n"
     ]
    }
   ],
   "source": [
    "importlib.reload(utils2)\n",
    "utils2.summary_stats(followers_bios, print_dtypes=False)"
   ]
  },
  {
   "cell_type": "code",
   "execution_count": 27,
   "metadata": {},
   "outputs": [
    {
     "name": "stdout",
     "output_type": "stream",
     "text": [
      "Shape of DataFrame:  (126345412, 2)\n",
      "\n",
      "Columns in DataFrame:  ['marker_id', 'follower_id']\n",
      "\n",
      "Number of unique values in 'follower_id':  70636002\n",
      "\n",
      "Number of duplicate values in 'follower_id':  55709410\n",
      "\n",
      "Number of unique values in 'marker_id':  236\n",
      "\n",
      "Number of duplicate values in 'marker_id':  126345176\n",
      "\n",
      "Number of missing values in each column:\n",
      " marker_id      0\n",
      "follower_id    0\n",
      "dtype: int64\n"
     ]
    }
   ],
   "source": [
    "importlib.reload(utils2)\n",
    "utils2.summary_stats(markers_followers, print_dtypes=False)"
   ]
  },
  {
   "cell_type": "code",
   "execution_count": 34,
   "metadata": {},
   "outputs": [],
   "source": [
    "# Create a dictionary to store the original number of rows for each DataFrame\n",
    "original_num_rows = {\n",
    "    'markers_followers': 126345412,\n",
    "    'followers_bios': 70666646\n",
    "}"
   ]
  },
  {
   "cell_type": "code",
   "execution_count": 10,
   "metadata": {},
   "outputs": [
    {
     "name": "stdout",
     "output_type": "stream",
     "text": [
      "           follower_id            id      screen_name  \\\n",
      "64631398  7.004164e+17  7.004164e+17       sarr_couse   \n",
      "42301263  7.004164e+17  7.004164e+17    CoquitoPapi15   \n",
      "21887413  7.004244e+17  7.004244e+17  Lina_Tamer_Hass   \n",
      "13503464  7.004244e+17  7.004244e+17  everybdy_lovesb   \n",
      "37983810  7.006543e+17  7.006543e+17      alexswiftzn   \n",
      "...                ...           ...              ...   \n",
      "64262846  1.636459e+18  1.636459e+18   TbcradioT26934   \n",
      "21013376  1.637583e+18  1.637583e+18       dicorato10   \n",
      "40323003  1.637583e+18  1.637583e+18    AlMakhtarTall   \n",
      "39641326  1.638002e+18  1.638002e+18    izzyhomeloans   \n",
      "44041367  1.638002e+18  1.638002e+18       trixiepots   \n",
      "\n",
      "                                                description  timestamp_utc  \\\n",
      "64631398                                                NaN   1.455827e+09   \n",
      "42301263        Chicago, shoes and Views. 🇵🇷  IG:@dripbrady   1.455827e+09   \n",
      "21887413                                                NaN   1.455829e+09   \n",
      "13503464  CoastMade 228. Capricorn. Loyalty probably mea...   1.455829e+09   \n",
      "37983810  boy, Italy 🍕☀️ •\\nSwiftie • VR46💛  • TIZIANO •...   1.455884e+09   \n",
      "...                                                     ...            ...   \n",
      "64262846                                                NaN   1.678997e+09   \n",
      "21013376                                                NaN   1.679265e+09   \n",
      "40323003                         Directeur des Études EPFCE   1.679265e+09   \n",
      "39641326                                                NaN   1.679365e+09   \n",
      "44041367                                                NaN   1.679365e+09   \n",
      "\n",
      "             location   tweets  followers  friends    likes  lists  \n",
      "64631398          NaN      0.0        9.0     45.0      0.0    0.0  \n",
      "42301263  Chicago, IL  18965.0      402.0   1787.0  24670.0    2.0  \n",
      "21887413          NaN      5.0        3.0     48.0      0.0    0.0  \n",
      "13503464  Atlanta, GA     30.0       34.0    163.0      1.0    0.0  \n",
      "37983810          NaN  16963.0     1201.0   1709.0  28421.0    3.0  \n",
      "...               ...      ...        ...      ...      ...    ...  \n",
      "64262846          NaN      0.0        0.0     24.0      1.0    0.0  \n",
      "21013376          NaN      0.0        0.0     39.0      0.0    0.0  \n",
      "40323003      Senegal      0.0        0.0     74.0      0.0    0.0  \n",
      "39641326          NaN      0.0        4.0     89.0      0.0    0.0  \n",
      "44041367          NaN      0.0        2.0     69.0      0.0    0.0  \n",
      "\n",
      "[590 rows x 11 columns]\n"
     ]
    }
   ],
   "source": [
    "duplicates = followers_bios[followers_bios.duplicated('follower_id', keep=False)]\n",
    "duplicates_sorted = duplicates.sort_values('follower_id')\n",
    "print(duplicates_sorted)"
   ]
  },
  {
   "cell_type": "code",
   "execution_count": 31,
   "metadata": {},
   "outputs": [
    {
     "name": "stdout",
     "output_type": "stream",
     "text": [
      "Number of rows removed: 0\n",
      "Number of rows left: 70666351\n",
      "Percentage of rows left: 100.00%\n"
     ]
    }
   ],
   "source": [
    "# Calculate the original number of rows\n",
    "original_num_rows = len(followers_bios)\n",
    "\n",
    "# Remove duplicated follower_ids in followers_bios\n",
    "followers_bios.drop_duplicates(subset='follower_id', keep='first', inplace=True)\n",
    "\n",
    "# Calculate the new number of rows\n",
    "new_num_rows = len(followers_bios)\n",
    "\n",
    "# Calculate and print the number of rows removed\n",
    "num_rows_removed = original_num_rows - new_num_rows\n",
    "print(f\"Number of rows removed: {num_rows_removed}\")\n",
    "\n",
    "# Print the number of rows left\n",
    "print(f\"Number of rows left: {new_num_rows}\")\n",
    "\n",
    "# Calculate and print the percentage of rows left\n",
    "percentage_left = (new_num_rows / original_num_rows) * 100\n",
    "print(f\"Percentage of rows left: {percentage_left:.2f}%\")"
   ]
  },
  {
   "cell_type": "markdown",
   "metadata": {},
   "source": [
    "## 2. Filter the marker-follower df"
   ]
  },
  {
   "cell_type": "markdown",
   "metadata": {},
   "source": [
    "- Filter the marker-follower df:\n",
    "    - Create a dictionary of counts brands per follower\n",
    "\n",
    "    - Remove users that follow less than 5 (or more) brands\n",
    "\n",
    "    - Continuously track numbers of users removed\n",
    "    \n",
    "    - Match the Follower_Ids in the now filtered marker-follower df with the follower-bio df. As such, the follower bios \n",
    "    will only include users that follow more than five brands. Subsequent filters will be on the correct users (up to date follower-bios)."
   ]
  },
  {
   "cell_type": "markdown",
   "metadata": {},
   "source": [
    "Create a dictionary of counts brands per follower"
   ]
  },
  {
   "cell_type": "markdown",
   "metadata": {},
   "source": [
    "Remove users that follow less than 5 (or more) brands"
   ]
  },
  {
   "cell_type": "code",
   "execution_count": 35,
   "metadata": {},
   "outputs": [
    {
     "name": "stdout",
     "output_type": "stream",
     "text": [
      "66606237 followers follow less than 5 brands (94.30% of the total followers).\n",
      "After removing these followers, 4029765 followers are left (5.70% of the total followers).\n"
     ]
    }
   ],
   "source": [
    "importlib.reload(utils2)\n",
    "n = 5  # minimal number of brands followed required to be included in the analysis\n",
    "markers_followers_5 = utils2.filter_followers(markers_followers, 'follower_id', n)"
   ]
  },
  {
   "cell_type": "markdown",
   "metadata": {},
   "source": [
    "Match the IDs in the filtered marker-follower df with the follower bio df, so that the follower bios only are for those who follow at least 5 brands"
   ]
  },
  {
   "cell_type": "code",
   "execution_count": 47,
   "metadata": {},
   "outputs": [
    {
     "name": "stdout",
     "output_type": "stream",
     "text": [
      "Sanity check failed: The number of unique values in the source column (4029765) and target column (3904958) are not identical.\n",
      "Removed 66761393 rows.\n",
      "3904958 rows are left.\n"
     ]
    }
   ],
   "source": [
    "importlib.reload(utils2)\n",
    "\n",
    "markers_followers_5.loc[:, 'follower_id'] = markers_followers_5['follower_id'].astype(float)\n",
    "follower_bios_5 = utils2.streamline_ids(followers_bios, 'follower_id', markers_followers_5, 'follower_id')"
   ]
  },
  {
   "cell_type": "code",
   "execution_count": null,
   "metadata": {},
   "outputs": [],
   "source": []
  }
 ],
 "metadata": {
  "kernelspec": {
   "display_name": "10.1thesis",
   "language": "python",
   "name": "10.1thesis"
  },
  "language_info": {
   "codemirror_mode": {
    "name": "ipython",
    "version": 3
   },
   "file_extension": ".py",
   "mimetype": "text/x-python",
   "name": "python",
   "nbconvert_exporter": "python",
   "pygments_lexer": "ipython3",
   "version": "3.11.7"
  }
 },
 "nbformat": 4,
 "nbformat_minor": 2
}
