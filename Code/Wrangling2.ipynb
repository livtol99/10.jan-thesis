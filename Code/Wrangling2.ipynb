{
 "cells": [
  {
   "cell_type": "markdown",
   "metadata": {},
   "source": [
    "## Data Cleaning Plan"
   ]
  },
  {
   "cell_type": "markdown",
   "metadata": {},
   "source": [
    "We have three data sets:\n",
    "- Markers' bios and metadata (markers_bios)\n",
    "- Followers' bios and metadata (followers_bios)\n",
    "- All brands and their followers (markers-followers)\n",
    "\n",
    "\n",
    "Step by step plan:\n",
    "1. Load the bios of followers, and the marker-follower file. \n",
    "    - Provide summary statistics of users and brands. How many brands do we have? How many followers? Any missing data, duplicates etc.?\n",
    "\n",
    "2. Filter on marker-follower df:\n",
    "    - Create a dictionary of counts brands per follower\n",
    "    - Remove users that follow less than 5 (or more) brands\n",
    "    - Continuously track numbers of users removed\n",
    "    - Match the Follower_Ids in the now filtered marker-follower df with the follower-bio df. As such, the follower bios will only include users that follow more than five brands. Subsequent filters will be on the correct users (up to date follower-bios).\n",
    "\n",
    "3. Do the filters on the follower-bios:\n",
    "    - Remove users with less than 25 followers\n",
    "    - Remove users with less than 100 tweets\n",
    "\n",
    "4. Filter based on language: keep only french accounts\n",
    "\n",
    "\n",
    "\n",
    "\n",
    "\n",
    "\n",
    "\n"
   ]
  },
  {
   "cell_type": "code",
   "execution_count": 3,
   "metadata": {},
   "outputs": [],
   "source": [
    "# Standard library imports\n",
    "import os\n",
    "import re\n",
    "import csv\n",
    "import sys\n",
    "import html\n",
    "from datetime import datetime\n",
    "from collections import defaultdict\n",
    "\n",
    "# Third-party library imports\n",
    "import pandas as pd\n",
    "import numpy as np\n",
    "import matplotlib.pyplot as plt\n",
    "import seaborn as sns\n",
    "import dask.dataframe as dd\n",
    "import psutil\n",
    "import pickle\n",
    "from nltk.corpus import stopwords\n",
    "from nltk.tokenize import word_tokenize\n",
    "\n",
    "# Local application/library specific imports\n",
    "import utils2\n",
    "from utils2 import *\n",
    "\n",
    "\n",
    "\n",
    "from unidecode import unidecode\n",
    "import importlib"
   ]
  },
  {
   "cell_type": "markdown",
   "metadata": {},
   "source": [
    "## 1. Load files and summary stats"
   ]
  },
  {
   "cell_type": "code",
   "execution_count": 4,
   "metadata": {},
   "outputs": [],
   "source": [
    "# # Load the data files that have been renamed already (make distinction between follower_id and marker_id)\n",
    "importlib.reload(utils2)\n",
    "\n",
    "# Load markers-followers\n",
    "#Load marker followers\n",
    "load_path = '/home/livtollanes/NewData'\n",
    "file = 'markers_followers_2023-05-19.csv'\n",
    "\n",
    "req_cols = ['marker_id', 'follower_id']\n",
    "dtypes = {'marker_id': 'float64',\n",
    "          'follower_id': 'float64'}\n",
    "\n",
    "markers_followers = utils2.fileloader(load_path, file, req_cols, dtypes)"
   ]
  },
  {
   "cell_type": "code",
   "execution_count": 29,
   "metadata": {},
   "outputs": [],
   "source": [
    "# Load the followers bios\n",
    "load_path = '/home/livtollanes/SocialMarkers'\n",
    "file = 'markers_followers_bios_2023-05-19.csv'\n",
    "\n",
    "req_cols = ['twitter_id', 'id', 'screen_name', 'description', 'location', 'tweets', 'followers', 'friends', 'likes', 'lists','timestamp_utc']\n",
    "\n",
    "dtypes = {\n",
    "    'twitter_id': 'float64',\n",
    "    'id': 'float64',\n",
    "    'screen_name': 'object',\n",
    "    'description': 'object',\n",
    "    'location': 'object',\n",
    "    'tweets': 'float64',\n",
    "    'followers': 'float64',\n",
    "    'friends': 'float64',\n",
    "    'witheld_in_countries': 'float64'\n",
    "}\n",
    "\n",
    "followers_bios = utils2.fileloader(load_path, file, req_cols, dtypes)\n",
    "\n",
    "\n",
    "\n",
    "#rename the twittwer id column to follower id \n",
    "followers_bios.rename(columns={'twitter_id':'follower_id'}, inplace=True)"
   ]
  },
  {
   "cell_type": "markdown",
   "metadata": {},
   "source": [
    "Summary statistics"
   ]
  },
  {
   "cell_type": "code",
   "execution_count": 6,
   "metadata": {},
   "outputs": [
    {
     "name": "stdout",
     "output_type": "stream",
     "text": [
      "Shape of DataFrame:  (70666646, 11)\n",
      "\n",
      "Columns in DataFrame:  ['follower_id', 'id', 'screen_name', 'description', 'timestamp_utc', 'location', 'tweets', 'followers', 'friends', 'likes', 'lists']\n",
      "\n",
      "Number of unique values in 'follower_id':  70666351\n",
      "\n",
      "Number of duplicate values in 'follower_id':  295\n",
      "\n",
      "Number of unique values in 'id':  70642371\n",
      "\n",
      "Number of duplicate values in 'id':  24274\n",
      "\n",
      "Number of missing values in each column:\n",
      " follower_id             0\n",
      "id                  23985\n",
      "screen_name         23986\n",
      "description      42027215\n",
      "timestamp_utc       23985\n",
      "location         47956041\n",
      "tweets              23985\n",
      "followers           23985\n",
      "friends             23985\n",
      "likes               23985\n",
      "lists               23985\n",
      "dtype: int64\n"
     ]
    }
   ],
   "source": [
    "importlib.reload(utils2)\n",
    "utils2.summary_stats(followers_bios, print_dtypes=False)"
   ]
  },
  {
   "cell_type": "code",
   "execution_count": 7,
   "metadata": {},
   "outputs": [
    {
     "name": "stdout",
     "output_type": "stream",
     "text": [
      "Shape of DataFrame:  (126345412, 2)\n",
      "\n",
      "Columns in DataFrame:  ['marker_id', 'follower_id']\n",
      "\n",
      "Number of unique values in 'follower_id':  70636002\n",
      "\n",
      "Number of duplicate values in 'follower_id':  55709410\n",
      "\n",
      "Number of unique values in 'marker_id':  236\n",
      "\n",
      "Number of duplicate values in 'marker_id':  126345176\n",
      "\n",
      "Number of missing values in each column:\n",
      " marker_id      0\n",
      "follower_id    0\n",
      "dtype: int64\n"
     ]
    }
   ],
   "source": [
    "importlib.reload(utils2)\n",
    "utils2.summary_stats(markers_followers, print_dtypes=False)"
   ]
  },
  {
   "cell_type": "code",
   "execution_count": 30,
   "metadata": {},
   "outputs": [],
   "source": [
    "# Convert the 'follower_id' column to float in both dataframes\n",
    "followers_bios['follower_id'] = followers_bios['follower_id'].astype(float)\n",
    "markers_followers['follower_id'] = markers_followers['follower_id'].astype(float)"
   ]
  },
  {
   "cell_type": "code",
   "execution_count": 11,
   "metadata": {},
   "outputs": [
    {
     "name": "stdout",
     "output_type": "stream",
     "text": [
      "There are 2463629 unique values in df1 that don't exist in df2.\n",
      "There are 2433280 unique values in df2 that don't exist in df1.\n"
     ]
    }
   ],
   "source": [
    "compare_column_values(followers_bios, markers_followers, 'follower_id')"
   ]
  },
  {
   "cell_type": "code",
   "execution_count": 16,
   "metadata": {},
   "outputs": [
    {
     "name": "stdout",
     "output_type": "stream",
     "text": [
      "Missing in followers_bios:\n",
      "8      9.568676e+17\n",
      "10     9.561652e+17\n",
      "57     9.145880e+17\n",
      "106    9.670257e+17\n",
      "209    9.130761e+17\n",
      "222    1.273530e+18\n",
      "267    9.344244e+17\n",
      "281    9.272911e+17\n",
      "310    1.008815e+18\n",
      "338    1.039234e+18\n",
      "Name: follower_id, dtype: float64\n",
      "Missing in markers_followers:\n",
      "0      1.655337e+18\n",
      "141    1.659624e+18\n",
      "177    1.659617e+18\n",
      "242    1.659602e+18\n",
      "249    1.659601e+18\n",
      "265    1.659597e+18\n",
      "313    1.597933e+18\n",
      "316    1.221570e+18\n",
      "324    1.659590e+18\n",
      "332    1.583930e+18\n",
      "Name: follower_id, dtype: float64\n"
     ]
    }
   ],
   "source": [
    "importlib.reload(utils2)\n",
    "missing_in_followers_bios, missing_in_markers_followers = utils2.get_discrepancies(followers_bios, markers_followers, 'follower_id')\n",
    "\n",
    "print(\"Missing in followers_bios:\")\n",
    "print(missing_in_followers_bios.head(10))\n",
    "\n",
    "print(\"Missing in markers_followers:\")\n",
    "print(missing_in_markers_followers.head(10))"
   ]
  },
  {
   "cell_type": "code",
   "execution_count": 22,
   "metadata": {},
   "outputs": [
    {
     "name": "stdout",
     "output_type": "stream",
     "text": [
      "590\n"
     ]
    }
   ],
   "source": [
    "duplicates = followers_bios[followers_bios.duplicated('follower_id', keep=False)]\n",
    "duplicates_sorted = duplicates.sort_values('follower_id')\n",
    "print(len(duplicates_sorted))"
   ]
  },
  {
   "cell_type": "code",
   "execution_count": 31,
   "metadata": {},
   "outputs": [
    {
     "name": "stdout",
     "output_type": "stream",
     "text": [
      "Number of rows removed: 295\n",
      "Number of rows left: 70666351\n"
     ]
    }
   ],
   "source": [
    "# Calculate the original number of rows\n",
    "original_num_rows = len(followers_bios)\n",
    "\n",
    "# Remove duplicated follower_ids in followers_bios\n",
    "followers_bios_nd = followers_bios.drop_duplicates(subset='follower_id', keep='first')\n",
    "\n",
    "# Calculate the new number of rows\n",
    "new_num_rows = len(followers_bios_nd)\n",
    "\n",
    "# Calculate and print the number of rows removed\n",
    "num_rows_removed = original_num_rows - new_num_rows\n",
    "print(f\"Number of rows removed: {num_rows_removed}\")\n",
    "\n",
    "# Print the number of rows left\n",
    "print(f\"Number of rows left: {new_num_rows}\")"
   ]
  },
  {
   "cell_type": "code",
   "execution_count": 33,
   "metadata": {},
   "outputs": [
    {
     "name": "stdout",
     "output_type": "stream",
     "text": [
      "Removed 881 rows from markers_followers.\n",
      "Number of rows left in markers_followers after removal: 126344531\n"
     ]
    }
   ],
   "source": [
    "# Get the duplicate 'follower_id's from followers_bios\n",
    "duplicate_ids = followers_bios[followers_bios.duplicated('follower_id', keep=False)]['follower_id'].unique()\n",
    "\n",
    "# Get the number of rows before removal\n",
    "rows_before = len(markers_followers)\n",
    "\n",
    "# Remove rows in markers_followers that have the same 'follower_id's\n",
    "markers_followers_nd = markers_followers[~markers_followers['follower_id'].isin(duplicate_ids)]\n",
    "\n",
    "# Get the number of rows after removal\n",
    "rows_after = len(markers_followers_nd)\n",
    "\n",
    "# Calculate and print the number of rows removed\n",
    "rows_removed = rows_before - rows_after\n",
    "print(f\"Removed {rows_removed} rows from markers_followers.\")\n",
    "\n",
    "# Print the number of rows left\n",
    "print(f\"Number of rows left in markers_followers after removal: {rows_after}\")"
   ]
  },
  {
   "cell_type": "markdown",
   "metadata": {},
   "source": [
    "## 2. Filter the marker-follower df"
   ]
  },
  {
   "cell_type": "markdown",
   "metadata": {},
   "source": [
    "- Filter the marker-follower df:\n",
    "    - Create a dictionary of counts brands per follower\n",
    "\n",
    "    - Remove users that follow less than 5 (or more) brands\n",
    "\n",
    "    - Continuously track numbers of users removed\n",
    "    \n",
    "    - Match the Follower_Ids in the now filtered marker-follower df with the follower-bio df. As such, the follower bios \n",
    "    will only include users that follow more than five brands. Subsequent filters will be on the correct users (up to date follower-bios)."
   ]
  },
  {
   "cell_type": "markdown",
   "metadata": {},
   "source": [
    "Remove users that follow less than 5 brands"
   ]
  },
  {
   "cell_type": "code",
   "execution_count": 34,
   "metadata": {},
   "outputs": [
    {
     "name": "stdout",
     "output_type": "stream",
     "text": [
      "66606010 followers follow less than 5 brands (94.30% of the total followers).\n",
      "After removing these followers, 4029718 followers are left (5.70% of the followers in the inputted df).\n"
     ]
    }
   ],
   "source": [
    "importlib.reload(utils2)\n",
    "n = 5  # minimal number of brands followed required to be included in the analysis\n",
    "markers_followers_5 = utils2.filter_followers(markers_followers_nd, 'follower_id', n)"
   ]
  },
  {
   "cell_type": "markdown",
   "metadata": {},
   "source": [
    "Match the IDs in the filtered marker-follower df with the follower bio df, so that the follower bios only are for those who follow at least 5 brands"
   ]
  },
  {
   "cell_type": "code",
   "execution_count": 36,
   "metadata": {},
   "outputs": [
    {
     "name": "stdout",
     "output_type": "stream",
     "text": [
      "Number of unique follower_id in source: 4029718\n",
      "Number of unique follower_id in df_tofilter after filtering: 3904911\n",
      "Removed 66761440 rows.\n",
      "3904911 rows are left.\n"
     ]
    }
   ],
   "source": [
    "importlib.reload(utils2)\n",
    "\n",
    "followers_bios_nd5 = utils2.streamline_IDs(markers_followers_5, followers_bios_nd, 'follower_id')"
   ]
  },
  {
   "cell_type": "code",
   "execution_count": 37,
   "metadata": {},
   "outputs": [
    {
     "name": "stdout",
     "output_type": "stream",
     "text": [
      "There are 0 unique values in df1 that don't exist in df2.\n",
      "There are 124807 unique values in df2 that don't exist in df1.\n"
     ]
    }
   ],
   "source": [
    "compare_column_values(followers_bios_nd5, markers_followers_5, 'follower_id')   "
   ]
  },
  {
   "cell_type": "code",
   "execution_count": 39,
   "metadata": {},
   "outputs": [
    {
     "name": "stdout",
     "output_type": "stream",
     "text": [
      "4029718\n"
     ]
    }
   ],
   "source": [
    "#find length of unique values in markers_followers_5\n",
    "print(len(markers_followers_5['follower_id'].unique()))"
   ]
  },
  {
   "cell_type": "code",
   "execution_count": 40,
   "metadata": {},
   "outputs": [
    {
     "name": "stdout",
     "output_type": "stream",
     "text": [
      "3.097164615489223\n"
     ]
    }
   ],
   "source": [
    "# what % is 124807  of 4029718\n",
    "print((124807/4029718)*100)\n"
   ]
  },
  {
   "cell_type": "markdown",
   "metadata": {},
   "source": [
    "## 3. Do the filters on the follower-bios:\n",
    "- Remove users with less than 25 followers\n",
    "- Remove users with less than 100 tweets\n",
    "- Update the markers-followers df to match the now filtered bio df\n",
    "- Filter based on language: keep only french accounts\n"
   ]
  },
  {
   "cell_type": "code",
   "execution_count": 38,
   "metadata": {},
   "outputs": [
    {
     "data": {
      "text/plain": [
       "Index(['follower_id', 'id', 'screen_name', 'description', 'timestamp_utc',\n",
       "       'location', 'tweets', 'followers', 'friends', 'likes', 'lists'],\n",
       "      dtype='object')"
      ]
     },
     "execution_count": 38,
     "metadata": {},
     "output_type": "execute_result"
    }
   ],
   "source": [
    "followers_bios_nd5.columns"
   ]
  },
  {
   "cell_type": "code",
   "execution_count": 42,
   "metadata": {},
   "outputs": [
    {
     "name": "stdout",
     "output_type": "stream",
     "text": [
      "Removed 2684161 rows.\n",
      "1220750 rows are left.\n"
     ]
    }
   ],
   "source": [
    "importlib.reload(utils2)\n",
    "followers_bios_nd5_tweets_followers = utils2.filter_by_tweets_and_followers(followers_bios_nd5, min_followers= 25, min_tweets= 100)\n"
   ]
  },
  {
   "cell_type": "markdown",
   "metadata": {},
   "source": [
    "Again, remove the follower_Ids in markers-followers that don't occur in the newly filtered  followers_bios_nd5_tweets_followers"
   ]
  },
  {
   "cell_type": "code",
   "execution_count": 43,
   "metadata": {},
   "outputs": [
    {
     "name": "stdout",
     "output_type": "stream",
     "text": [
      "Number of unique follower_id in source: 1220750\n",
      "Number of unique follower_id in df_tofilter after filtering: 1220750\n",
      "Removed 19422533 rows.\n",
      "9798809 rows are left.\n"
     ]
    }
   ],
   "source": [
    "markers_followers_5_tweets_followers = utils2.streamline_IDs(source= followers_bios_nd5_tweets_followers, df_tofilter=markers_followers_5, column='follower_id')"
   ]
  },
  {
   "cell_type": "code",
   "execution_count": 51,
   "metadata": {},
   "outputs": [
    {
     "name": "stdout",
     "output_type": "stream",
     "text": [
      "There are 0 unique values in df1 that don't exist in df2.\n",
      "There are 0 unique values in df2 that don't exist in df1.\n"
     ]
    }
   ],
   "source": [
    "compare_column_values(followers_bios_nd5_tweets_followers, markers_followers_5_tweets_followers, 'follower_id')"
   ]
  },
  {
   "cell_type": "code",
   "execution_count": 52,
   "metadata": {},
   "outputs": [],
   "source": [
    "#Now write the two dfs to csvs to save them in case something happens\n",
    "followers_bios_nd5_tweets_followers.to_csv('/home/livtollanes/NewData/workdata/followers_bios_cleaned_nolang.csv', index=False)\n",
    "markers_followers_5_tweets_followers.to_csv('/home/livtollanes/NewData/workdata/markers_followers_cleaned_nolang.csv', index=False)"
   ]
  },
  {
   "cell_type": "markdown",
   "metadata": {},
   "source": [
    "## 4. Filter based on language: keep only french accounts\n",
    "- Use language recognition alorithms to filter the follower_bios. \n",
    "- We only want french language bios to be included\n"
   ]
  },
  {
   "cell_type": "code",
   "execution_count": null,
   "metadata": {},
   "outputs": [],
   "source": []
  }
 ],
 "metadata": {
  "kernelspec": {
   "display_name": "10.1thesis",
   "language": "python",
   "name": "10.1thesis"
  },
  "language_info": {
   "codemirror_mode": {
    "name": "ipython",
    "version": 3
   },
   "file_extension": ".py",
   "mimetype": "text/x-python",
   "name": "python",
   "nbconvert_exporter": "python",
   "pygments_lexer": "ipython3",
   "version": "3.11.7"
  }
 },
 "nbformat": 4,
 "nbformat_minor": 2
}
