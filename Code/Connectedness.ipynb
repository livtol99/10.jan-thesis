{
 "cells": [
  {
   "cell_type": "code",
   "execution_count": 1,
   "metadata": {},
   "outputs": [],
   "source": [
    "import networkx as nx\n",
    "import pandas as pd\n",
    "import matplotlib.pyplot as plt\n",
    "import prince\n",
    "import importlib\n",
    "import utils2\n",
    "from utils2 import *\n"
   ]
  },
  {
   "cell_type": "markdown",
   "metadata": {},
   "source": [
    "## Graph Overview - CA Prep"
   ]
  },
  {
   "cell_type": "markdown",
   "metadata": {},
   "source": [
    "- In this notebook, I will perform various check in order to make sure my data is ready for CA implementation\n",
    "\n",
    "- This includes:\n",
    "    - Data distribution checks\n",
    "    - Node and edge analysis; various graph metrics and visualisations. Are there any clusters etc?\n",
    "    - Assumptions of CA?\n",
    "    - Connectedness of my graph"
   ]
  },
  {
   "cell_type": "markdown",
   "metadata": {},
   "source": [
    "I'm starting with an edge list. Each row represents an edge (a follower-brand relationship) in the graph. From the edge list, I should create a directed graph. "
   ]
  },
  {
   "cell_type": "code",
   "execution_count": 2,
   "metadata": {},
   "outputs": [],
   "source": [
    "#Load the edge list\n",
    "#Load marker followers\n",
    "full_path1 = '/home/livtollanes/NewData/markers_followers_cleaned_nolang.csv'\n",
    "req_cols = ['marker_id', 'follower_id']\n",
    "dtypes = {'marker_id': 'object',\n",
    "          'follower_id': 'object'}\n",
    "\n",
    "edgelist = pd.read_csv(full_path1, encoding='utf-8', dtype=dtypes, usecols=req_cols)"
   ]
  },
  {
   "cell_type": "code",
   "execution_count": 4,
   "metadata": {},
   "outputs": [
    {
     "name": "stdout",
     "output_type": "stream",
     "text": [
      "Shape of DataFrame:  (9614122, 2)\n",
      "\n",
      "Columns in DataFrame:  ['marker_id', 'follower_id']\n",
      "\n",
      "Data types of columns:\n",
      " marker_id      object\n",
      "follower_id    object\n",
      "dtype: object\n",
      "\n",
      "Number of unique values in 'follower_id':  1192532\n",
      "Number of duplicate values in 'follower_id':  8421590\n",
      "\n",
      "Number of unique values in 'marker_id':  235\n",
      "Number of duplicate values in 'marker_id':  9613887\n",
      "\n",
      "Number of missing values in each column:\n",
      "'marker_id':  0\n",
      "'follower_id':  0\n",
      "\n",
      "Number of duplicate rows:  0\n"
     ]
    }
   ],
   "source": [
    "summary_stats(edgelist)"
   ]
  },
  {
   "cell_type": "code",
   "execution_count": 5,
   "metadata": {},
   "outputs": [],
   "source": [
    "#Add twitter name to the edge list for more informative plots at a later stage\n",
    "\n",
    "# Full path to the Excel file where types and names of brands are stored\n",
    "file_path = '/home/livtollanes/SocialMarkers/MarkersFrenchTwitter.xlsx'\n",
    "\n",
    "# Load the Excel file\n",
    "cats = pd.read_excel(file_path)"
   ]
  },
  {
   "cell_type": "markdown",
   "metadata": {},
   "source": [
    "The excel file does not contain twitter ID. We thus need to merge cats with the marker metadata file in order to get names and ids in the same df"
   ]
  },
  {
   "cell_type": "code",
   "execution_count": 6,
   "metadata": {},
   "outputs": [],
   "source": [
    "# Load the marker bios and rename ID columns\n",
    "full_path = '/home/livtollanes/SocialMarkers/markers_bios_2023-05-19.csv'\n",
    "\n",
    "req_cols = ['twitter_name', 'id', 'description', 'verified', 'tweets', 'followers']\n",
    "\n",
    "dtypes = {\n",
    "    'twitter_name': 'object',\n",
    "    'id': 'object',\n",
    "    'description': 'object',\n",
    "    'tweets': 'int64',\n",
    "    'followers': 'int64'}\n",
    "\n",
    "marker_ids = pd.read_csv(full_path, usecols=req_cols, dtype=dtypes)\n",
    "\n",
    "#rename the twittwer id column to follower id \n",
    "marker_ids.rename(columns={'id':'marker_id'}, inplace=True)"
   ]
  },
  {
   "cell_type": "code",
   "execution_count": 8,
   "metadata": {},
   "outputs": [],
   "source": [
    "#map marker_ids onto cats from marker:ids\n",
    "cat_id = cats.merge(marker_ids, on='twitter_name', how='left')\n",
    "cat_id = cat_id.drop_duplicates(subset='marker_id')"
   ]
  },
  {
   "cell_type": "code",
   "execution_count": 10,
   "metadata": {},
   "outputs": [
    {
     "name": "stdout",
     "output_type": "stream",
     "text": [
      "Number of unique marker_id in source DataFrame: 235\n",
      "Number of unique marker_id in filtered DataFrame after filtering: 235\n",
      "Removed 2 rows from the DataFrame to be filtered.\n",
      "235 rows are left in the filtered DataFrame.\n"
     ]
    },
    {
     "data": {
      "text/html": [
       "<div>\n",
       "<style scoped>\n",
       "    .dataframe tbody tr th:only-of-type {\n",
       "        vertical-align: middle;\n",
       "    }\n",
       "\n",
       "    .dataframe tbody tr th {\n",
       "        vertical-align: top;\n",
       "    }\n",
       "\n",
       "    .dataframe thead th {\n",
       "        text-align: right;\n",
       "    }\n",
       "</style>\n",
       "<table border=\"1\" class=\"dataframe\">\n",
       "  <thead>\n",
       "    <tr style=\"text-align: right;\">\n",
       "      <th></th>\n",
       "      <th>marque</th>\n",
       "      <th>twitter_name</th>\n",
       "      <th>type</th>\n",
       "      <th>Unnamed: 3</th>\n",
       "      <th>marker_id</th>\n",
       "      <th>description</th>\n",
       "      <th>verified</th>\n",
       "      <th>tweets</th>\n",
       "      <th>followers</th>\n",
       "    </tr>\n",
       "  </thead>\n",
       "  <tbody>\n",
       "    <tr>\n",
       "      <th>0</th>\n",
       "      <td>Nike</td>\n",
       "      <td>Nike</td>\n",
       "      <td>sport</td>\n",
       "      <td>NaN</td>\n",
       "      <td>415859364</td>\n",
       "      <td>#BlackLivesMatter and #StopAsianHate</td>\n",
       "      <td>0.0</td>\n",
       "      <td>38240.0</td>\n",
       "      <td>9788339.0</td>\n",
       "    </tr>\n",
       "    <tr>\n",
       "      <th>1</th>\n",
       "      <td>Adidas</td>\n",
       "      <td>adidasFR</td>\n",
       "      <td>sport</td>\n",
       "      <td>NaN</td>\n",
       "      <td>25487201</td>\n",
       "      <td>𝕭𝖎𝖊𝖓𝖛𝖊𝖓𝖚𝖊 𝖆𝖚 𝕮𝖑𝖚𝖇 𝕺𝖗𝖎𝖌𝖎𝖓𝖆𝖑𝖘.</td>\n",
       "      <td>0.0</td>\n",
       "      <td>16680.0</td>\n",
       "      <td>393006.0</td>\n",
       "    </tr>\n",
       "    <tr>\n",
       "      <th>2</th>\n",
       "      <td>Lacoste</td>\n",
       "      <td>Lacoste</td>\n",
       "      <td>sport</td>\n",
       "      <td>NaN</td>\n",
       "      <td>18481641</td>\n",
       "      <td>Moving with the world for 90 years. 🐊 #Lacoste...</td>\n",
       "      <td>0.0</td>\n",
       "      <td>9852.0</td>\n",
       "      <td>1074248.0</td>\n",
       "    </tr>\n",
       "    <tr>\n",
       "      <th>3</th>\n",
       "      <td>Converse</td>\n",
       "      <td>Converse</td>\n",
       "      <td>sport</td>\n",
       "      <td>NaN</td>\n",
       "      <td>183398746</td>\n",
       "      <td>Get inspired by the next generation of artists...</td>\n",
       "      <td>0.0</td>\n",
       "      <td>9937.0</td>\n",
       "      <td>1035205.0</td>\n",
       "    </tr>\n",
       "    <tr>\n",
       "      <th>4</th>\n",
       "      <td>Moncler</td>\n",
       "      <td>Moncler</td>\n",
       "      <td>sport</td>\n",
       "      <td>NaN</td>\n",
       "      <td>187897893</td>\n",
       "      <td>Born in the mountains, lives in the city. The ...</td>\n",
       "      <td>0.0</td>\n",
       "      <td>4381.0</td>\n",
       "      <td>1108498.0</td>\n",
       "    </tr>\n",
       "    <tr>\n",
       "      <th>...</th>\n",
       "      <td>...</td>\n",
       "      <td>...</td>\n",
       "      <td>...</td>\n",
       "      <td>...</td>\n",
       "      <td>...</td>\n",
       "      <td>...</td>\n",
       "      <td>...</td>\n",
       "      <td>...</td>\n",
       "      <td>...</td>\n",
       "    </tr>\n",
       "    <tr>\n",
       "      <th>235</th>\n",
       "      <td>Cdiscount</td>\n",
       "      <td>Cdiscount</td>\n",
       "      <td>commerce</td>\n",
       "      <td>NaN</td>\n",
       "      <td>63142684</td>\n",
       "      <td>Vous faites le choix du e-commerce français  🇫🇷</td>\n",
       "      <td>0.0</td>\n",
       "      <td>138131.0</td>\n",
       "      <td>616438.0</td>\n",
       "    </tr>\n",
       "    <tr>\n",
       "      <th>236</th>\n",
       "      <td>FNAC</td>\n",
       "      <td>Fnac</td>\n",
       "      <td>commerce</td>\n",
       "      <td>NaN</td>\n",
       "      <td>8806412</td>\n",
       "      <td>Compte officiel de la #Fnac : Actu High Tech /...</td>\n",
       "      <td>0.0</td>\n",
       "      <td>220101.0</td>\n",
       "      <td>501158.0</td>\n",
       "    </tr>\n",
       "    <tr>\n",
       "      <th>237</th>\n",
       "      <td>Rue du Commerce</td>\n",
       "      <td>rueducommerce</td>\n",
       "      <td>commerce</td>\n",
       "      <td>NaN</td>\n",
       "      <td>16933084</td>\n",
       "      <td>Retrouvez chaque jour des promos #hightech exc...</td>\n",
       "      <td>0.0</td>\n",
       "      <td>84158.0</td>\n",
       "      <td>206990.0</td>\n",
       "    </tr>\n",
       "    <tr>\n",
       "      <th>238</th>\n",
       "      <td>Vinted</td>\n",
       "      <td>vinted</td>\n",
       "      <td>commerce</td>\n",
       "      <td>NaN</td>\n",
       "      <td>2228641753</td>\n",
       "      <td>Second-hand marketplace. Give your clothes a s...</td>\n",
       "      <td>0.0</td>\n",
       "      <td>5402.0</td>\n",
       "      <td>23290.0</td>\n",
       "    </tr>\n",
       "    <tr>\n",
       "      <th>239</th>\n",
       "      <td>Amazon</td>\n",
       "      <td>AmazonFrance</td>\n",
       "      <td>commerce</td>\n",
       "      <td>NaN</td>\n",
       "      <td>3823963875</td>\n",
       "      <td>Official Twitter of http://Amazon.fr  Contact ...</td>\n",
       "      <td>0.0</td>\n",
       "      <td>80.0</td>\n",
       "      <td>5507.0</td>\n",
       "    </tr>\n",
       "  </tbody>\n",
       "</table>\n",
       "<p>235 rows × 9 columns</p>\n",
       "</div>"
      ],
      "text/plain": [
       "              marque   twitter_name      type Unnamed: 3   marker_id  \\\n",
       "0               Nike           Nike     sport        NaN   415859364   \n",
       "1             Adidas       adidasFR     sport        NaN    25487201   \n",
       "2            Lacoste        Lacoste     sport        NaN    18481641   \n",
       "3           Converse       Converse     sport        NaN   183398746   \n",
       "4            Moncler        Moncler     sport        NaN   187897893   \n",
       "..               ...            ...       ...        ...         ...   \n",
       "235        Cdiscount      Cdiscount  commerce        NaN    63142684   \n",
       "236             FNAC           Fnac  commerce        NaN     8806412   \n",
       "237  Rue du Commerce  rueducommerce  commerce        NaN    16933084   \n",
       "238           Vinted         vinted  commerce        NaN  2228641753   \n",
       "239           Amazon   AmazonFrance  commerce        NaN  3823963875   \n",
       "\n",
       "                                           description  verified    tweets  \\\n",
       "0                 #BlackLivesMatter and #StopAsianHate       0.0   38240.0   \n",
       "1                         𝕭𝖎𝖊𝖓𝖛𝖊𝖓𝖚𝖊 𝖆𝖚 𝕮𝖑𝖚𝖇 𝕺𝖗𝖎𝖌𝖎𝖓𝖆𝖑𝖘.       0.0   16680.0   \n",
       "2    Moving with the world for 90 years. 🐊 #Lacoste...       0.0    9852.0   \n",
       "3    Get inspired by the next generation of artists...       0.0    9937.0   \n",
       "4    Born in the mountains, lives in the city. The ...       0.0    4381.0   \n",
       "..                                                 ...       ...       ...   \n",
       "235    Vous faites le choix du e-commerce français  🇫🇷       0.0  138131.0   \n",
       "236  Compte officiel de la #Fnac : Actu High Tech /...       0.0  220101.0   \n",
       "237  Retrouvez chaque jour des promos #hightech exc...       0.0   84158.0   \n",
       "238  Second-hand marketplace. Give your clothes a s...       0.0    5402.0   \n",
       "239  Official Twitter of http://Amazon.fr  Contact ...       0.0      80.0   \n",
       "\n",
       "     followers  \n",
       "0    9788339.0  \n",
       "1     393006.0  \n",
       "2    1074248.0  \n",
       "3    1035205.0  \n",
       "4    1108498.0  \n",
       "..         ...  \n",
       "235   616438.0  \n",
       "236   501158.0  \n",
       "237   206990.0  \n",
       "238    23290.0  \n",
       "239     5507.0  \n",
       "\n",
       "[235 rows x 9 columns]"
      ]
     },
     "execution_count": 10,
     "metadata": {},
     "output_type": "execute_result"
    }
   ],
   "source": [
    "#streamline cat_id and edge list. Only include ids in cat id that exist in edge list\n",
    "streamline_IDs(edgelist, cat_id, 'marker_id')"
   ]
  },
  {
   "cell_type": "code",
   "execution_count": 11,
   "metadata": {},
   "outputs": [
    {
     "data": {
      "text/html": [
       "<div>\n",
       "<style scoped>\n",
       "    .dataframe tbody tr th:only-of-type {\n",
       "        vertical-align: middle;\n",
       "    }\n",
       "\n",
       "    .dataframe tbody tr th {\n",
       "        vertical-align: top;\n",
       "    }\n",
       "\n",
       "    .dataframe thead th {\n",
       "        text-align: right;\n",
       "    }\n",
       "</style>\n",
       "<table border=\"1\" class=\"dataframe\">\n",
       "  <thead>\n",
       "    <tr style=\"text-align: right;\">\n",
       "      <th></th>\n",
       "      <th>marker_id</th>\n",
       "      <th>follower_id</th>\n",
       "      <th>twitter_name</th>\n",
       "    </tr>\n",
       "  </thead>\n",
       "  <tbody>\n",
       "    <tr>\n",
       "      <th>0</th>\n",
       "      <td>415859364</td>\n",
       "      <td>1301293067945807877</td>\n",
       "      <td>Nike</td>\n",
       "    </tr>\n",
       "    <tr>\n",
       "      <th>1</th>\n",
       "      <td>415859364</td>\n",
       "      <td>1233001848006729729</td>\n",
       "      <td>Nike</td>\n",
       "    </tr>\n",
       "    <tr>\n",
       "      <th>2</th>\n",
       "      <td>415859364</td>\n",
       "      <td>2768568386</td>\n",
       "      <td>Nike</td>\n",
       "    </tr>\n",
       "    <tr>\n",
       "      <th>3</th>\n",
       "      <td>415859364</td>\n",
       "      <td>1152271993225433089</td>\n",
       "      <td>Nike</td>\n",
       "    </tr>\n",
       "    <tr>\n",
       "      <th>4</th>\n",
       "      <td>415859364</td>\n",
       "      <td>947287974882021377</td>\n",
       "      <td>Nike</td>\n",
       "    </tr>\n",
       "  </tbody>\n",
       "</table>\n",
       "</div>"
      ],
      "text/plain": [
       "   marker_id          follower_id twitter_name\n",
       "0  415859364  1301293067945807877         Nike\n",
       "1  415859364  1233001848006729729         Nike\n",
       "2  415859364           2768568386         Nike\n",
       "3  415859364  1152271993225433089         Nike\n",
       "4  415859364   947287974882021377         Nike"
      ]
     },
     "execution_count": 11,
     "metadata": {},
     "output_type": "execute_result"
    }
   ],
   "source": [
    "#Get the twitter_name column from cat_id into the edge list by merging on marker_id\n",
    "\n",
    "edgelist = edgelist.merge(cat_id[['marker_id', 'twitter_name']], on='marker_id', how='left')\n",
    "\n",
    "edgelist.head()"
   ]
  },
  {
   "cell_type": "code",
   "execution_count": 12,
   "metadata": {},
   "outputs": [
    {
     "name": "stdout",
     "output_type": "stream",
     "text": [
      "Shape of DataFrame:  (9614122, 3)\n",
      "\n",
      "Columns in DataFrame:  ['marker_id', 'follower_id', 'twitter_name']\n",
      "\n",
      "Data types of columns:\n",
      " marker_id       object\n",
      "follower_id     object\n",
      "twitter_name    object\n",
      "dtype: object\n",
      "\n",
      "Number of unique values in 'follower_id':  1192532\n",
      "Number of duplicate values in 'follower_id':  8421590\n",
      "\n",
      "Number of unique values in 'marker_id':  235\n",
      "Number of duplicate values in 'marker_id':  9613887\n",
      "\n",
      "Number of missing values in each column:\n",
      "'marker_id':  0\n",
      "'follower_id':  0\n",
      "'twitter_name':  0\n",
      "\n",
      "Number of duplicate rows:  0\n"
     ]
    }
   ],
   "source": [
    "summary_stats(edgelist)"
   ]
  },
  {
   "cell_type": "markdown",
   "metadata": {},
   "source": [
    "Informative subset (Optional)"
   ]
  },
  {
   "cell_type": "markdown",
   "metadata": {},
   "source": [
    "#It might be a good idea to use the most informative subset of my data, like in the original study (He and Tsvetkova.) They selected users who follow at least one brand across all their brand domains. I have more domains thn them (12 vs. 6). The chance that people follow all 12 is small. If I am to filter my data like they do, it maybe makes more sense to look at people who follow at least half of the brands. "
   ]
  },
  {
   "cell_type": "code",
   "execution_count": 9,
   "metadata": {},
   "outputs": [
    {
     "name": "stdout",
     "output_type": "stream",
     "text": [
      "        marque  twitter_name   type Unnamed: 3   marker_id description  \\\n",
      "18  Napapijiri  Napapijiri97  sport        NaN  1059975643         NaN   \n",
      "\n",
      "    verified  tweets  followers  \n",
      "18       0.0     8.0        1.0  \n"
     ]
    }
   ],
   "source": [
    "#inspect the marker_bios data for marker_ID 1059975643\n",
    "row = cat_id.loc[cat_id['marker_id'] == '1059975643']\n",
    "\n",
    "# Print the row\n",
    "print(row)"
   ]
  },
  {
   "cell_type": "markdown",
   "metadata": {},
   "source": [
    "Make dge list into a graph.\n",
    "An edge list is a simple, tabular representation of a graph, while a graph is amore complex data structure that allows for more advance operations, such s finding paths and calculating graph metrics."
   ]
  },
  {
   "cell_type": "code",
   "execution_count": 17,
   "metadata": {},
   "outputs": [
    {
     "data": {
      "text/plain": [
       "Index(['marker_id', 'follower_id', 'twitter_name'], dtype='object')"
      ]
     },
     "execution_count": 17,
     "metadata": {},
     "output_type": "execute_result"
    }
   ],
   "source": [
    "edgelist.columns"
   ]
  },
  {
   "cell_type": "markdown",
   "metadata": {},
   "source": [
    "### Graph metrics"
   ]
  },
  {
   "cell_type": "code",
   "execution_count": 18,
   "metadata": {},
   "outputs": [],
   "source": [
    "\n",
    "# Create a new bipartite graph\n",
    "B = nx.DiGraph() #directed graph\n",
    "\n",
    "# Add nodes with the node attribute \"bipartite\"\n",
    "B.add_nodes_from(edgelist['follower_id'].unique(), bipartite=0) #adding a node for each unique follower. Set 1 in the bipartite graph\n",
    "B.add_nodes_from(edgelist['twitter_name'].unique(), bipartite=1) #adding a node for each unique marker. Set 2 in the bipartite graph\n",
    " \n",
    "# Add edges\n",
    "B.add_edges_from(list(zip(edgelist['follower_id'], edgelist['twitter_name'])))  #edges are directed from the first to the second element. So direction is; follower --> Marker"
   ]
  },
  {
   "cell_type": "code",
   "execution_count": 19,
   "metadata": {},
   "outputs": [
    {
     "data": {
      "image/png": "[encoded data removed]",
      "text/plain": [
       "<Figure size 1000x400 with 1 Axes>"
      ]
     },
     "metadata": {},
     "output_type": "display_data"
    },
    {
     "data": {
      "image/png": "[encoded data removed]",
      "text/plain": [
       "<Figure size 1000x400 with 1 Axes>"
      ]
     },
     "metadata": {},
     "output_type": "display_data"
    }
   ],
   "source": [
    "# Analyse and visualise degree distribution (number of edges connected to each node)\n",
    "\n",
    "# Separate the nodes by type\n",
    "follower_nodes = {n for n, d in B.nodes(data=True) if d['bipartite']==0}\n",
    "marker_nodes = set(B) - follower_nodes\n",
    "\n",
    "# Calculate the out-degree of each follower node and in-degree of each marker node\n",
    "follower_out_degrees = [B.out_degree(n) for n in follower_nodes]\n",
    "marker_in_degrees = [B.in_degree(n) for n in marker_nodes]\n",
    "\n",
    "# Plot the out-degree distribution of follower nodes\n",
    "bins = range(4, 35)\n",
    "\n",
    "plt.figure(figsize=(10, 4))\n",
    "plt.hist(follower_out_degrees, bins = bins, alpha=0.5, color='blue')\n",
    "plt.title('Follower Out-Degrees')\n",
    "plt.xlim(4, 35)\n",
    "plt.show()\n",
    "\n",
    "# Plot the in-degree distribution of marker nodes\n",
    "plt.figure(figsize=(10, 4))\n",
    "plt.hist(marker_in_degrees, bins = 100, alpha=0.5, color='green')\n",
    "plt.title('Marker In-Degrees')\n",
    "plt.xlim(0, 570000)\n",
    "plt.show()"
   ]
  },
  {
   "cell_type": "markdown",
   "metadata": {},
   "source": [
    "- As we can see based on the marker in-degrees plot, a select few brans have a lot of connections compared to teh rest of the markers\n",
    "- From the follower Out-degree plot, it is evident that most users don't follow more than 10 brands. Following more than 15 brands is even less normal. "
   ]
  },
  {
   "cell_type": "code",
   "execution_count": 20,
   "metadata": {},
   "outputs": [
    {
     "name": "stdout",
     "output_type": "stream",
     "text": [
      "Number of connected components: 1\n",
      "Size of largest connected component: 1192767\n"
     ]
    }
   ],
   "source": [
    "# Calculate weakly connected components\n",
    "connected_components = list(nx.weakly_connected_components(B))\n",
    "\n",
    "# Print the number of connected components\n",
    "print(\"Number of connected components:\", len(connected_components))\n",
    "\n",
    "# Print the size of the largest connected component\n",
    "print(\"Size of largest connected component:\", max(len(c) for c in connected_components))"
   ]
  },
  {
   "cell_type": "markdown",
   "metadata": {},
   "source": [
    "A weakly connected component is a subgraph of the original graph where all vertices are connected to each other by some path, ignoring the direction of edges. Given our number of connected components is 1, we can conclude that our graph is fully connected. "
   ]
  },
  {
   "cell_type": "code",
   "execution_count": 21,
   "metadata": {},
   "outputs": [
    {
     "name": "stdout",
     "output_type": "stream",
     "text": [
      "Top nodes by in-degree centrality: [('Dior', 0.45296311263064176), ('LouisVuitton', 0.45275938448949754), ('CHANEL', 0.41497242543801555), ('YSL', 0.34924369071553013), ('Nike', 0.28177781727514034)]\n"
     ]
    }
   ],
   "source": [
    "# Calculate in-degree centrality for all nodes in the graph\n",
    "in_degree_centrality = nx.in_degree_centrality(B)\n",
    "\n",
    "# Top 5 nodes by in-degree centrality\n",
    "top_in_degree_nodes = sorted(in_degree_centrality.items(), key=lambda x: x[1], reverse=True)[:5]\n",
    "\n",
    "print(\"Top nodes by in-degree centrality:\", top_in_degree_nodes)\n",
    "\n"
   ]
  },
  {
   "cell_type": "code",
   "execution_count": 74,
   "metadata": {},
   "outputs": [
    {
     "name": "stdout",
     "output_type": "stream",
     "text": [
      "Top nodes by out-degree centrality: [('35704105', 0.6340425531914894), ('107042704', 0.4595744680851064), ('1430557124132839431', 0.4425531914893617), ('525429842', 0.4127659574468085), ('819576166055104516', 0.40425531914893614)]\n"
     ]
    }
   ],
   "source": [
    "# Number of brands\n",
    "num_brands = len(edgelist['twitter_name'].unique())\n",
    "\n",
    "# Calculate out-degree for each follower and divide by the number of brands\n",
    "out_degree_centrality = {follower: out_degree / num_brands for follower, out_degree in B.out_degree() if B.nodes[follower]['bipartite'] == 0}\n",
    "\n",
    "# Top 5 nodes by out-degree centrality\n",
    "top_out_degree_nodes = sorted(out_degree_centrality.items(), key=lambda x: x[1], reverse=True)[:5]\n",
    "\n",
    "print(\"Top nodes by out-degree centrality:\", top_out_degree_nodes)"
   ]
  },
  {
   "cell_type": "code",
   "execution_count": null,
   "metadata": {},
   "outputs": [],
   "source": [
    "#Some users follow a lot of brands. Maybe a bit unlikely?\n",
    "top_followers = edgelist.groupby('follower_id').size().sort_values(ascending=False).head(5)\n",
    "print(top_followers)"
   ]
  },
  {
   "cell_type": "code",
   "execution_count": 75,
   "metadata": {},
   "outputs": [
    {
     "name": "stdout",
     "output_type": "stream",
     "text": [
      "Shape of DataFrame:  (9730265, 3)\n",
      "\n",
      "Columns in DataFrame:  ['marker_id', 'follower_id', 'twitter_name']\n",
      "\n",
      "Data types of columns:\n",
      " marker_id       object\n",
      "follower_id     object\n",
      "twitter_name    object\n",
      "dtype: object\n",
      "\n",
      "Number of unique values in 'follower_id':  1192532\n",
      "\n",
      "Number of duplicate values in 'follower_id':  8537733\n",
      "\n",
      "Number of unique values in 'marker_id':  235\n",
      "\n",
      "Number of duplicate values in 'marker_id':  9730030\n",
      "\n",
      "Number of missing values in each column:\n",
      " marker_id       0\n",
      "follower_id     0\n",
      "twitter_name    0\n",
      "dtype: int64\n"
     ]
    }
   ],
   "source": [
    "summary_stats(edgelist, print_dtypes=True)"
   ]
  },
  {
   "cell_type": "code",
   "execution_count": 22,
   "metadata": {},
   "outputs": [],
   "source": [
    "#Save edgelist to csv \n",
    "edgelist.to_csv('/home/livtollanes/NewData/edgelist.csv', index=False, encoding='utf-8')"
   ]
  },
  {
   "cell_type": "markdown",
   "metadata": {},
   "source": [
    "## The CA"
   ]
  },
  {
   "cell_type": "markdown",
   "metadata": {},
   "source": [
    "- Create contingency table (rows are users, columns are brands)\n",
    "- each cell represents the frequency of interaction between user and brand\n"
   ]
  },
  {
   "cell_type": "code",
   "execution_count": 82,
   "metadata": {},
   "outputs": [],
   "source": [
    "# load data\n",
    "path = '/home/livtollanes/NewData/edgelist.csv'\n",
    "\n",
    "req_cols = ['marker_id', 'follower_id', 'twitter_name']\n",
    "dtypes = {'marker_id': 'object',\n",
    "          'follower_id': 'object',\n",
    "          'twitter_name': 'object'}\n",
    "\n",
    "\n",
    "edgelist_CA = pd.read_csv(path, usecols=req_cols, dtype=dtypes)"
   ]
  },
  {
   "cell_type": "code",
   "execution_count": 84,
   "metadata": {},
   "outputs": [
    {
     "name": "stdout",
     "output_type": "stream",
     "text": [
      "Shape of DataFrame:  (9730265, 3)\n",
      "\n",
      "Columns in DataFrame:  ['marker_id', 'follower_id', 'twitter_name']\n",
      "\n",
      "Data types of columns:\n",
      " marker_id       object\n",
      "follower_id     object\n",
      "twitter_name    object\n",
      "dtype: object\n",
      "\n",
      "Number of unique values in 'follower_id':  1192532\n",
      "\n",
      "Number of duplicate values in 'follower_id':  8537733\n",
      "\n",
      "Number of unique values in 'marker_id':  235\n",
      "\n",
      "Number of duplicate values in 'marker_id':  9730030\n",
      "\n",
      "Number of missing values in each column:\n",
      " marker_id       0\n",
      "follower_id     0\n",
      "twitter_name    0\n",
      "dtype: int64\n"
     ]
    }
   ],
   "source": [
    "summary_stats(edgelist_CA)"
   ]
  },
  {
   "cell_type": "code",
   "execution_count": 91,
   "metadata": {},
   "outputs": [
    {
     "name": "stdout",
     "output_type": "stream",
     "text": [
      "        marker_id          follower_id     twitter_name\n",
      "6209987  25053299  1000004748681072640  FortuneMagazine\n",
      "6452529  25053299  1000004748681072640  FortuneMagazine\n",
      "6232580  25053299            100001557  FortuneMagazine\n",
      "6475123  25053299            100001557  FortuneMagazine\n",
      "6247659  25053299           1000030934  FortuneMagazine\n",
      "...           ...                  ...              ...\n",
      "6440430  25053299   999951622527770624  FortuneMagazine\n",
      "6265754  25053299            999954668  FortuneMagazine\n",
      "6508293  25053299            999954668  FortuneMagazine\n",
      "6194801  25053299   999982985830174720  FortuneMagazine\n",
      "6437344  25053299   999982985830174720  FortuneMagazine\n",
      "\n",
      "[232286 rows x 3 columns]\n"
     ]
    }
   ],
   "source": [
    "duplicates = edgelist_CA[edgelist_CA.duplicated(keep=False)]\n",
    "duplicates = duplicates.sort_values(by=list(edgelist_CA.columns))\n",
    "print(duplicates)"
   ]
  },
  {
   "cell_type": "code",
   "execution_count": null,
   "metadata": {},
   "outputs": [],
   "source": []
  }
 ],
 "metadata": {
  "kernelspec": {
   "display_name": "10.1thesis",
   "language": "python",
   "name": "10.1thesis"
  },
  "language_info": {
   "codemirror_mode": {
    "name": "ipython",
    "version": 3
   },
   "file_extension": ".py",
   "mimetype": "text/x-python",
   "name": "python",
   "nbconvert_exporter": "python",
   "pygments_lexer": "ipython3",
   "version": "3.11.7"
  }
 },
 "nbformat": 4,
 "nbformat_minor": 2
}
