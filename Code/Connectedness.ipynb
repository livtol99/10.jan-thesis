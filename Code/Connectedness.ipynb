{
 "cells": [
  {
   "cell_type": "code",
   "execution_count": 5,
   "metadata": {},
   "outputs": [],
   "source": [
    "import networkx as nx\n",
    "import pandas as pd\n",
    "import matplotlib.pyplot as plt"
   ]
  },
  {
   "cell_type": "markdown",
   "metadata": {},
   "source": [
    "## Graph Overview - CA Prep"
   ]
  },
  {
   "cell_type": "markdown",
   "metadata": {},
   "source": [
    "- In this notebook, I will perform various check in order to make sure my data is ready for CA implementation\n",
    "\n",
    "- This includes:\n",
    "    - Data distribution checks\n",
    "    - Node and edge analysis; various graph metrics and visualisations. Are there any clusters etc?\n",
    "    - Assumptions of CA?\n",
    "    - Connectedness of my graph"
   ]
  },
  {
   "cell_type": "markdown",
   "metadata": {},
   "source": [
    "I'm starting with an edge list. Each row represents an edge (a follower-brand relationship) in the graph. From the edge list, I should create a directed graph. "
   ]
  },
  {
   "cell_type": "code",
   "execution_count": 3,
   "metadata": {},
   "outputs": [],
   "source": [
    "#Load the edge list\n",
    "#Load marker followers\n",
    "full_path1 = '/home/livtollanes/NewData/markers_followers_cleaned_nolang.csv'\n",
    "req_cols = ['marker_id', 'follower_id']\n",
    "dtypes = {'marker_id': 'object',\n",
    "          'follower_id': 'object'}\n",
    "\n",
    "edgelist = pd.read_csv(full_path1, encoding='utf-8', dtype=dtypes, usecols=req_cols)"
   ]
  },
  {
   "cell_type": "markdown",
   "metadata": {},
   "source": [
    "#It might be a good idea to use the most informative subset of my data, like in the original study (He and Tsvetkova.) They selected users who follow at least one brand across all their brand domains. I'll do the same."
   ]
  },
  {
   "cell_type": "code",
   "execution_count": 9,
   "metadata": {},
   "outputs": [
    {
     "name": "stdout",
     "output_type": "stream",
     "text": [
      "     marque twitter_name   type Unnamed: 3\n",
      "0      Nike         Nike  sport        NaN\n",
      "1    Adidas     adidasFR  sport        NaN\n",
      "2   Lacoste      Lacoste  sport        NaN\n",
      "3  Converse     Converse  sport        NaN\n",
      "4   Moncler      Moncler  sport        NaN\n"
     ]
    }
   ],
   "source": [
    "#Load in the excel file\n",
    "# Full path to the Excel file\n",
    "file_path = '/home/livtollanes/SocialMarkers/MarkersFrenchTwitter.xlsx'\n",
    "\n",
    "# Load the Excel file\n",
    "cats = pd.read_excel(file_path)\n",
    "\n",
    "# Display the first 5 rows\n",
    "print(cats.head())"
   ]
  },
  {
   "cell_type": "code",
   "execution_count": 10,
   "metadata": {},
   "outputs": [
    {
     "name": "stdout",
     "output_type": "stream",
     "text": [
      "['sport' 'grande distribution' 'media' 'chain restaurants'\n",
      " 'luxe vetements et malls' 'magazine' 'clubs de football' 'party'\n",
      " 'universities' 'ecoles de commerce' 'Lycées professionels' 'commerce']\n"
     ]
    }
   ],
   "source": [
    "# Print the unique values in the 'type' column\n",
    "print(cats['type'].unique())"
   ]
  },
  {
   "cell_type": "code",
   "execution_count": 14,
   "metadata": {},
   "outputs": [],
   "source": [
    "# Load the followers bios and rename ID columns\n",
    "full_path = '/home/livtollanes/SocialMarkers/markers_bios_2023-05-19.csv'\n",
    "\n",
    "req_cols = ['twitter_name', 'id']\n",
    "\n",
    "dtypes = {\n",
    "    'twitter_name': 'object',\n",
    "    'id': 'object'\n",
    "}\n",
    "\n",
    "marker_ids = pd.read_csv(full_path, usecols=req_cols, dtype=dtypes)\n",
    "\n",
    "\n",
    "#rename the twittwer id column to follower id \n",
    "marker_ids.rename(columns={'id':'marker_id'}, inplace=True)\n",
    "\n",
    "\n",
    "#map marker_ids onto cats from marker:ids\n",
    "cat_id = cats.merge(marker_ids, on='twitter_name', how='left')"
   ]
  },
  {
   "cell_type": "code",
   "execution_count": 22,
   "metadata": {},
   "outputs": [
    {
     "data": {
      "text/html": [
       "<div>\n",
       "<style scoped>\n",
       "    .dataframe tbody tr th:only-of-type {\n",
       "        vertical-align: middle;\n",
       "    }\n",
       "\n",
       "    .dataframe tbody tr th {\n",
       "        vertical-align: top;\n",
       "    }\n",
       "\n",
       "    .dataframe thead th {\n",
       "        text-align: right;\n",
       "    }\n",
       "</style>\n",
       "<table border=\"1\" class=\"dataframe\">\n",
       "  <thead>\n",
       "    <tr style=\"text-align: right;\">\n",
       "      <th></th>\n",
       "      <th>marque</th>\n",
       "      <th>twitter_name</th>\n",
       "      <th>type</th>\n",
       "      <th>Unnamed: 3</th>\n",
       "      <th>marker_id</th>\n",
       "    </tr>\n",
       "  </thead>\n",
       "  <tbody>\n",
       "    <tr>\n",
       "      <th>0</th>\n",
       "      <td>Nike</td>\n",
       "      <td>Nike</td>\n",
       "      <td>sport</td>\n",
       "      <td>NaN</td>\n",
       "      <td>415859364</td>\n",
       "    </tr>\n",
       "    <tr>\n",
       "      <th>1</th>\n",
       "      <td>Adidas</td>\n",
       "      <td>adidasFR</td>\n",
       "      <td>sport</td>\n",
       "      <td>NaN</td>\n",
       "      <td>25487201</td>\n",
       "    </tr>\n",
       "    <tr>\n",
       "      <th>2</th>\n",
       "      <td>Lacoste</td>\n",
       "      <td>Lacoste</td>\n",
       "      <td>sport</td>\n",
       "      <td>NaN</td>\n",
       "      <td>18481641</td>\n",
       "    </tr>\n",
       "    <tr>\n",
       "      <th>3</th>\n",
       "      <td>Converse</td>\n",
       "      <td>Converse</td>\n",
       "      <td>sport</td>\n",
       "      <td>NaN</td>\n",
       "      <td>183398746</td>\n",
       "    </tr>\n",
       "    <tr>\n",
       "      <th>4</th>\n",
       "      <td>Moncler</td>\n",
       "      <td>Moncler</td>\n",
       "      <td>sport</td>\n",
       "      <td>NaN</td>\n",
       "      <td>187897893</td>\n",
       "    </tr>\n",
       "  </tbody>\n",
       "</table>\n",
       "</div>"
      ],
      "text/plain": [
       "     marque twitter_name   type Unnamed: 3  marker_id\n",
       "0      Nike         Nike  sport        NaN  415859364\n",
       "1    Adidas     adidasFR  sport        NaN   25487201\n",
       "2   Lacoste      Lacoste  sport        NaN   18481641\n",
       "3  Converse     Converse  sport        NaN  183398746\n",
       "4   Moncler      Moncler  sport        NaN  187897893"
      ]
     },
     "execution_count": 22,
     "metadata": {},
     "output_type": "execute_result"
    }
   ],
   "source": [
    "cat_id.head()"
   ]
  },
  {
   "cell_type": "code",
   "execution_count": 24,
   "metadata": {},
   "outputs": [],
   "source": [
    "#Make an inofrmative edgelist\n",
    "\n",
    "# Merge edgelist with cats on 'marker_id'\n",
    "merged = edgelist.merge(cat_id, on='marker_id')"
   ]
  },
  {
   "cell_type": "code",
   "execution_count": 25,
   "metadata": {},
   "outputs": [
    {
     "data": {
      "text/html": [
       "<div>\n",
       "<style scoped>\n",
       "    .dataframe tbody tr th:only-of-type {\n",
       "        vertical-align: middle;\n",
       "    }\n",
       "\n",
       "    .dataframe tbody tr th {\n",
       "        vertical-align: top;\n",
       "    }\n",
       "\n",
       "    .dataframe thead th {\n",
       "        text-align: right;\n",
       "    }\n",
       "</style>\n",
       "<table border=\"1\" class=\"dataframe\">\n",
       "  <thead>\n",
       "    <tr style=\"text-align: right;\">\n",
       "      <th></th>\n",
       "      <th>marker_id</th>\n",
       "      <th>follower_id</th>\n",
       "      <th>marque</th>\n",
       "      <th>twitter_name</th>\n",
       "      <th>type</th>\n",
       "      <th>Unnamed: 3</th>\n",
       "    </tr>\n",
       "  </thead>\n",
       "  <tbody>\n",
       "    <tr>\n",
       "      <th>0</th>\n",
       "      <td>415859364</td>\n",
       "      <td>1301293067945807877</td>\n",
       "      <td>Nike</td>\n",
       "      <td>Nike</td>\n",
       "      <td>sport</td>\n",
       "      <td>NaN</td>\n",
       "    </tr>\n",
       "    <tr>\n",
       "      <th>1</th>\n",
       "      <td>415859364</td>\n",
       "      <td>1233001848006729729</td>\n",
       "      <td>Nike</td>\n",
       "      <td>Nike</td>\n",
       "      <td>sport</td>\n",
       "      <td>NaN</td>\n",
       "    </tr>\n",
       "    <tr>\n",
       "      <th>2</th>\n",
       "      <td>415859364</td>\n",
       "      <td>2768568386</td>\n",
       "      <td>Nike</td>\n",
       "      <td>Nike</td>\n",
       "      <td>sport</td>\n",
       "      <td>NaN</td>\n",
       "    </tr>\n",
       "    <tr>\n",
       "      <th>3</th>\n",
       "      <td>415859364</td>\n",
       "      <td>1152271993225433089</td>\n",
       "      <td>Nike</td>\n",
       "      <td>Nike</td>\n",
       "      <td>sport</td>\n",
       "      <td>NaN</td>\n",
       "    </tr>\n",
       "    <tr>\n",
       "      <th>4</th>\n",
       "      <td>415859364</td>\n",
       "      <td>947287974882021377</td>\n",
       "      <td>Nike</td>\n",
       "      <td>Nike</td>\n",
       "      <td>sport</td>\n",
       "      <td>NaN</td>\n",
       "    </tr>\n",
       "  </tbody>\n",
       "</table>\n",
       "</div>"
      ],
      "text/plain": [
       "   marker_id          follower_id marque twitter_name   type Unnamed: 3\n",
       "0  415859364  1301293067945807877   Nike         Nike  sport        NaN\n",
       "1  415859364  1233001848006729729   Nike         Nike  sport        NaN\n",
       "2  415859364           2768568386   Nike         Nike  sport        NaN\n",
       "3  415859364  1152271993225433089   Nike         Nike  sport        NaN\n",
       "4  415859364   947287974882021377   Nike         Nike  sport        NaN"
      ]
     },
     "execution_count": 25,
     "metadata": {},
     "output_type": "execute_result"
    }
   ],
   "source": [
    "merged.head()   "
   ]
  },
  {
   "cell_type": "code",
   "execution_count": 41,
   "metadata": {},
   "outputs": [],
   "source": [
    "\n",
    "# Count the number of unique 'marque's for each 'follower_id' and 'type'\n",
    "\n",
    "# Get the total number of unique types\n",
    "total_unique_types = merged['type'].nunique()\n",
    "\n",
    "# Group by 'follower_id' and count the number of unique 'type's for each 'follower_id'\n",
    "unique_types_per_user = merged.groupby('follower_id')['type'].nunique()\n",
    "\n",
    "# Find 'follower_id's that follow at least 6 unique types\n",
    "final_follower_ids = unique_types_per_user[unique_types_per_user >= 5]\n",
    "\n",
    "# Filter edgelist to keep only the 'follower_id's that follow at least 6 unique types\n",
    "final_edgelist = edgelist[edgelist['follower_id'].isin(final_follower_ids.index)]"
   ]
  },
  {
   "cell_type": "code",
   "execution_count": 43,
   "metadata": {},
   "outputs": [
    {
     "data": {
      "text/plain": [
       "235"
      ]
     },
     "execution_count": 43,
     "metadata": {},
     "output_type": "execute_result"
    }
   ],
   "source": [
    "#number of unique follower_id in final edgelist - users that follow at least 5 unique types\n",
    "final_edgelist['follower_id'].nunique() #135 743 users\n",
    "final_edgelist['marker_id'].nunique() # 235 markers represented"
   ]
  },
  {
   "cell_type": "code",
   "execution_count": 46,
   "metadata": {},
   "outputs": [
    {
     "data": {
      "text/html": [
       "<div>\n",
       "<style scoped>\n",
       "    .dataframe tbody tr th:only-of-type {\n",
       "        vertical-align: middle;\n",
       "    }\n",
       "\n",
       "    .dataframe tbody tr th {\n",
       "        vertical-align: top;\n",
       "    }\n",
       "\n",
       "    .dataframe thead th {\n",
       "        text-align: right;\n",
       "    }\n",
       "</style>\n",
       "<table border=\"1\" class=\"dataframe\">\n",
       "  <thead>\n",
       "    <tr style=\"text-align: right;\">\n",
       "      <th></th>\n",
       "      <th>marker_id</th>\n",
       "      <th>follower_id</th>\n",
       "    </tr>\n",
       "  </thead>\n",
       "  <tbody>\n",
       "    <tr>\n",
       "      <th>5</th>\n",
       "      <td>415859364</td>\n",
       "      <td>1647558995886964739</td>\n",
       "    </tr>\n",
       "    <tr>\n",
       "      <th>9</th>\n",
       "      <td>415859364</td>\n",
       "      <td>114730871</td>\n",
       "    </tr>\n",
       "    <tr>\n",
       "      <th>11</th>\n",
       "      <td>415859364</td>\n",
       "      <td>4895854473</td>\n",
       "    </tr>\n",
       "    <tr>\n",
       "      <th>14</th>\n",
       "      <td>415859364</td>\n",
       "      <td>1306623527190237185</td>\n",
       "    </tr>\n",
       "    <tr>\n",
       "      <th>20</th>\n",
       "      <td>415859364</td>\n",
       "      <td>1382284704</td>\n",
       "    </tr>\n",
       "  </tbody>\n",
       "</table>\n",
       "</div>"
      ],
      "text/plain": [
       "    marker_id          follower_id\n",
       "5   415859364  1647558995886964739\n",
       "9   415859364            114730871\n",
       "11  415859364           4895854473\n",
       "14  415859364  1306623527190237185\n",
       "20  415859364           1382284704"
      ]
     },
     "execution_count": 46,
     "metadata": {},
     "output_type": "execute_result"
    }
   ],
   "source": [
    "final_edgelist.head()"
   ]
  },
  {
   "cell_type": "code",
   "execution_count": 28,
   "metadata": {},
   "outputs": [
    {
     "data": {
      "text/plain": [
       "array(['sport', 'grande distribution', 'media', 'chain restaurants',\n",
       "       'luxe vetements et malls', 'magazine', 'clubs de football',\n",
       "       'party', 'universities', 'ecoles de commerce',\n",
       "       'Lycées professionels', 'commerce'], dtype=object)"
      ]
     },
     "execution_count": 28,
     "metadata": {},
     "output_type": "execute_result"
    }
   ],
   "source": [
    "#how many unique types are there in merged?\n",
    "merged['type'].unique()"
   ]
  },
  {
   "cell_type": "markdown",
   "metadata": {},
   "source": [
    "Make dge list into a graph.\n",
    "An edge list is a simple, tabular representation of a graph, while a graph is amore complex data structure that allows for more advance operations, such s finding paths and calculating graph metrics."
   ]
  },
  {
   "cell_type": "markdown",
   "metadata": {},
   "source": [
    "### Graph metrics"
   ]
  },
  {
   "cell_type": "code",
   "execution_count": 47,
   "metadata": {},
   "outputs": [],
   "source": [
    "\n",
    "# Create a new bipartite graph\n",
    "B = nx.Graph()\n",
    "\n",
    "# Add nodes with the node attribute \"bipartite\"\n",
    "B.add_nodes_from(final_edgelist['follower_id'].unique(), bipartite=0)\n",
    "B.add_nodes_from(final_edgelist['marker_id'].unique(), bipartite=1)\n",
    "\n",
    "# Add edges\n",
    "B.add_edges_from(list(zip(final_edgelist['follower_id'], final_edgelist['marker_id'])))"
   ]
  },
  {
   "cell_type": "code",
   "execution_count": 48,
   "metadata": {},
   "outputs": [
    {
     "data": {
      "image/png": "[encoded data removed]",
      "text/plain": [
       "<Figure size 640x480 with 1 Axes>"
      ]
     },
     "metadata": {},
     "output_type": "display_data"
    }
   ],
   "source": [
    "# Separate the nodes by type\n",
    "follower_nodes = {n for n, d in B.nodes(data=True) if d['bipartite']==0}\n",
    "marker_nodes = set(B) - follower_nodes\n",
    "\n",
    "# Calculate the degree of each node\n",
    "follower_degrees = [B.degree(n) for n in follower_nodes]\n",
    "marker_degrees = [B.degree(n) for n in marker_nodes]\n",
    "\n",
    "# Plot the degree distributions\n",
    "plt.hist(follower_degrees, alpha=0.5)\n",
    "plt.hist(marker_degrees, alpha=0.5)\n",
    "plt.show()"
   ]
  },
  {
   "cell_type": "code",
   "execution_count": 49,
   "metadata": {},
   "outputs": [
    {
     "name": "stdout",
     "output_type": "stream",
     "text": [
      "Number of connected components: 1\n",
      "Size of largest connected component: 135958\n"
     ]
    }
   ],
   "source": [
    "# Calculate connected components\n",
    "connected_components = list(nx.connected_components(B))\n",
    "\n",
    "# Print the number of connected components\n",
    "print(\"Number of connected components:\", len(connected_components))\n",
    "\n",
    "# Print the size of the largest connected component\n",
    "print(\"Size of largest connected component:\", max(len(c) for c in connected_components))"
   ]
  },
  {
   "cell_type": "code",
   "execution_count": 50,
   "metadata": {},
   "outputs": [],
   "source": [
    "# Calculate degree centrality for followers and markers\n",
    "follower_degree_centrality = nx.degree_centrality(B.subgraph(follower_nodes))\n",
    "marker_degree_centrality = nx.degree_centrality(B.subgraph(marker_nodes))"
   ]
  },
  {
   "cell_type": "code",
   "execution_count": 53,
   "metadata": {},
   "outputs": [
    {
     "data": {
      "text/plain": [
       "[2182,\n",
       " 1808,\n",
       " 3630,\n",
       " 29491,\n",
       " 26,\n",
       " 25218,\n",
       " 22,\n",
       " 12998,\n",
       " 1605,\n",
       " 712,\n",
       " 3042,\n",
       " 3257,\n",
       " 16,\n",
       " 1376,\n",
       " 191,\n",
       " 5132,\n",
       " 13823,\n",
       " 4895,\n",
       " 190,\n",
       " 13911,\n",
       " 711,\n",
       " 15170,\n",
       " 65716,\n",
       " 255,\n",
       " 2117,\n",
       " 24395,\n",
       " 418,\n",
       " 10327,\n",
       " 1480,\n",
       " 648,\n",
       " 6811,\n",
       " 7522,\n",
       " 271,\n",
       " 122,\n",
       " 15961,\n",
       " 26171,\n",
       " 64,\n",
       " 25354,\n",
       " 11267,\n",
       " 6709,\n",
       " 13091,\n",
       " 2537,\n",
       " 2366,\n",
       " 24,\n",
       " 18833,\n",
       " 12397,\n",
       " 3241,\n",
       " 18074,\n",
       " 14377,\n",
       " 1796,\n",
       " 1825,\n",
       " 593,\n",
       " 12795,\n",
       " 592,\n",
       " 9931,\n",
       " 26,\n",
       " 32779,\n",
       " 1421,\n",
       " 12,\n",
       " 12957,\n",
       " 3240,\n",
       " 1560,\n",
       " 8179,\n",
       " 42089,\n",
       " 21209,\n",
       " 20739,\n",
       " 782,\n",
       " 4242,\n",
       " 33,\n",
       " 6876,\n",
       " 13755,\n",
       " 2127,\n",
       " 5255,\n",
       " 284,\n",
       " 15962,\n",
       " 9402,\n",
       " 44,\n",
       " 1916,\n",
       " 28558,\n",
       " 8685,\n",
       " 9020,\n",
       " 1956,\n",
       " 6225,\n",
       " 22697,\n",
       " 2814,\n",
       " 15622,\n",
       " 5870,\n",
       " 9706,\n",
       " 1366,\n",
       " 7208,\n",
       " 1973,\n",
       " 6458,\n",
       " 16718,\n",
       " 35591,\n",
       " 780,\n",
       " 2058,\n",
       " 103,\n",
       " 34736,\n",
       " 229,\n",
       " 997,\n",
       " 100,\n",
       " 11863,\n",
       " 3465,\n",
       " 1020,\n",
       " 7120,\n",
       " 1218,\n",
       " 3648,\n",
       " 1286,\n",
       " 210,\n",
       " 1720,\n",
       " 53513,\n",
       " 4,\n",
       " 3145,\n",
       " 5494,\n",
       " 1576,\n",
       " 3027,\n",
       " 9382,\n",
       " 182,\n",
       " 52302,\n",
       " 2593,\n",
       " 7065,\n",
       " 10809,\n",
       " 2355,\n",
       " 30369,\n",
       " 2770,\n",
       " 448,\n",
       " 19732,\n",
       " 4184,\n",
       " 37710,\n",
       " 1089,\n",
       " 1649,\n",
       " 700,\n",
       " 8654,\n",
       " 14461,\n",
       " 7010,\n",
       " 1081,\n",
       " 4543,\n",
       " 6221,\n",
       " 343,\n",
       " 260,\n",
       " 510,\n",
       " 27079,\n",
       " 12635,\n",
       " 8750,\n",
       " 3988,\n",
       " 738,\n",
       " 6217,\n",
       " 386,\n",
       " 438,\n",
       " 12166,\n",
       " 829,\n",
       " 9296,\n",
       " 24327,\n",
       " 2426,\n",
       " 313,\n",
       " 1122,\n",
       " 1784,\n",
       " 3641,\n",
       " 315,\n",
       " 27217,\n",
       " 41126,\n",
       " 14,\n",
       " 818,\n",
       " 21672,\n",
       " 6329,\n",
       " 11213,\n",
       " 13343,\n",
       " 1642,\n",
       " 7151,\n",
       " 8806,\n",
       " 73359,\n",
       " 3486,\n",
       " 1358,\n",
       " 12072,\n",
       " 7080,\n",
       " 7988,\n",
       " 1593,\n",
       " 1170,\n",
       " 38084,\n",
       " 93,\n",
       " 2596,\n",
       " 1221,\n",
       " 204,\n",
       " 3990,\n",
       " 32784,\n",
       " 6858,\n",
       " 1,\n",
       " 5,\n",
       " 2812,\n",
       " 3,\n",
       " 31781,\n",
       " 1213,\n",
       " 395,\n",
       " 105,\n",
       " 11585,\n",
       " 474,\n",
       " 11547,\n",
       " 2038,\n",
       " 6480,\n",
       " 19586,\n",
       " 1108,\n",
       " 2648,\n",
       " 1688,\n",
       " 9602,\n",
       " 2162,\n",
       " 11,\n",
       " 29333,\n",
       " 5261,\n",
       " 21,\n",
       " 1611,\n",
       " 16131,\n",
       " 386,\n",
       " 543,\n",
       " 4455,\n",
       " 38,\n",
       " 850,\n",
       " 14082,\n",
       " 9,\n",
       " 2759,\n",
       " 5581,\n",
       " 20317,\n",
       " 6944,\n",
       " 160,\n",
       " 4397,\n",
       " 64162,\n",
       " 256,\n",
       " 9084,\n",
       " 566,\n",
       " 21,\n",
       " 7824,\n",
       " 5,\n",
       " 35621,\n",
       " 13530,\n",
       " 41975,\n",
       " 12]"
      ]
     },
     "execution_count": 53,
     "metadata": {},
     "output_type": "execute_result"
    }
   ],
   "source": [
    "# # Create projections\n",
    "# follower_projection = nx.projected_graph(B, follower_nodes)\n",
    "# marker_projection = nx.projected_graph(B, marker_nodes)\n",
    "\n"
   ]
  },
  {
   "cell_type": "markdown",
   "metadata": {},
   "source": [
    "### Connectivity in Graph Theory\n",
    "Connectivity is one of the basics in graph theory. Connectivity is related to the question of the minimal number of elements (nodes or edges) needed to separate the remaining nodes into two or more separated subgraphs. The connectedness of a graph is an important measure of ts recilience as a network. "
   ]
  },
  {
   "cell_type": "code",
   "execution_count": null,
   "metadata": {},
   "outputs": [],
   "source": []
  }
 ],
 "metadata": {
  "kernelspec": {
   "display_name": "10.1thesis",
   "language": "python",
   "name": "10.1thesis"
  },
  "language_info": {
   "codemirror_mode": {
    "name": "ipython",
    "version": 3
   },
   "file_extension": ".py",
   "mimetype": "text/x-python",
   "name": "python",
   "nbconvert_exporter": "python",
   "pygments_lexer": "ipython3",
   "version": "3.11.7"
  }
 },
 "nbformat": 4,
 "nbformat_minor": 2
}
